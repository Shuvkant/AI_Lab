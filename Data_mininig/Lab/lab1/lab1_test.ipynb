{
 "cells": [
  {
   "cell_type": "code",
   "execution_count": 1,
   "id": "10f0d541",
   "metadata": {},
   "outputs": [],
   "source": [
    "import pandas as pd"
   ]
  },
  {
   "cell_type": "code",
   "execution_count": 2,
   "id": "d9861ab0",
   "metadata": {},
   "outputs": [],
   "source": [
    "customer_df=pd.read_csv(\"customers.csv\")"
   ]
  },
  {
   "cell_type": "code",
   "execution_count": 3,
   "id": "e5e4bf1d",
   "metadata": {},
   "outputs": [
    {
     "name": "stdout",
     "output_type": "stream",
     "text": [
      "   Customer_ID     Name  Age                Email           City\n",
      "0            1    Alice   28    alice@example.com       New York\n",
      "1            2      Bob   35      bob@example.com    Los Angeles\n",
      "2            3  Charlie   22  charlie@example.com  San Francisco\n",
      "3            4    David   40    david@example.com        Chicago\n",
      "4            5      Eve   29      eve@example.com        Houston\n",
      "5            6    Frank   32    frank@example.com          Miami\n",
      "6            7    Grace   27    grace@example.com        Seattle\n",
      "7            8   Hannah   38   hannah@example.com         Boston\n",
      "8            9      Ian   25                  NaN         Denver\n",
      "9           10     Jack   30     jack@example.com            NaN\n"
     ]
    }
   ],
   "source": [
    "print(customer_df)"
   ]
  },
  {
   "cell_type": "code",
   "execution_count": 4,
   "id": "b39e7025",
   "metadata": {},
   "outputs": [
    {
     "name": "stdout",
     "output_type": "stream",
     "text": [
      "Customer_ID    0\n",
      "Name           0\n",
      "Age            0\n",
      "Email          1\n",
      "City           1\n",
      "dtype: int64\n"
     ]
    }
   ],
   "source": [
    "print(customer_df.isnull().sum())"
   ]
  },
  {
   "cell_type": "code",
   "execution_count": 5,
   "id": "4e83ddca",
   "metadata": {},
   "outputs": [],
   "source": [
    "# Drop rows with missing \"Email\"\n",
    "customer_df=customer_df.dropna()"
   ]
  },
  {
   "cell_type": "code",
   "execution_count": 6,
   "id": "dc553d8a",
   "metadata": {},
   "outputs": [
    {
     "data": {
      "text/plain": [
       "0           Boston\n",
       "1          Chicago\n",
       "2          Houston\n",
       "3      Los Angeles\n",
       "4            Miami\n",
       "5         New York\n",
       "6    San Francisco\n",
       "7          Seattle\n",
       "Name: City, dtype: object"
      ]
     },
     "execution_count": 6,
     "metadata": {},
     "output_type": "execute_result"
    }
   ],
   "source": [
    "customer_df['City'].mode()"
   ]
  },
  {
   "cell_type": "code",
   "execution_count": 7,
   "id": "69f69fac",
   "metadata": {},
   "outputs": [
    {
     "data": {
      "text/plain": [
       "0         New York\n",
       "1      Los Angeles\n",
       "2    San Francisco\n",
       "3          Chicago\n",
       "4          Houston\n",
       "5            Miami\n",
       "6          Seattle\n",
       "7           Boston\n",
       "Name: City, dtype: object"
      ]
     },
     "execution_count": 7,
     "metadata": {},
     "output_type": "execute_result"
    }
   ],
   "source": [
    "customer_df[\"City\"]"
   ]
  },
  {
   "cell_type": "code",
   "execution_count": 8,
   "id": "3c7816c2",
   "metadata": {},
   "outputs": [],
   "source": [
    "customer_df['City']=customer_df[\"City\"].fillna('Unknown')"
   ]
  },
  {
   "cell_type": "code",
   "execution_count": 9,
   "id": "7c684d56",
   "metadata": {},
   "outputs": [
    {
     "name": "stdout",
     "output_type": "stream",
     "text": [
      "   Customer_ID     Name  Age                Email           City\n",
      "0            1    Alice   28    alice@example.com       New York\n",
      "1            2      Bob   35      bob@example.com    Los Angeles\n",
      "2            3  Charlie   22  charlie@example.com  San Francisco\n",
      "3            4    David   40    david@example.com        Chicago\n",
      "4            5      Eve   29      eve@example.com        Houston\n",
      "5            6    Frank   32    frank@example.com          Miami\n",
      "6            7    Grace   27    grace@example.com        Seattle\n",
      "7            8   Hannah   38   hannah@example.com         Boston\n"
     ]
    }
   ],
   "source": [
    "print(customer_df)"
   ]
  },
  {
   "cell_type": "code",
   "execution_count": 10,
   "id": "17656700",
   "metadata": {},
   "outputs": [
    {
     "data": {
      "text/plain": [
       "array([28, 35, 22, 40, 29, 32, 27, 38])"
      ]
     },
     "execution_count": 10,
     "metadata": {},
     "output_type": "execute_result"
    }
   ],
   "source": [
    "customer_df[\"Age\"].unique()"
   ]
  },
  {
   "cell_type": "code",
   "execution_count": 11,
   "id": "4270606c",
   "metadata": {},
   "outputs": [
    {
     "data": {
      "text/plain": [
       "Age\n",
       "28    1\n",
       "35    1\n",
       "22    1\n",
       "40    1\n",
       "29    1\n",
       "32    1\n",
       "27    1\n",
       "38    1\n",
       "Name: count, dtype: int64"
      ]
     },
     "execution_count": 11,
     "metadata": {},
     "output_type": "execute_result"
    }
   ],
   "source": [
    "customer_df[\"Age\"].value_counts()"
   ]
  },
  {
   "cell_type": "code",
   "execution_count": 12,
   "id": "06c1938e",
   "metadata": {},
   "outputs": [],
   "source": [
    "# Storing the changed DataFrame\n",
    "\n",
    "customer_df.to_csv(\"output_customers.csv\", index=False)"
   ]
  },
  {
   "cell_type": "code",
   "execution_count": 13,
   "id": "b5116d9c",
   "metadata": {},
   "outputs": [],
   "source": [
    "employee_df=pd.read_csv(\"employee.csv\")"
   ]
  },
  {
   "cell_type": "code",
   "execution_count": 14,
   "id": "281b680d",
   "metadata": {},
   "outputs": [
    {
     "name": "stdout",
     "output_type": "stream",
     "text": [
      "ID                  0\n",
      "Name                0\n",
      "Age                 9\n",
      "Salary              7\n",
      "Department          0\n",
      "Joining_Date        0\n",
      "Experience_Years    0\n",
      "dtype: int64\n"
     ]
    }
   ],
   "source": [
    "print(employee_df.isnull().sum())"
   ]
  },
  {
   "cell_type": "code",
   "execution_count": 15,
   "id": "7072f208",
   "metadata": {},
   "outputs": [
    {
     "name": "stdout",
     "output_type": "stream",
     "text": [
      "     ID   Name   Age   Salary Department Joining_Date  Experience_Years\n",
      "0     1    Eve  25.0  55000.0    Finance   2015-01-31                 2\n",
      "1     2    Bob  35.0  65000.0  Marketing   2015-02-28                 6\n",
      "2     3  David  40.0  60000.0    Finance   2015-03-31                 3\n",
      "3     4  David  30.0  70000.0    Finance   2015-04-30                 2\n",
      "4     5  Frank  40.0  70000.0    Finance   2015-05-31                13\n",
      "..  ...    ...   ...      ...        ...          ...               ...\n",
      "95   96  Helen  45.0  90000.0      Sales   2022-12-31                 9\n",
      "96   97   Jack  30.0  80000.0  Marketing   2023-01-31                 6\n",
      "97   98    Eve  25.0  70000.0      Sales   2023-02-28                 1\n",
      "98   99  Grace   NaN  70000.0         IT   2023-03-31                12\n",
      "99  100  Grace   NaN  72000.0         IT   2023-04-30                12\n",
      "\n",
      "[100 rows x 7 columns]\n"
     ]
    }
   ],
   "source": [
    "print(employee_df)"
   ]
  },
  {
   "cell_type": "code",
   "execution_count": 16,
   "id": "fc3f9cd4",
   "metadata": {},
   "outputs": [],
   "source": [
    "employee_df['Salary']=employee_df['Salary'].fillna(employee_df['Salary'].mean())"
   ]
  },
  {
   "cell_type": "code",
   "execution_count": 17,
   "id": "0a490de5",
   "metadata": {},
   "outputs": [
    {
     "name": "stdout",
     "output_type": "stream",
     "text": [
      "ID                  0\n",
      "Name                0\n",
      "Age                 9\n",
      "Salary              0\n",
      "Department          0\n",
      "Joining_Date        0\n",
      "Experience_Years    0\n",
      "dtype: int64\n"
     ]
    }
   ],
   "source": [
    "print(employee_df.isnull().sum())"
   ]
  },
  {
   "cell_type": "code",
   "execution_count": 18,
   "id": "1fda94fd",
   "metadata": {},
   "outputs": [],
   "source": [
    "employee_df['Age']=employee_df['Age'].fillna(employee_df['Age'].mode()[0])"
   ]
  },
  {
   "cell_type": "code",
   "execution_count": 19,
   "id": "5e071251",
   "metadata": {},
   "outputs": [
    {
     "name": "stdout",
     "output_type": "stream",
     "text": [
      "     ID   Name   Age   Salary Department Joining_Date  Experience_Years\n",
      "0     1    Eve  25.0  55000.0    Finance   2015-01-31                 2\n",
      "1     2    Bob  35.0  65000.0  Marketing   2015-02-28                 6\n",
      "2     3  David  40.0  60000.0    Finance   2015-03-31                 3\n",
      "3     4  David  30.0  70000.0    Finance   2015-04-30                 2\n",
      "4     5  Frank  40.0  70000.0    Finance   2015-05-31                13\n",
      "..  ...    ...   ...      ...        ...          ...               ...\n",
      "95   96  Helen  45.0  90000.0      Sales   2022-12-31                 9\n",
      "96   97   Jack  30.0  80000.0  Marketing   2023-01-31                 6\n",
      "97   98    Eve  25.0  70000.0      Sales   2023-02-28                 1\n",
      "98   99  Grace  50.0  70000.0         IT   2023-03-31                12\n",
      "99  100  Grace  50.0  72000.0         IT   2023-04-30                12\n",
      "\n",
      "[100 rows x 7 columns]\n"
     ]
    }
   ],
   "source": [
    "print(employee_df)"
   ]
  },
  {
   "cell_type": "code",
   "execution_count": 20,
   "id": "3cb9bd18",
   "metadata": {},
   "outputs": [
    {
     "name": "stdout",
     "output_type": "stream",
     "text": [
      "ID                  0\n",
      "Name                0\n",
      "Age                 0\n",
      "Salary              0\n",
      "Department          0\n",
      "Joining_Date        0\n",
      "Experience_Years    0\n",
      "dtype: int64\n"
     ]
    }
   ],
   "source": [
    "print(employee_df.isnull().sum())"
   ]
  },
  {
   "cell_type": "code",
   "execution_count": 21,
   "id": "e111d6a9",
   "metadata": {},
   "outputs": [],
   "source": [
    "employee_df.to_csv(\"Employee_modified.csv\", index=False)"
   ]
  },
  {
   "cell_type": "code",
   "execution_count": 22,
   "id": "857a14f9",
   "metadata": {},
   "outputs": [
    {
     "data": {
      "text/html": [
       "<div>\n",
       "<style scoped>\n",
       "    .dataframe tbody tr th:only-of-type {\n",
       "        vertical-align: middle;\n",
       "    }\n",
       "\n",
       "    .dataframe tbody tr th {\n",
       "        vertical-align: top;\n",
       "    }\n",
       "\n",
       "    .dataframe thead th {\n",
       "        text-align: right;\n",
       "    }\n",
       "</style>\n",
       "<table border=\"1\" class=\"dataframe\">\n",
       "  <thead>\n",
       "    <tr style=\"text-align: right;\">\n",
       "      <th></th>\n",
       "      <th>ID</th>\n",
       "      <th>Name</th>\n",
       "      <th>Age</th>\n",
       "      <th>Salary</th>\n",
       "      <th>Department</th>\n",
       "      <th>Joining_Date</th>\n",
       "      <th>Experience_Years</th>\n",
       "    </tr>\n",
       "  </thead>\n",
       "  <tbody>\n",
       "    <tr>\n",
       "      <th>38</th>\n",
       "      <td>39</td>\n",
       "      <td>Bob</td>\n",
       "      <td>45.0</td>\n",
       "      <td>66956.989247</td>\n",
       "      <td>Sales</td>\n",
       "      <td>2018-03-31</td>\n",
       "      <td>12</td>\n",
       "    </tr>\n",
       "  </tbody>\n",
       "</table>\n",
       "</div>"
      ],
      "text/plain": [
       "    ID Name   Age        Salary Department Joining_Date  Experience_Years\n",
       "38  39  Bob  45.0  66956.989247      Sales   2018-03-31                12"
      ]
     },
     "execution_count": 22,
     "metadata": {},
     "output_type": "execute_result"
    }
   ],
   "source": [
    "# Add a new column in \"Age in five years\"\n",
    "\n",
    "employee_df.sample()"
   ]
  },
  {
   "cell_type": "code",
   "execution_count": 23,
   "id": "3f4b5930",
   "metadata": {},
   "outputs": [],
   "source": [
    "employee_df[\"Age in 5years\"]=employee_df[\"Age\"]+5"
   ]
  },
  {
   "cell_type": "code",
   "execution_count": 24,
   "id": "536ca766",
   "metadata": {},
   "outputs": [
    {
     "name": "stdout",
     "output_type": "stream",
     "text": [
      "     ID   Name   Age   Salary Department Joining_Date  Experience_Years  \\\n",
      "0     1    Eve  25.0  55000.0    Finance   2015-01-31                 2   \n",
      "1     2    Bob  35.0  65000.0  Marketing   2015-02-28                 6   \n",
      "2     3  David  40.0  60000.0    Finance   2015-03-31                 3   \n",
      "3     4  David  30.0  70000.0    Finance   2015-04-30                 2   \n",
      "4     5  Frank  40.0  70000.0    Finance   2015-05-31                13   \n",
      "..  ...    ...   ...      ...        ...          ...               ...   \n",
      "95   96  Helen  45.0  90000.0      Sales   2022-12-31                 9   \n",
      "96   97   Jack  30.0  80000.0  Marketing   2023-01-31                 6   \n",
      "97   98    Eve  25.0  70000.0      Sales   2023-02-28                 1   \n",
      "98   99  Grace  50.0  70000.0         IT   2023-03-31                12   \n",
      "99  100  Grace  50.0  72000.0         IT   2023-04-30                12   \n",
      "\n",
      "    Age in 5years  \n",
      "0            30.0  \n",
      "1            40.0  \n",
      "2            45.0  \n",
      "3            35.0  \n",
      "4            45.0  \n",
      "..            ...  \n",
      "95           50.0  \n",
      "96           35.0  \n",
      "97           30.0  \n",
      "98           55.0  \n",
      "99           55.0  \n",
      "\n",
      "[100 rows x 8 columns]\n"
     ]
    }
   ],
   "source": [
    "print(employee_df)"
   ]
  },
  {
   "cell_type": "code",
   "execution_count": 25,
   "id": "4ad654e2",
   "metadata": {},
   "outputs": [
    {
     "name": "stdout",
     "output_type": "stream",
     "text": [
      "     ID   Name   Age   Salary Department Joining_Date  Experience_Years  \\\n",
      "0     1    Eve  25.0  55000.0    Finance   2015-01-31                 2   \n",
      "1     2    Bob  35.0  65000.0  Marketing   2015-02-28                 6   \n",
      "2     3  David  40.0  60000.0    Finance   2015-03-31                 3   \n",
      "3     4  David  30.0  70000.0    Finance   2015-04-30                 2   \n",
      "4     5  Frank  40.0  70000.0    Finance   2015-05-31                13   \n",
      "..  ...    ...   ...      ...        ...          ...               ...   \n",
      "95   96  Helen  45.0  90000.0      Sales   2022-12-31                 9   \n",
      "96   97   Jack  30.0  80000.0  Marketing   2023-01-31                 6   \n",
      "97   98    Eve  25.0  70000.0      Sales   2023-02-28                 1   \n",
      "98   99  Grace  50.0  70000.0         IT   2023-03-31                12   \n",
      "99  100  Grace  50.0  72000.0         IT   2023-04-30                12   \n",
      "\n",
      "    Age in 5years  \n",
      "0            30.0  \n",
      "1            40.0  \n",
      "2            45.0  \n",
      "3            35.0  \n",
      "4            45.0  \n",
      "..            ...  \n",
      "95           50.0  \n",
      "96           35.0  \n",
      "97           30.0  \n",
      "98           55.0  \n",
      "99           55.0  \n",
      "\n",
      "[100 rows x 8 columns]\n"
     ]
    }
   ],
   "source": [
    "print(employee_df)"
   ]
  },
  {
   "cell_type": "code",
   "execution_count": 26,
   "id": "6ec7d649",
   "metadata": {},
   "outputs": [],
   "source": [
    "employee_df = employee_df.drop(columns=['Age in 5years'])"
   ]
  },
  {
   "cell_type": "code",
   "execution_count": 27,
   "id": "23811c55",
   "metadata": {},
   "outputs": [
    {
     "name": "stdout",
     "output_type": "stream",
     "text": [
      "     ID   Name   Age   Salary Department Joining_Date  Experience_Years\n",
      "0     1    Eve  25.0  55000.0    Finance   2015-01-31                 2\n",
      "1     2    Bob  35.0  65000.0  Marketing   2015-02-28                 6\n",
      "2     3  David  40.0  60000.0    Finance   2015-03-31                 3\n",
      "3     4  David  30.0  70000.0    Finance   2015-04-30                 2\n",
      "4     5  Frank  40.0  70000.0    Finance   2015-05-31                13\n",
      "..  ...    ...   ...      ...        ...          ...               ...\n",
      "95   96  Helen  45.0  90000.0      Sales   2022-12-31                 9\n",
      "96   97   Jack  30.0  80000.0  Marketing   2023-01-31                 6\n",
      "97   98    Eve  25.0  70000.0      Sales   2023-02-28                 1\n",
      "98   99  Grace  50.0  70000.0         IT   2023-03-31                12\n",
      "99  100  Grace  50.0  72000.0         IT   2023-04-30                12\n",
      "\n",
      "[100 rows x 7 columns]\n"
     ]
    }
   ],
   "source": [
    "print(employee_df)"
   ]
  },
  {
   "cell_type": "code",
   "execution_count": 28,
   "id": "57f5707d",
   "metadata": {},
   "outputs": [],
   "source": [
    "# employee_df=employee_df.drop(columns=[\"Age in % years\"])"
   ]
  },
  {
   "cell_type": "code",
   "execution_count": 29,
   "id": "00c1e70c",
   "metadata": {},
   "outputs": [
    {
     "name": "stdout",
     "output_type": "stream",
     "text": [
      "     ID   Name   Age   Salary Department Joining_Date  Experience_Years\n",
      "0     1    Eve  25.0  55000.0    Finance   2015-01-31                 2\n",
      "1     2    Bob  35.0  65000.0  Marketing   2015-02-28                 6\n",
      "2     3  David  40.0  60000.0    Finance   2015-03-31                 3\n",
      "3     4  David  30.0  70000.0    Finance   2015-04-30                 2\n",
      "4     5  Frank  40.0  70000.0    Finance   2015-05-31                13\n",
      "..  ...    ...   ...      ...        ...          ...               ...\n",
      "95   96  Helen  45.0  90000.0      Sales   2022-12-31                 9\n",
      "96   97   Jack  30.0  80000.0  Marketing   2023-01-31                 6\n",
      "97   98    Eve  25.0  70000.0      Sales   2023-02-28                 1\n",
      "98   99  Grace  50.0  70000.0         IT   2023-03-31                12\n",
      "99  100  Grace  50.0  72000.0         IT   2023-04-30                12\n",
      "\n",
      "[100 rows x 7 columns]\n"
     ]
    }
   ],
   "source": [
    "print(employee_df)"
   ]
  },
  {
   "cell_type": "code",
   "execution_count": 30,
   "id": "72a1fe8c",
   "metadata": {},
   "outputs": [],
   "source": [
    "employee_df_department=employee_df[employee_df[\"Department\"]==\"IT\"]"
   ]
  },
  {
   "cell_type": "code",
   "execution_count": 31,
   "id": "5aa9286c",
   "metadata": {},
   "outputs": [
    {
     "name": "stdout",
     "output_type": "stream",
     "text": [
      "     ID     Name   Age   Salary Department Joining_Date  Experience_Years\n",
      "6     7    Grace  25.0  50000.0         IT   2015-07-31                 6\n",
      "12   13     Jack  40.0  50000.0         IT   2016-01-31                 6\n",
      "20   21      Eve  35.0  55000.0         IT   2016-09-30                14\n",
      "24   25  Charlie  40.0  55000.0         IT   2017-01-31                13\n",
      "26   27    David  30.0  65000.0         IT   2017-03-31                11\n",
      "33   34    David  50.0  50000.0         IT   2017-10-31                 7\n",
      "39   40    Grace  35.0  55000.0         IT   2018-04-30                 4\n",
      "48   49    Grace  30.0  65000.0         IT   2019-01-31                 2\n",
      "65   66    David  50.0  50000.0         IT   2020-06-30                 8\n",
      "78   79    Helen  50.0  90000.0         IT   2021-07-31                13\n",
      "79   80  Charlie  50.0  90000.0         IT   2021-08-31                 8\n",
      "86   87  Charlie  45.0  70000.0         IT   2022-03-31                13\n",
      "89   90    Alice  50.0  70000.0         IT   2022-06-30                 4\n",
      "98   99    Grace  50.0  70000.0         IT   2023-03-31                12\n",
      "99  100    Grace  50.0  72000.0         IT   2023-04-30                12\n"
     ]
    }
   ],
   "source": [
    "print(employee_df_department)"
   ]
  },
  {
   "cell_type": "code",
   "execution_count": 32,
   "id": "7f0082f2",
   "metadata": {},
   "outputs": [
    {
     "data": {
      "text/plain": [
       "0     55000.0\n",
       "1     65000.0\n",
       "2     60000.0\n",
       "3     70000.0\n",
       "4     70000.0\n",
       "       ...   \n",
       "95    90000.0\n",
       "96    80000.0\n",
       "97    70000.0\n",
       "98    70000.0\n",
       "99    72000.0\n",
       "Name: Salary, Length: 100, dtype: float64"
      ]
     },
     "execution_count": 32,
     "metadata": {},
     "output_type": "execute_result"
    }
   ],
   "source": [
    "def categorize_salary(salary):\n",
    "    if salary>70000:\n",
    "        return \"High\"\n",
    "    else:\n",
    "        return \"Low\"\n",
    "    \n",
    "employee_df['Salary']"
   ]
  },
  {
   "cell_type": "code",
   "execution_count": 33,
   "id": "b9733210",
   "metadata": {},
   "outputs": [],
   "source": [
    "import matplotlib.pyplot as plt\n",
    "import numpy as np"
   ]
  },
  {
   "cell_type": "code",
   "execution_count": 35,
   "id": "d9ec342e",
   "metadata": {},
   "outputs": [
    {
     "data": {
      "image/png": "[encoded data removed]",
      "text/plain": [
       "<Figure size 640x480 with 1 Axes>"
      ]
     },
     "metadata": {},
     "output_type": "display_data"
    }
   ],
   "source": [
    "X=np.arange(1,11)\n",
    "y1=np.power(X,2)\n",
    "y2=np.power(X,3)\n",
    "plt.plot(X,y1, color=\"blue\", label=\"X squared\")\n",
    "plt.plot(X,y2, color=\"red\", label=\"X cubed\")\n",
    "plt.xlabel(\"x\")\n",
    "plt.ylabel(\"x\")\n",
    "plt.show()"
   ]
  },
  {
   "cell_type": "code",
   "execution_count": 36,
   "id": "cd7bf02e",
   "metadata": {},
   "outputs": [],
   "source": [
    "categories=[\"A\", \"B\", \"C\", \"D\"]\n",
    "plt.show()"
   ]
  },
  {
   "cell_type": "code",
   "execution_count": 37,
   "id": "077891ff",
   "metadata": {},
   "outputs": [
    {
     "data": {
      "image/png": "[encoded data removed]",
      "text/plain": [
       "<Figure size 640x480 with 1 Axes>"
      ]
     },
     "metadata": {},
     "output_type": "display_data"
    }
   ],
   "source": [
    "# plot a historgram\n",
    "data=np.random.randn(1000)\n",
    "plt.hist(data,bins=10, color='purple', edgecolor=\"black\")\n",
    "plt.show()"
   ]
  },
  {
   "cell_type": "code",
   "execution_count": 40,
   "id": "15230b57",
   "metadata": {},
   "outputs": [
    {
     "ename": "ValueError",
     "evalue": "Single argument to subplot must be a three-digit integer, not 2",
     "output_type": "error",
     "traceback": [
      "\u001b[0;31m---------------------------------------------------------------------------\u001b[0m",
      "\u001b[0;31mValueError\u001b[0m                                Traceback (most recent call last)",
      "Cell \u001b[0;32mIn[40], line 2\u001b[0m\n\u001b[1;32m      1\u001b[0m \u001b[38;5;66;03m# Create subplots ( 2 rows , 1 colums)\u001b[39;00m\n\u001b[0;32m----> 2\u001b[0m fig, (ax1, ax2)\u001b[38;5;241m=\u001b[39m\u001b[43mplt\u001b[49m\u001b[38;5;241;43m.\u001b[39;49m\u001b[43mSubplot\u001b[49m\u001b[43m(\u001b[49m\u001b[38;5;241;43m2\u001b[39;49m\u001b[43m,\u001b[49m\u001b[38;5;241;43m2\u001b[39;49m\u001b[43m)\u001b[49m\n\u001b[1;32m      4\u001b[0m \u001b[38;5;66;03m# plot the first subplot\u001b[39;00m\n\u001b[1;32m      5\u001b[0m ax1\u001b[38;5;241m.\u001b[39mplot(X,y1, color\u001b[38;5;241m=\u001b[39m\u001b[38;5;124m\"\u001b[39m\u001b[38;5;124mred\u001b[39m\u001b[38;5;124m\"\u001b[39m)\n",
      "File \u001b[0;32m~/miniforge3/envs/tfenv/lib/python3.8/site-packages/matplotlib/axes/_base.py:644\u001b[0m, in \u001b[0;36m_AxesBase.__init__\u001b[0;34m(self, fig, facecolor, frameon, sharex, sharey, label, xscale, yscale, box_aspect, *args, **kwargs)\u001b[0m\n\u001b[1;32m    642\u001b[0m \u001b[38;5;28;01melse\u001b[39;00m:\n\u001b[1;32m    643\u001b[0m     \u001b[38;5;28mself\u001b[39m\u001b[38;5;241m.\u001b[39m_position \u001b[38;5;241m=\u001b[39m \u001b[38;5;28mself\u001b[39m\u001b[38;5;241m.\u001b[39m_originalPosition \u001b[38;5;241m=\u001b[39m mtransforms\u001b[38;5;241m.\u001b[39mBbox\u001b[38;5;241m.\u001b[39munit()\n\u001b[0;32m--> 644\u001b[0m     subplotspec \u001b[38;5;241m=\u001b[39m \u001b[43mSubplotSpec\u001b[49m\u001b[38;5;241;43m.\u001b[39;49m\u001b[43m_from_subplot_args\u001b[49m\u001b[43m(\u001b[49m\u001b[43mfig\u001b[49m\u001b[43m,\u001b[49m\u001b[43m \u001b[49m\u001b[43margs\u001b[49m\u001b[43m)\u001b[49m\n\u001b[1;32m    645\u001b[0m \u001b[38;5;28;01mif\u001b[39;00m \u001b[38;5;28mself\u001b[39m\u001b[38;5;241m.\u001b[39m_position\u001b[38;5;241m.\u001b[39mwidth \u001b[38;5;241m<\u001b[39m \u001b[38;5;241m0\u001b[39m \u001b[38;5;129;01mor\u001b[39;00m \u001b[38;5;28mself\u001b[39m\u001b[38;5;241m.\u001b[39m_position\u001b[38;5;241m.\u001b[39mheight \u001b[38;5;241m<\u001b[39m \u001b[38;5;241m0\u001b[39m:\n\u001b[1;32m    646\u001b[0m     \u001b[38;5;28;01mraise\u001b[39;00m \u001b[38;5;167;01mValueError\u001b[39;00m(\u001b[38;5;124m'\u001b[39m\u001b[38;5;124mWidth and height specified must be non-negative\u001b[39m\u001b[38;5;124m'\u001b[39m)\n",
      "File \u001b[0;32m~/miniforge3/envs/tfenv/lib/python3.8/site-packages/matplotlib/gridspec.py:581\u001b[0m, in \u001b[0;36mSubplotSpec._from_subplot_args\u001b[0;34m(figure, args)\u001b[0m\n\u001b[1;32m    579\u001b[0m         rows, cols, num \u001b[38;5;241m=\u001b[39m \u001b[38;5;28mmap\u001b[39m(\u001b[38;5;28mint\u001b[39m, \u001b[38;5;28mstr\u001b[39m(arg))\n\u001b[1;32m    580\u001b[0m     \u001b[38;5;28;01mexcept\u001b[39;00m \u001b[38;5;167;01mValueError\u001b[39;00m:\n\u001b[0;32m--> 581\u001b[0m         \u001b[38;5;28;01mraise\u001b[39;00m \u001b[38;5;167;01mValueError\u001b[39;00m(\n\u001b[1;32m    582\u001b[0m             \u001b[38;5;124mf\u001b[39m\u001b[38;5;124m\"\u001b[39m\u001b[38;5;124mSingle argument to subplot must be a three-digit \u001b[39m\u001b[38;5;124m\"\u001b[39m\n\u001b[1;32m    583\u001b[0m             \u001b[38;5;124mf\u001b[39m\u001b[38;5;124m\"\u001b[39m\u001b[38;5;124minteger, not \u001b[39m\u001b[38;5;132;01m{\u001b[39;00marg\u001b[38;5;132;01m!r}\u001b[39;00m\u001b[38;5;124m\"\u001b[39m) \u001b[38;5;28;01mfrom\u001b[39;00m \u001b[38;5;28;01mNone\u001b[39;00m\n\u001b[1;32m    584\u001b[0m \u001b[38;5;28;01melif\u001b[39;00m \u001b[38;5;28mlen\u001b[39m(args) \u001b[38;5;241m==\u001b[39m \u001b[38;5;241m3\u001b[39m:\n\u001b[1;32m    585\u001b[0m     rows, cols, num \u001b[38;5;241m=\u001b[39m args\n",
      "\u001b[0;31mValueError\u001b[0m: Single argument to subplot must be a three-digit integer, not 2"
     ]
    }
   ],
   "source": [
    "# Create subplots ( 2 rows , 1 colums)\n",
    "fig, (ax1, ax2)=plt.Subplot(2,2)\n",
    "\n",
    "# plot the first subplot\n",
    "ax1.plot(X,y1, color=\"red\")\n",
    "ax1.set_title(\"Plot 1 :y=X^2\")\n",
    "\n",
    "# plot the first subplot\n",
    "ax1.plot(X,y2, color=\"red\")\n",
    "ax1.set_title(\"Plot 1 :y=X^2\")"
   ]
  },
  {
   "cell_type": "code",
   "execution_count": 45,
   "id": "6940c154",
   "metadata": {},
   "outputs": [
    {
     "data": {
      "image/png": "[encoded data removed]",
      "text/plain": [
       "<Figure size 640x480 with 1 Axes>"
      ]
     },
     "metadata": {},
     "output_type": "display_data"
    }
   ],
   "source": [
    "\n",
    "# Box plot\n",
    "data=np.random.rand(100) \n",
    "plt.boxplot(data, vert=False)\n",
    "plt.show()"
   ]
  },
  {
   "cell_type": "code",
   "execution_count": 44,
   "id": "1524367e",
   "metadata": {},
   "outputs": [
    {
     "data": {
      "text/plain": [
       "0.9708515447951382"
      ]
     },
     "execution_count": 44,
     "metadata": {},
     "output_type": "execute_result"
    }
   ],
   "source": [
    "max(data)"
   ]
  },
  {
   "cell_type": "code",
   "execution_count": null,
   "id": "b9b8ebbc",
   "metadata": {},
   "outputs": [],
   "source": []
  }
 ],
 "metadata": {
  "kernelspec": {
   "display_name": "tfenv",
   "language": "python",
   "name": "python3"
  },
  "language_info": {
   "codemirror_mode": {
    "name": "ipython",
    "version": 3
   },
   "file_extension": ".py",
   "mimetype": "text/x-python",
   "name": "python",
   "nbconvert_exporter": "python",
   "pygments_lexer": "ipython3",
   "version": "3.8.20"
  }
 },
 "nbformat": 4,
 "nbformat_minor": 5
}

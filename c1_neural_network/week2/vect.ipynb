{
 "cells": [
  {
   "cell_type": "code",
   "execution_count": 1,
   "id": "ab012c24",
   "metadata": {},
   "outputs": [
    {
     "name": "stdout",
     "output_type": "stream",
     "text": [
      "a is [0.44621481 0.96971604 0.30457684 ... 0.48818216 0.73048591 0.3857324 ] and b is [0.89536668 0.27568849 0.49029985 ... 0.6904724  0.81802186 0.70540827] \n"
     ]
    }
   ],
   "source": [
    "import numpy as np\n",
    "a=np.random.rand(1000000000)\n",
    "b=np.random.rand(1000000000)\n",
    "print(f\"a is {a} and b is {b} \")"
   ]
  },
  {
   "cell_type": "code",
   "execution_count": 2,
   "id": "6e5c88d5",
   "metadata": {},
   "outputs": [
    {
     "name": "stdout",
     "output_type": "stream",
     "text": [
      "The value is 249988342.7800781\n",
      "The time taken in vectorized form is 79.80030798912048 miliseconds\n"
     ]
    }
   ],
   "source": [
    "import time\n",
    "tic=time.time()\n",
    "vectorized_value=np.dot(a,b)\n",
    "toc=time.time()\n",
    "print(f\"The value is {vectorized_value}\")\n",
    "print(f\"The time taken in vectorized form is {toc-tic} miliseconds\" )"
   ]
  },
  {
   "cell_type": "markdown",
   "id": "6091c741",
   "metadata": {},
   "source": [
    "##  The time is in *seconds not in miliseconds"
   ]
  },
  {
   "cell_type": "code",
   "execution_count": 3,
   "id": "847d0f8d",
   "metadata": {},
   "outputs": [
    {
     "name": "stdout",
     "output_type": "stream",
     "text": [
      "The value is 249988342.7797755\n",
      "The time taken in vectorized form is 240.09452390670776 miliseconds\n"
     ]
    }
   ],
   "source": [
    "#By using loop form \n",
    "tic_loop=time.time()\n",
    "loop_mul=0\n",
    "for i in range(1000000000):\n",
    "    loop_mul+=a[i]*b[i]\n",
    "    \n",
    "toc_loop=time.time()\n",
    "print(f\"The value is {loop_mul}\")\n",
    "print(f\"The time taken in vectorized form is {toc_loop-tic_loop} miliseconds\" )"
   ]
  }
 ],
 "metadata": {
  "kernelspec": {
   "display_name": "tfenv",
   "language": "python",
   "name": "python3"
  },
  "language_info": {
   "codemirror_mode": {
    "name": "ipython",
    "version": 3
   },
   "file_extension": ".py",
   "mimetype": "text/x-python",
   "name": "python",
   "nbconvert_exporter": "python",
   "pygments_lexer": "ipython3",
   "version": "3.8.20"
  }
 },
 "nbformat": 4,
 "nbformat_minor": 5
}

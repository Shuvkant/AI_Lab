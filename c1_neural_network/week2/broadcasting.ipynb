{
 "cells": [
  {
   "cell_type": "code",
   "execution_count": 1,
   "id": "56cf72b4",
   "metadata": {},
   "outputs": [
    {
     "name": "stdout",
     "output_type": "stream",
     "text": [
      "Apples: Carbs=56.0, Protein=1.2, Fat=1.8\n",
      "Beef: Carbs=0.0, Protein=104.0, Fat=135.0\n",
      "Eggs: Carbs=4.4, Protein=52.0, Fat=99.0\n",
      "Potatoes: Carbs=68.0, Protein=8.0, Fat=0.9\n"
     ]
    }
   ],
   "source": [
    "# Nutritional values: [Carbs, Protein, Fat]\n",
    "foods = {\n",
    "    \"Apples\":   [56.0, 1.2, 1.8],\n",
    "    \"Beef\":     [0.0, 104.0, 135.0],\n",
    "    \"Eggs\":     [4.4, 52.0, 99.0],\n",
    "    \"Potatoes\": [68.0, 8.0, 0.9]\n",
    "}\n",
    "\n",
    "# Display the values\n",
    "for food, values in foods.items():\n",
    "    print(f\"{food}: Carbs={values[0]}, Protein={values[1]}, Fat={values[2]}\")\n"
   ]
  },
  {
   "cell_type": "code",
   "execution_count": 2,
   "id": "ff3bcb79",
   "metadata": {},
   "outputs": [],
   "source": [
    "import numpy as np\n",
    "A=np.array([[56.0, 0.0, 4.4, 68.0], [1.2, 104.0,52.0,8.0], [1.8, 135.0, 99.0, 0.9]])\n"
   ]
  },
  {
   "cell_type": "code",
   "execution_count": 3,
   "id": "319f782b",
   "metadata": {},
   "outputs": [
    {
     "name": "stdout",
     "output_type": "stream",
     "text": [
      "[[ 56.    0.    4.4  68. ]\n",
      " [  1.2 104.   52.    8. ]\n",
      " [  1.8 135.   99.    0.9]]\n"
     ]
    }
   ],
   "source": [
    "print(A)"
   ]
  },
  {
   "cell_type": "code",
   "execution_count": 5,
   "id": "14f72b82",
   "metadata": {},
   "outputs": [
    {
     "name": "stdout",
     "output_type": "stream",
     "text": [
      "[ 59.  239.  155.4  76.9]\n"
     ]
    }
   ],
   "source": [
    "cal=A.sum(axis=0)\n",
    "print(cal)"
   ]
  },
  {
   "cell_type": "code",
   "execution_count": 7,
   "id": "972f4ece",
   "metadata": {},
   "outputs": [
    {
     "name": "stdout",
     "output_type": "stream",
     "text": [
      "[[ 59.  239.  155.4  76.9]]\n"
     ]
    }
   ],
   "source": [
    "cal_reshape=cal.reshape(1,4)\n",
    "print(cal_reshape)"
   ]
  },
  {
   "cell_type": "code",
   "execution_count": 6,
   "id": "4c63ac93",
   "metadata": {},
   "outputs": [
    {
     "name": "stdout",
     "output_type": "stream",
     "text": [
      "[[94.91525424  0.          2.83140283 88.42652796]\n",
      " [ 2.03389831 43.51464435 33.46203346 10.40312094]\n",
      " [ 3.05084746 56.48535565 63.70656371  1.17035111]]\n"
     ]
    }
   ],
   "source": [
    "percentage=100*A/cal.reshape(1,4)\n",
    "print(percentage)"
   ]
  },
  {
   "cell_type": "code",
   "execution_count": null,
   "id": "0c43deac",
   "metadata": {},
   "outputs": [],
   "source": []
  }
 ],
 "metadata": {
  "kernelspec": {
   "display_name": "tfenv",
   "language": "python",
   "name": "python3"
  },
  "language_info": {
   "codemirror_mode": {
    "name": "ipython",
    "version": 3
   },
   "file_extension": ".py",
   "mimetype": "text/x-python",
   "name": "python",
   "nbconvert_exporter": "python",
   "pygments_lexer": "ipython3",
   "version": "3.8.20"
  }
 },
 "nbformat": 4,
 "nbformat_minor": 5
}

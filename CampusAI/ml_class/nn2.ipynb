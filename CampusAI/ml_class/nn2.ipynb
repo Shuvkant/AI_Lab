{
 "cells": [
  {
   "cell_type": "code",
   "execution_count": 1,
   "metadata": {},
   "outputs": [],
   "source": [
    "import numpy as np\n",
    "import matplotlib.pyplot as plt\n"
   ]
  },
  {
   "cell_type": "code",
   "execution_count": 2,
   "metadata": {},
   "outputs": [],
   "source": [
    "X1=1.5\n",
    "X2=0.625\n",
    "y=0.5"
   ]
  },
  {
   "cell_type": "code",
   "execution_count": 3,
   "metadata": {},
   "outputs": [
    {
     "name": "stdout",
     "output_type": "stream",
     "text": [
      "[-0.14717732] [0.11839612]\n"
     ]
    }
   ],
   "source": [
    "W1=np.random.randn(1)\n",
    "W2=np.random.randn(1)\n",
    "print(W1, W2)"
   ]
  },
  {
   "cell_type": "code",
   "execution_count": 4,
   "metadata": {},
   "outputs": [
    {
     "name": "stdout",
     "output_type": "stream",
     "text": [
      "Y_out=[-0.14676841]\n",
      "Error=[0.41830938]\n",
      "Y_out=[0.19480616]\n",
      "Error=[0.09314328]\n",
      "Y_out=[0.35598665]\n",
      "Error=[0.02073984]\n",
      "Y_out=[0.4320437]\n",
      "Error=[0.00461806]\n",
      "Y_out=[0.46793312]\n",
      "Error=[0.00102828]\n",
      "Y_out=[0.48486844]\n",
      "Error=[0.00022896]\n",
      "Y_out=[0.4928598]\n",
      "Error=[5.09825119e-05]\n",
      "Y_out=[0.49663072]\n",
      "Error=[1.13520728e-05]\n",
      "Y_out=[0.49841012]\n",
      "Error=[2.52772082e-06]\n",
      "Y_out=[0.49924978]\n",
      "Error=[5.62837523e-07]\n",
      "Y_out=[0.49964599]\n",
      "Error=[1.25324789e-07]\n",
      "Y_out=[0.49983295]\n",
      "Error=[2.79055714e-08]\n",
      "Y_out=[0.49992117]\n",
      "Error=[6.21362239e-09]\n",
      "Y_out=[0.4999628]\n",
      "Error=[1.38356254e-09]\n",
      "Y_out=[0.49998245]\n",
      "Error=[3.08072358e-10]\n",
      "Y_out=[0.49999172]\n",
      "Error=[6.85972445e-11]\n",
      "Y_out=[0.49999609]\n",
      "Error=[1.52742751e-11]\n",
      "Y_out=[0.49999816]\n",
      "Error=[3.40106198e-12]\n",
      "Y_out=[0.49999913]\n",
      "Error=[7.5730092e-13]\n",
      "Y_out=[0.49999959]\n",
      "Error=[1.68625179e-13]\n"
     ]
    }
   ],
   "source": [
    "epochs=20\n",
    "alpha=0.1\n",
    "errorList=[]\n",
    "\n",
    "for epoch in range(epochs):\n",
    "    #Forward Pass\n",
    "    y_out=X1*W1+X2*W2\n",
    "    print(f\"Y_out={y_out}\")\n",
    "    \n",
    "    #compute the Error\n",
    "    error=np.square(y-y_out)\n",
    "    print(f\"Error={error}\")\n",
    "    errorList.append(error)\n",
    "\n",
    "    #compute the gradients\n",
    "    gradient1=-2*(y-y_out)*X1\n",
    "    gradient2=-2*(y-y_out)*X2\n",
    "    \n",
    "    #Backpropagate the error\n",
    "    W1=W1-gradient1*alpha\n",
    "    W2=W2-gradient2*alpha"
   ]
  },
  {
   "cell_type": "code",
   "execution_count": 5,
   "metadata": {},
   "outputs": [
    {
     "data": {
      "text/plain": [
       "Text(0.5, 1.0, 'Epochs vs Error')"
      ]
     },
     "execution_count": 5,
     "metadata": {},
     "output_type": "execute_result"
    },
    {
     "data": {
      "image/png": "[encoded data removed]",
      "text/plain": [
       "<Figure size 640x480 with 1 Axes>"
      ]
     },
     "metadata": {},
     "output_type": "display_data"
    }
   ],
   "source": [
    "plt.plot(range(epochs), errorList)\n",
    "plt.xlabel(\"Epochs\")\n",
    "plt.ylabel(\"Error\")\n",
    "plt.title(\"Epochs vs Error\")"
   ]
  },
  {
   "cell_type": "code",
   "execution_count": 6,
   "metadata": {},
   "outputs": [
    {
     "name": "stdout",
     "output_type": "stream",
     "text": [
      "[0.49999981]\n"
     ]
    }
   ],
   "source": [
    "def output(X1, X2, W1, W2):\n",
    "    return X1*W1+X2*W2\n",
    "\n",
    "print(output(X1, X2, W1, W2))"
   ]
  },
  {
   "cell_type": "code",
   "execution_count": null,
   "metadata": {},
   "outputs": [],
   "source": []
  }
 ],
 "metadata": {
  "kernelspec": {
   "display_name": "base",
   "language": "python",
   "name": "python3"
  },
  "language_info": {
   "codemirror_mode": {
    "name": "ipython",
    "version": 3
   },
   "file_extension": ".py",
   "mimetype": "text/x-python",
   "name": "python",
   "nbconvert_exporter": "python",
   "pygments_lexer": "ipython3",
   "version": "3.12.7"
  }
 },
 "nbformat": 4,
 "nbformat_minor": 2
}

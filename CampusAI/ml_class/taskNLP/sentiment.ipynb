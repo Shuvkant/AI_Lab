{
 "cells": [
  {
   "cell_type": "code",
   "execution_count": 1,
   "metadata": {},
   "outputs": [
    {
     "name": "stderr",
     "output_type": "stream",
     "text": [
      "2025-03-12 09:09:01.086104: I tensorflow/core/platform/cpu_feature_guard.cc:193] This TensorFlow binary is optimized with oneAPI Deep Neural Network Library (oneDNN) to use the following CPU instructions in performance-critical operations:  SSE4.1 SSE4.2\n",
      "To enable them in other operations, rebuild TensorFlow with the appropriate compiler flags.\n"
     ]
    }
   ],
   "source": [
    "import pandas as pd\n",
    "import tensorflow as tf\n",
    "from tensorflow import keras\n",
    "from sklearn.model_selection import train_test_split\n",
    "from tensorflow.keras.preprocessing.text import Tokenizer\n",
    "from tensorflow.keras.preprocessing.sequence import pad_sequences\n",
    "import numpy as np"
   ]
  },
  {
   "cell_type": "code",
   "execution_count": 2,
   "metadata": {},
   "outputs": [],
   "source": [
    "# Load dataset\n",
    "df = pd.read_csv('sentiment_dataset_long.csv')"
   ]
  },
  {
   "cell_type": "code",
   "execution_count": 3,
   "metadata": {},
   "outputs": [],
   "source": [
    "\n",
    "# Load dataset\n",
    "data = pd.read_csv(\"sentiment_dataset_long.csv\")\n",
    "\n",
    "# # Tokenize words (simple split by spaces)\n",
    "# all_words = \" \".join(data[\"text\"]).lower().split()\n",
    "\n",
    "# # Get unique words\n",
    "# vocab_size = len(set(all_words))\n",
    "# print(\"Vocabulary size:\", vocab_size)"
   ]
  },
  {
   "cell_type": "code",
   "execution_count": 5,
   "metadata": {},
   "outputs": [
    {
     "data": {
      "text/html": [
       "<div>\n",
       "<style scoped>\n",
       "    .dataframe tbody tr th:only-of-type {\n",
       "        vertical-align: middle;\n",
       "    }\n",
       "\n",
       "    .dataframe tbody tr th {\n",
       "        vertical-align: top;\n",
       "    }\n",
       "\n",
       "    .dataframe thead th {\n",
       "        text-align: right;\n",
       "    }\n",
       "</style>\n",
       "<table border=\"1\" class=\"dataframe\">\n",
       "  <thead>\n",
       "    <tr style=\"text-align: right;\">\n",
       "      <th></th>\n",
       "      <th>text</th>\n",
       "      <th>label</th>\n",
       "    </tr>\n",
       "  </thead>\n",
       "  <tbody>\n",
       "    <tr>\n",
       "      <th>0</th>\n",
       "      <td>Horrible product, do not buy! I have had nothi...</td>\n",
       "      <td>negative</td>\n",
       "    </tr>\n",
       "    <tr>\n",
       "      <th>1</th>\n",
       "      <td>It's okay, not great but not bad either. I don...</td>\n",
       "      <td>neutral</td>\n",
       "    </tr>\n",
       "    <tr>\n",
       "      <th>2</th>\n",
       "      <td>Does what it's supposed to do, I guess. Nothin...</td>\n",
       "      <td>neutral</td>\n",
       "    </tr>\n",
       "    <tr>\n",
       "      <th>3</th>\n",
       "      <td>Does what it's supposed to do, I guess. Nothin...</td>\n",
       "      <td>neutral</td>\n",
       "    </tr>\n",
       "    <tr>\n",
       "      <th>4</th>\n",
       "      <td>Exceeded my expectations in every way! The dur...</td>\n",
       "      <td>positive</td>\n",
       "    </tr>\n",
       "    <tr>\n",
       "      <th>...</th>\n",
       "      <td>...</td>\n",
       "      <td>...</td>\n",
       "    </tr>\n",
       "    <tr>\n",
       "      <th>4995</th>\n",
       "      <td>Fantastic service and top-notch quality! The c...</td>\n",
       "      <td>positive</td>\n",
       "    </tr>\n",
       "    <tr>\n",
       "      <th>4996</th>\n",
       "      <td>It's neither good nor bad, just okay. If you n...</td>\n",
       "      <td>neutral</td>\n",
       "    </tr>\n",
       "    <tr>\n",
       "      <th>4997</th>\n",
       "      <td>So happy with my decision to buy this! It’s be...</td>\n",
       "      <td>positive</td>\n",
       "    </tr>\n",
       "    <tr>\n",
       "      <th>4998</th>\n",
       "      <td>This has been the worst experience ever. I reg...</td>\n",
       "      <td>negative</td>\n",
       "    </tr>\n",
       "    <tr>\n",
       "      <th>4999</th>\n",
       "      <td>Regret buying this, what a waste of money. I s...</td>\n",
       "      <td>negative</td>\n",
       "    </tr>\n",
       "  </tbody>\n",
       "</table>\n",
       "<p>5000 rows × 2 columns</p>\n",
       "</div>"
      ],
      "text/plain": [
       "                                                   text     label\n",
       "0     Horrible product, do not buy! I have had nothi...  negative\n",
       "1     It's okay, not great but not bad either. I don...   neutral\n",
       "2     Does what it's supposed to do, I guess. Nothin...   neutral\n",
       "3     Does what it's supposed to do, I guess. Nothin...   neutral\n",
       "4     Exceeded my expectations in every way! The dur...  positive\n",
       "...                                                 ...       ...\n",
       "4995  Fantastic service and top-notch quality! The c...  positive\n",
       "4996  It's neither good nor bad, just okay. If you n...   neutral\n",
       "4997  So happy with my decision to buy this! It’s be...  positive\n",
       "4998  This has been the worst experience ever. I reg...  negative\n",
       "4999  Regret buying this, what a waste of money. I s...  negative\n",
       "\n",
       "[5000 rows x 2 columns]"
      ]
     },
     "execution_count": 5,
     "metadata": {},
     "output_type": "execute_result"
    }
   ],
   "source": [
    "data"
   ]
  },
  {
   "cell_type": "code",
   "execution_count": 6,
   "metadata": {},
   "outputs": [
    {
     "data": {
      "text/html": [
       "<div>\n",
       "<style scoped>\n",
       "    .dataframe tbody tr th:only-of-type {\n",
       "        vertical-align: middle;\n",
       "    }\n",
       "\n",
       "    .dataframe tbody tr th {\n",
       "        vertical-align: top;\n",
       "    }\n",
       "\n",
       "    .dataframe thead th {\n",
       "        text-align: right;\n",
       "    }\n",
       "</style>\n",
       "<table border=\"1\" class=\"dataframe\">\n",
       "  <thead>\n",
       "    <tr style=\"text-align: right;\">\n",
       "      <th></th>\n",
       "      <th>text</th>\n",
       "      <th>label</th>\n",
       "    </tr>\n",
       "  </thead>\n",
       "  <tbody>\n",
       "    <tr>\n",
       "      <th>0</th>\n",
       "      <td>Horrible product, do not buy! I have had nothi...</td>\n",
       "      <td>negative</td>\n",
       "    </tr>\n",
       "    <tr>\n",
       "      <th>1</th>\n",
       "      <td>It's okay, not great but not bad either. I don...</td>\n",
       "      <td>neutral</td>\n",
       "    </tr>\n",
       "    <tr>\n",
       "      <th>2</th>\n",
       "      <td>Does what it's supposed to do, I guess. Nothin...</td>\n",
       "      <td>neutral</td>\n",
       "    </tr>\n",
       "    <tr>\n",
       "      <th>3</th>\n",
       "      <td>Does what it's supposed to do, I guess. Nothin...</td>\n",
       "      <td>neutral</td>\n",
       "    </tr>\n",
       "    <tr>\n",
       "      <th>4</th>\n",
       "      <td>Exceeded my expectations in every way! The dur...</td>\n",
       "      <td>positive</td>\n",
       "    </tr>\n",
       "  </tbody>\n",
       "</table>\n",
       "</div>"
      ],
      "text/plain": [
       "                                                text     label\n",
       "0  Horrible product, do not buy! I have had nothi...  negative\n",
       "1  It's okay, not great but not bad either. I don...   neutral\n",
       "2  Does what it's supposed to do, I guess. Nothin...   neutral\n",
       "3  Does what it's supposed to do, I guess. Nothin...   neutral\n",
       "4  Exceeded my expectations in every way! The dur...  positive"
      ]
     },
     "execution_count": 6,
     "metadata": {},
     "output_type": "execute_result"
    }
   ],
   "source": [
    "df.head()"
   ]
  },
  {
   "cell_type": "code",
   "execution_count": 7,
   "metadata": {},
   "outputs": [],
   "source": [
    "# Encode labels\n",
    "label_map = {\"positive\": 2, \"neutral\": 1, \"negative\": 0}\n",
    "df[\"label\"] = df[\"label\"].map(label_map)"
   ]
  },
  {
   "cell_type": "code",
   "execution_count": 8,
   "metadata": {},
   "outputs": [
    {
     "data": {
      "text/plain": [
       "{'positive': 2, 'neutral': 1, 'negative': 0}"
      ]
     },
     "execution_count": 8,
     "metadata": {},
     "output_type": "execute_result"
    }
   ],
   "source": [
    "label_map"
   ]
  },
  {
   "cell_type": "code",
   "execution_count": null,
   "metadata": {},
   "outputs": [],
   "source": [
    "# Tokenize text\n",
    "max_words = 5000  # Vocabulary size\n",
    "max_len = 100  # Max sequence length\n",
    "tokenizer = Tokenizer(num_words=max_words, oov_token=\"<OOV>\")\n",
    "tokenizer.fit_on_texts(df[\"text\"])\n",
    "sequences = tokenizer.texts_to_sequences(df[\"text\"])\n",
    "padded_sequences = pad_sequences(sequences, maxlen=max_len, padding=\"post\")"
   ]
  },
  {
   "cell_type": "code",
   "execution_count": 10,
   "metadata": {},
   "outputs": [],
   "source": [
    "# Split data\n",
    "X_train, X_test, y_train, y_test = train_test_split(padded_sequences, df[\"label\"], test_size=0.2, random_state=42)"
   ]
  },
  {
   "cell_type": "code",
   "execution_count": 11,
   "metadata": {},
   "outputs": [
    {
     "data": {
      "text/plain": [
       "(1000, 100)"
      ]
     },
     "execution_count": 11,
     "metadata": {},
     "output_type": "execute_result"
    }
   ],
   "source": [
    "X_test.shape"
   ]
  },
  {
   "cell_type": "code",
   "execution_count": 12,
   "metadata": {},
   "outputs": [],
   "source": [
    "# Build Neural Network Model\n",
    "model = keras.Sequential([\n",
    "    keras.layers.Embedding(input_dim=max_words, output_dim=16, input_length=max_len),\n",
    "    keras.layers.GlobalAveragePooling1D(),\n",
    "    keras.layers.Dense(16, activation=\"relu\"),\n",
    "    keras.layers.Dense(3, activation=\"softmax\")\n",
    "])\n"
   ]
  },
  {
   "cell_type": "code",
   "execution_count": 13,
   "metadata": {},
   "outputs": [],
   "source": [
    "# Compile model\n",
    "model.compile(loss=\"sparse_categorical_crossentropy\", optimizer=\"adam\", metrics=[\"accuracy\"])"
   ]
  },
  {
   "cell_type": "code",
   "execution_count": 21,
   "metadata": {},
   "outputs": [
    {
     "name": "stdout",
     "output_type": "stream",
     "text": [
      "Model: \"sequential\"\n",
      "_________________________________________________________________\n",
      " Layer (type)                Output Shape              Param #   \n",
      "=================================================================\n",
      " embedding (Embedding)       (None, 100, 16)           80000     \n",
      "                                                                 \n",
      " global_average_pooling1d (G  (None, 16)               0         \n",
      " lobalAveragePooling1D)                                          \n",
      "                                                                 \n",
      " dense (Dense)               (None, 16)                272       \n",
      "                                                                 \n",
      " dense_1 (Dense)             (None, 3)                 51        \n",
      "                                                                 \n",
      "=================================================================\n",
      "Total params: 80,323\n",
      "Trainable params: 80,323\n",
      "Non-trainable params: 0\n",
      "_________________________________________________________________\n"
     ]
    }
   ],
   "source": [
    "model.summary()"
   ]
  },
  {
   "cell_type": "code",
   "execution_count": 14,
   "metadata": {},
   "outputs": [
    {
     "name": "stdout",
     "output_type": "stream",
     "text": [
      "Epoch 1/15\n",
      "125/125 - 1s - loss: 1.0591 - accuracy: 0.6762 - val_loss: 0.9761 - val_accuracy: 0.6730 - 892ms/epoch - 7ms/step\n",
      "Epoch 2/15\n",
      "125/125 - 0s - loss: 0.8041 - accuracy: 0.6880 - val_loss: 0.6125 - val_accuracy: 0.7330 - 227ms/epoch - 2ms/step\n",
      "Epoch 3/15\n",
      "125/125 - 0s - loss: 0.4568 - accuracy: 0.9668 - val_loss: 0.3185 - val_accuracy: 1.0000 - 183ms/epoch - 1ms/step\n",
      "Epoch 4/15\n",
      "125/125 - 0s - loss: 0.2170 - accuracy: 1.0000 - val_loss: 0.1369 - val_accuracy: 1.0000 - 171ms/epoch - 1ms/step\n",
      "Epoch 5/15\n",
      "125/125 - 0s - loss: 0.0912 - accuracy: 1.0000 - val_loss: 0.0596 - val_accuracy: 1.0000 - 168ms/epoch - 1ms/step\n",
      "Epoch 6/15\n",
      "125/125 - 0s - loss: 0.0424 - accuracy: 1.0000 - val_loss: 0.0306 - val_accuracy: 1.0000 - 153ms/epoch - 1ms/step\n",
      "Epoch 7/15\n",
      "125/125 - 0s - loss: 0.0232 - accuracy: 1.0000 - val_loss: 0.0180 - val_accuracy: 1.0000 - 150ms/epoch - 1ms/step\n",
      "Epoch 8/15\n",
      "125/125 - 0s - loss: 0.0143 - accuracy: 1.0000 - val_loss: 0.0117 - val_accuracy: 1.0000 - 151ms/epoch - 1ms/step\n",
      "Epoch 9/15\n",
      "125/125 - 0s - loss: 0.0097 - accuracy: 1.0000 - val_loss: 0.0081 - val_accuracy: 1.0000 - 150ms/epoch - 1ms/step\n",
      "Epoch 10/15\n",
      "125/125 - 0s - loss: 0.0069 - accuracy: 1.0000 - val_loss: 0.0060 - val_accuracy: 1.0000 - 148ms/epoch - 1ms/step\n",
      "Epoch 11/15\n",
      "125/125 - 0s - loss: 0.0051 - accuracy: 1.0000 - val_loss: 0.0045 - val_accuracy: 1.0000 - 148ms/epoch - 1ms/step\n",
      "Epoch 12/15\n",
      "125/125 - 0s - loss: 0.0040 - accuracy: 1.0000 - val_loss: 0.0035 - val_accuracy: 1.0000 - 148ms/epoch - 1ms/step\n",
      "Epoch 13/15\n",
      "125/125 - 0s - loss: 0.0031 - accuracy: 1.0000 - val_loss: 0.0028 - val_accuracy: 1.0000 - 159ms/epoch - 1ms/step\n",
      "Epoch 14/15\n",
      "125/125 - 0s - loss: 0.0025 - accuracy: 1.0000 - val_loss: 0.0023 - val_accuracy: 1.0000 - 164ms/epoch - 1ms/step\n",
      "Epoch 15/15\n",
      "125/125 - 0s - loss: 0.0021 - accuracy: 1.0000 - val_loss: 0.0019 - val_accuracy: 1.0000 - 162ms/epoch - 1ms/step\n"
     ]
    }
   ],
   "source": [
    "# Train the model\n",
    "history = model.fit(X_train, y_train, validation_data=(X_test, y_test), epochs=15, batch_size=32, verbose=2)"
   ]
  },
  {
   "cell_type": "code",
   "execution_count": null,
   "metadata": {},
   "outputs": [],
   "source": []
  },
  {
   "cell_type": "code",
   "execution_count": 15,
   "metadata": {},
   "outputs": [],
   "source": [
    "# Save model and tokenizer\n",
    "model.save(\"sentiment_model.h5\")\n",
    "import pickle\n",
    "with open(\"tokenizer.pkl\", \"wb\") as f:\n",
    "    pickle.dump(tokenizer, f)\n",
    "    \n"
   ]
  },
  {
   "cell_type": "code",
   "execution_count": 16,
   "metadata": {},
   "outputs": [
    {
     "name": "stdout",
     "output_type": "stream",
     "text": [
      "Test Accuracy: 100.00%\n"
     ]
    }
   ],
   "source": [
    "# Evaluate the model\n",
    "scores = model.evaluate(X_test, y_test, verbose=0)\n",
    "print(f\"Test Accuracy: {scores[1] * 100:.2f}%\")"
   ]
  },
  {
   "cell_type": "code",
   "execution_count": 17,
   "metadata": {},
   "outputs": [
    {
     "data": {
      "image/png": "[encoded data removed]",
      "text/plain": [
       "<Figure size 640x480 with 1 Axes>"
      ]
     },
     "metadata": {},
     "output_type": "display_data"
    }
   ],
   "source": [
    "import matplotlib.pyplot as plt\n",
    "# Plot Training & Validation Accuracy\n",
    "# plt.subplot(1, 2, 1)\n",
    "# plt.plot(history.history['accuracy'], label='Train Accuracy', marker='o')\n",
    "# plt.plot(history.history['val_accuracy'], label='Validation Accuracy', marker='o')\n",
    "# plt.title('Model Accuracy')\n",
    "# plt.xlabel('Epochs')\n",
    "# plt.ylabel('Accuracy')\n",
    "# plt.legend()\n",
    "\n",
    "# Plot Training & Validation Loss\n",
    "# plt.subplot(1, 2, 2)\n",
    "plt.plot(history.history['loss'], label='Train Loss', marker='o')\n",
    "plt.plot(history.history['val_loss'], label='Validation Loss', marker='o')\n",
    "plt.title('Model Loss')\n",
    "plt.xlabel('Epochs')\n",
    "plt.ylabel('Loss')\n",
    "plt.legend()\n",
    "\n",
    "plt.show()\n"
   ]
  },
  {
   "cell_type": "code",
   "execution_count": 31,
   "metadata": {},
   "outputs": [
    {
     "name": "stdout",
     "output_type": "stream",
     "text": [
      "1/1 [==============================] - 0s 44ms/step\n",
      "Text: Horrible product, do not buy! I have had nothing but problems, and I am beyond frustrated with this purchase.\n",
      "Predicted Sentiment: negative\n",
      "\n",
      "1/1 [==============================] - 0s 28ms/step\n",
      "Text: It's okay, not great but not bad either. I don't have strong feelings about it, but it does what it's supposed to do.\n",
      "Predicted Sentiment: negative\n",
      "\n",
      "1/1 [==============================] - 0s 30ms/step\n",
      "Text: Does what it's supposed to do, I guess. Nothing more, nothing less. If you need a basic option, this is fine.\n",
      "Predicted Sentiment: negative\n",
      "\n",
      "1/1 [==============================] - 0s 22ms/step\n",
      "Text: Does what it's supposed to do, I guess. Nothing more, nothing less. If you need a basic option, this is fine.\n",
      "Predicted Sentiment: positive\n",
      "\n",
      "1/1 [==============================] - 0s 27ms/step\n",
      "Text: Exceeded my expectations in every way! The durability, performance, and overall value are simply unmatched.\n",
      "Predicted Sentiment: negative\n",
      "\n",
      "1/1 [==============================] - 0s 22ms/step\n",
      "Text: This is an absolutely fantastic item! The quality is top-notch, and I highly recommend it to everyone.\n",
      "Predicted Sentiment: negative\n",
      "\n",
      "1/1 [==============================] - 0s 21ms/step\n",
      "Text: Amazing performance and great value for the price! I can't believe how well this works compared to other brands.\n",
      "Predicted Sentiment: negative\n",
      "\n",
      "1/1 [==============================] - 0s 19ms/step\n",
      "Text: Not worth the money at all. The product is flimsy, and customer support has been completely unhelpful.\n",
      "Predicted Sentiment: negative\n",
      "\n",
      "1/1 [==============================] - 0s 19ms/step\n",
      "Text: I absolutely hate it. The quality is terrible, and it stopped working properly after just a few days of use.\n",
      "Predicted Sentiment: negative\n",
      "\n",
      "1/1 [==============================] - 0s 22ms/step\n",
      "Text: So happy with my decision to buy this! It’s been a game changer for me, and I’ll definitely be purchasing more.\n",
      "Predicted Sentiment: neutral\n",
      "\n"
     ]
    }
   ],
   "source": [
    "# Make predictions line by line for X_test\n",
    "predicted_sentiments = []\n",
    "reverse_label_map = {2: \"positive\", 1: \"neutral\", 0: \"negative\"}\n",
    "\n",
    "for i, sequence in enumerate(X_test[:10]):\n",
    "    prediction = model.predict(np.array([sequence]))  # Predict for one sample\n",
    "    predicted_label = np.argmax(prediction, axis=1)[0]  # Get label index\n",
    "    predicted_sentiments.append(reverse_label_map[predicted_label])\n",
    "    \n",
    "    # Print prediction for each text\n",
    "    print(f\"Text: {df['text'].iloc[i]}\\nPredicted Sentiment: {predicted_sentiments[-1]}\\n\")\n"
   ]
  },
  {
   "cell_type": "code",
   "execution_count": null,
   "metadata": {},
   "outputs": [],
   "source": []
  }
 ],
 "metadata": {
  "kernelspec": {
   "display_name": "tfEnv",
   "language": "python",
   "name": "python3"
  },
  "language_info": {
   "codemirror_mode": {
    "name": "ipython",
    "version": 3
   },
   "file_extension": ".py",
   "mimetype": "text/x-python",
   "name": "python",
   "nbconvert_exporter": "python",
   "pygments_lexer": "ipython3",
   "version": "3.8.18"
  }
 },
 "nbformat": 4,
 "nbformat_minor": 2
}

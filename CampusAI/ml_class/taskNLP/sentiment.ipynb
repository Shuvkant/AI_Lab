{
 "cells": [
  {
   "cell_type": "code",
   "execution_count": 1,
   "metadata": {},
   "outputs": [
    {
     "name": "stderr",
     "output_type": "stream",
     "text": [
      "2025-03-11 15:07:26.495598: I tensorflow/core/platform/cpu_feature_guard.cc:193] This TensorFlow binary is optimized with oneAPI Deep Neural Network Library (oneDNN) to use the following CPU instructions in performance-critical operations:  SSE4.1 SSE4.2\n",
      "To enable them in other operations, rebuild TensorFlow with the appropriate compiler flags.\n"
     ]
    }
   ],
   "source": [
    "import pandas as pd\n",
    "import tensorflow as tf\n",
    "from tensorflow import keras\n",
    "from sklearn.model_selection import train_test_split\n",
    "from tensorflow.keras.preprocessing.text import Tokenizer\n",
    "from tensorflow.keras.preprocessing.sequence import pad_sequences\n",
    "import numpy as np"
   ]
  },
  {
   "cell_type": "code",
   "execution_count": 2,
   "metadata": {},
   "outputs": [],
   "source": [
    "# Load dataset\n",
    "df = pd.read_csv('sentiment_dataset.csv')"
   ]
  },
  {
   "cell_type": "code",
   "execution_count": 15,
   "metadata": {},
   "outputs": [
    {
     "data": {
      "text/html": [
       "<div>\n",
       "<style scoped>\n",
       "    .dataframe tbody tr th:only-of-type {\n",
       "        vertical-align: middle;\n",
       "    }\n",
       "\n",
       "    .dataframe tbody tr th {\n",
       "        vertical-align: top;\n",
       "    }\n",
       "\n",
       "    .dataframe thead th {\n",
       "        text-align: right;\n",
       "    }\n",
       "</style>\n",
       "<table border=\"1\" class=\"dataframe\">\n",
       "  <thead>\n",
       "    <tr style=\"text-align: right;\">\n",
       "      <th></th>\n",
       "      <th>text</th>\n",
       "      <th>label</th>\n",
       "    </tr>\n",
       "  </thead>\n",
       "  <tbody>\n",
       "    <tr>\n",
       "      <th>0</th>\n",
       "      <td>I hate it. Total waste of money.</td>\n",
       "      <td>0</td>\n",
       "    </tr>\n",
       "    <tr>\n",
       "      <th>1</th>\n",
       "      <td>It's decent but nothing special.</td>\n",
       "      <td>1</td>\n",
       "    </tr>\n",
       "    <tr>\n",
       "      <th>2</th>\n",
       "      <td>It's okay, not great but not bad.</td>\n",
       "      <td>1</td>\n",
       "    </tr>\n",
       "    <tr>\n",
       "      <th>3</th>\n",
       "      <td>Excellent quality and great support!</td>\n",
       "      <td>2</td>\n",
       "    </tr>\n",
       "    <tr>\n",
       "      <th>4</th>\n",
       "      <td>This is the best thing I've ever bought!</td>\n",
       "      <td>2</td>\n",
       "    </tr>\n",
       "  </tbody>\n",
       "</table>\n",
       "</div>"
      ],
      "text/plain": [
       "                                       text  label\n",
       "0          I hate it. Total waste of money.      0\n",
       "1          It's decent but nothing special.      1\n",
       "2         It's okay, not great but not bad.      1\n",
       "3      Excellent quality and great support!      2\n",
       "4  This is the best thing I've ever bought!      2"
      ]
     },
     "execution_count": 15,
     "metadata": {},
     "output_type": "execute_result"
    }
   ],
   "source": [
    "df.head()"
   ]
  },
  {
   "cell_type": "code",
   "execution_count": 3,
   "metadata": {},
   "outputs": [],
   "source": [
    "# Encode labels\n",
    "label_map = {\"positive\": 2, \"neutral\": 1, \"negative\": 0}\n",
    "df[\"label\"] = df[\"label\"].map(label_map)"
   ]
  },
  {
   "cell_type": "code",
   "execution_count": 4,
   "metadata": {},
   "outputs": [
    {
     "data": {
      "text/plain": [
       "{'positive': 2, 'neutral': 1, 'negative': 0}"
      ]
     },
     "execution_count": 4,
     "metadata": {},
     "output_type": "execute_result"
    }
   ],
   "source": [
    "label_map"
   ]
  },
  {
   "cell_type": "code",
   "execution_count": 5,
   "metadata": {},
   "outputs": [],
   "source": [
    "# Tokenize text\n",
    "max_words = 5000  # Vocabulary size\n",
    "max_len = 100  # Max sequence length\n",
    "tokenizer = Tokenizer(num_words=max_words, oov_token=\"<OOV>\")\n",
    "tokenizer.fit_on_texts(df[\"text\"])\n",
    "sequences = tokenizer.texts_to_sequences(df[\"text\"])\n",
    "padded_sequences = pad_sequences(sequences, maxlen=max_len, padding=\"post\")"
   ]
  },
  {
   "cell_type": "code",
   "execution_count": 6,
   "metadata": {},
   "outputs": [],
   "source": [
    "# Split data\n",
    "X_train, X_test, y_train, y_test = train_test_split(padded_sequences, df[\"label\"], test_size=0.2, random_state=42)"
   ]
  },
  {
   "cell_type": "code",
   "execution_count": 14,
   "metadata": {},
   "outputs": [
    {
     "data": {
      "text/plain": [
       "(1000, 100)"
      ]
     },
     "execution_count": 14,
     "metadata": {},
     "output_type": "execute_result"
    }
   ],
   "source": [
    "X_test.shape"
   ]
  },
  {
   "cell_type": "code",
   "execution_count": 7,
   "metadata": {},
   "outputs": [],
   "source": [
    "# Build Neural Network Model\n",
    "model = keras.Sequential([\n",
    "    keras.layers.Embedding(input_dim=max_words, output_dim=16, input_length=max_len),\n",
    "    keras.layers.GlobalAveragePooling1D(),\n",
    "    keras.layers.Dense(16, activation=\"relu\"),\n",
    "    keras.layers.Dense(3, activation=\"softmax\")\n",
    "])\n"
   ]
  },
  {
   "cell_type": "code",
   "execution_count": 8,
   "metadata": {},
   "outputs": [],
   "source": [
    "# Compile model\n",
    "model.compile(loss=\"sparse_categorical_crossentropy\", optimizer=\"adam\", metrics=[\"accuracy\"])"
   ]
  },
  {
   "cell_type": "code",
   "execution_count": 9,
   "metadata": {},
   "outputs": [
    {
     "name": "stdout",
     "output_type": "stream",
     "text": [
      "Epoch 1/30\n",
      "63/63 - 1s - loss: 1.0954 - accuracy: 0.3663 - val_loss: 1.0913 - val_accuracy: 0.3270 - 746ms/epoch - 12ms/step\n",
      "Epoch 2/30\n",
      "63/63 - 0s - loss: 1.0786 - accuracy: 0.4135 - val_loss: 1.0612 - val_accuracy: 0.8950 - 106ms/epoch - 2ms/step\n",
      "Epoch 3/30\n",
      "63/63 - 0s - loss: 1.0276 - accuracy: 0.8717 - val_loss: 0.9851 - val_accuracy: 0.9320 - 106ms/epoch - 2ms/step\n",
      "Epoch 4/30\n",
      "63/63 - 0s - loss: 0.9185 - accuracy: 0.9280 - val_loss: 0.8448 - val_accuracy: 0.8950 - 109ms/epoch - 2ms/step\n",
      "Epoch 5/30\n",
      "63/63 - 0s - loss: 0.7500 - accuracy: 0.9605 - val_loss: 0.6599 - val_accuracy: 0.9570 - 108ms/epoch - 2ms/step\n",
      "Epoch 6/30\n",
      "63/63 - 0s - loss: 0.5614 - accuracy: 0.9645 - val_loss: 0.4783 - val_accuracy: 0.9570 - 109ms/epoch - 2ms/step\n",
      "Epoch 7/30\n",
      "63/63 - 0s - loss: 0.3966 - accuracy: 0.9868 - val_loss: 0.3347 - val_accuracy: 1.0000 - 107ms/epoch - 2ms/step\n",
      "Epoch 8/30\n",
      "63/63 - 0s - loss: 0.2745 - accuracy: 0.9985 - val_loss: 0.2351 - val_accuracy: 1.0000 - 200ms/epoch - 3ms/step\n",
      "Epoch 9/30\n",
      "63/63 - 0s - loss: 0.1921 - accuracy: 1.0000 - val_loss: 0.1697 - val_accuracy: 1.0000 - 110ms/epoch - 2ms/step\n",
      "Epoch 10/30\n",
      "63/63 - 0s - loss: 0.1378 - accuracy: 1.0000 - val_loss: 0.1231 - val_accuracy: 1.0000 - 110ms/epoch - 2ms/step\n",
      "Epoch 11/30\n",
      "63/63 - 0s - loss: 0.1007 - accuracy: 1.0000 - val_loss: 0.0920 - val_accuracy: 1.0000 - 108ms/epoch - 2ms/step\n",
      "Epoch 12/30\n",
      "63/63 - 0s - loss: 0.0758 - accuracy: 1.0000 - val_loss: 0.0705 - val_accuracy: 1.0000 - 110ms/epoch - 2ms/step\n",
      "Epoch 13/30\n",
      "63/63 - 0s - loss: 0.0584 - accuracy: 1.0000 - val_loss: 0.0553 - val_accuracy: 1.0000 - 108ms/epoch - 2ms/step\n",
      "Epoch 14/30\n",
      "63/63 - 0s - loss: 0.0460 - accuracy: 1.0000 - val_loss: 0.0442 - val_accuracy: 1.0000 - 108ms/epoch - 2ms/step\n",
      "Epoch 15/30\n",
      "63/63 - 0s - loss: 0.0367 - accuracy: 1.0000 - val_loss: 0.0352 - val_accuracy: 1.0000 - 107ms/epoch - 2ms/step\n",
      "Epoch 16/30\n",
      "63/63 - 0s - loss: 0.0298 - accuracy: 1.0000 - val_loss: 0.0295 - val_accuracy: 1.0000 - 108ms/epoch - 2ms/step\n",
      "Epoch 17/30\n",
      "63/63 - 0s - loss: 0.0246 - accuracy: 1.0000 - val_loss: 0.0241 - val_accuracy: 1.0000 - 107ms/epoch - 2ms/step\n",
      "Epoch 18/30\n",
      "63/63 - 0s - loss: 0.0205 - accuracy: 1.0000 - val_loss: 0.0202 - val_accuracy: 1.0000 - 107ms/epoch - 2ms/step\n",
      "Epoch 19/30\n",
      "63/63 - 0s - loss: 0.0173 - accuracy: 1.0000 - val_loss: 0.0171 - val_accuracy: 1.0000 - 107ms/epoch - 2ms/step\n",
      "Epoch 20/30\n",
      "63/63 - 0s - loss: 0.0148 - accuracy: 1.0000 - val_loss: 0.0147 - val_accuracy: 1.0000 - 106ms/epoch - 2ms/step\n",
      "Epoch 21/30\n",
      "63/63 - 0s - loss: 0.0127 - accuracy: 1.0000 - val_loss: 0.0127 - val_accuracy: 1.0000 - 107ms/epoch - 2ms/step\n",
      "Epoch 22/30\n",
      "63/63 - 0s - loss: 0.0111 - accuracy: 1.0000 - val_loss: 0.0111 - val_accuracy: 1.0000 - 106ms/epoch - 2ms/step\n",
      "Epoch 23/30\n",
      "63/63 - 0s - loss: 0.0097 - accuracy: 1.0000 - val_loss: 0.0097 - val_accuracy: 1.0000 - 106ms/epoch - 2ms/step\n",
      "Epoch 24/30\n",
      "63/63 - 0s - loss: 0.0085 - accuracy: 1.0000 - val_loss: 0.0086 - val_accuracy: 1.0000 - 106ms/epoch - 2ms/step\n",
      "Epoch 25/30\n",
      "63/63 - 0s - loss: 0.0075 - accuracy: 1.0000 - val_loss: 0.0076 - val_accuracy: 1.0000 - 105ms/epoch - 2ms/step\n",
      "Epoch 26/30\n",
      "63/63 - 0s - loss: 0.0067 - accuracy: 1.0000 - val_loss: 0.0068 - val_accuracy: 1.0000 - 106ms/epoch - 2ms/step\n",
      "Epoch 27/30\n",
      "63/63 - 0s - loss: 0.0060 - accuracy: 1.0000 - val_loss: 0.0061 - val_accuracy: 1.0000 - 105ms/epoch - 2ms/step\n",
      "Epoch 28/30\n",
      "63/63 - 0s - loss: 0.0054 - accuracy: 1.0000 - val_loss: 0.0055 - val_accuracy: 1.0000 - 106ms/epoch - 2ms/step\n",
      "Epoch 29/30\n",
      "63/63 - 0s - loss: 0.0049 - accuracy: 1.0000 - val_loss: 0.0050 - val_accuracy: 1.0000 - 107ms/epoch - 2ms/step\n",
      "Epoch 30/30\n",
      "63/63 - 0s - loss: 0.0044 - accuracy: 1.0000 - val_loss: 0.0045 - val_accuracy: 1.0000 - 105ms/epoch - 2ms/step\n"
     ]
    }
   ],
   "source": [
    "# Train the model\n",
    "history = model.fit(X_train, y_train, validation_data=(X_test, y_test), epochs=30, batch_size=64, verbose=2)"
   ]
  },
  {
   "cell_type": "code",
   "execution_count": null,
   "metadata": {},
   "outputs": [],
   "source": []
  },
  {
   "cell_type": "code",
   "execution_count": 10,
   "metadata": {},
   "outputs": [],
   "source": [
    "# Save model and tokenizer\n",
    "model.save(\"sentiment_model.h5\")\n",
    "import pickle\n",
    "with open(\"tokenizer.pkl\", \"wb\") as f:\n",
    "    pickle.dump(tokenizer, f)\n",
    "    \n"
   ]
  },
  {
   "cell_type": "code",
   "execution_count": 11,
   "metadata": {},
   "outputs": [
    {
     "name": "stdout",
     "output_type": "stream",
     "text": [
      "Test Accuracy: 100.00%\n"
     ]
    }
   ],
   "source": [
    "# Evaluate the model\n",
    "scores = model.evaluate(X_test, y_test, verbose=0)\n",
    "print(f\"Test Accuracy: {scores[1] * 100:.2f}%\")"
   ]
  },
  {
   "cell_type": "code",
   "execution_count": 12,
   "metadata": {},
   "outputs": [
    {
     "data": {
      "image/png": "[encoded data removed]",
      "text/plain": [
       "<Figure size 640x480 with 1 Axes>"
      ]
     },
     "metadata": {},
     "output_type": "display_data"
    }
   ],
   "source": [
    "import matplotlib.pyplot as plt\n",
    "# Plot Training & Validation Accuracy\n",
    "# plt.subplot(1, 2, 1)\n",
    "# plt.plot(history.history['accuracy'], label='Train Accuracy', marker='o')\n",
    "# plt.plot(history.history['val_accuracy'], label='Validation Accuracy', marker='o')\n",
    "# plt.title('Model Accuracy')\n",
    "# plt.xlabel('Epochs')\n",
    "# plt.ylabel('Accuracy')\n",
    "# plt.legend()\n",
    "\n",
    "# Plot Training & Validation Loss\n",
    "# plt.subplot(1, 2, 2)\n",
    "plt.plot(history.history['loss'], label='Train Loss', marker='o')\n",
    "plt.plot(history.history['val_loss'], label='Validation Loss', marker='o')\n",
    "plt.title('Model Loss')\n",
    "plt.xlabel('Epochs')\n",
    "plt.ylabel('Loss')\n",
    "plt.legend()\n",
    "\n",
    "plt.show()\n"
   ]
  },
  {
   "cell_type": "code",
   "execution_count": null,
   "metadata": {},
   "outputs": [],
   "source": []
  }
 ],
 "metadata": {
  "kernelspec": {
   "display_name": "tfEnv",
   "language": "python",
   "name": "python3"
  },
  "language_info": {
   "codemirror_mode": {
    "name": "ipython",
    "version": 3
   },
   "file_extension": ".py",
   "mimetype": "text/x-python",
   "name": "python",
   "nbconvert_exporter": "python",
   "pygments_lexer": "ipython3",
   "version": "3.8.18"
  }
 },
 "nbformat": 4,
 "nbformat_minor": 2
}

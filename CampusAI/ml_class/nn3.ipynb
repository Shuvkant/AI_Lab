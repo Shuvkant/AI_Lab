{
 "cells": [
  {
   "cell_type": "code",
   "execution_count": 85,
   "metadata": {},
   "outputs": [],
   "source": [
    "import numpy as np\n",
    "import matplotlib.pyplot as plt\n"
   ]
  },
  {
   "cell_type": "code",
   "execution_count": 86,
   "metadata": {},
   "outputs": [],
   "source": [
    "X1=5\n",
    "X2=-5\n",
    "y=0.5\n",
    "\n"
   ]
  },
  {
   "cell_type": "code",
   "execution_count": 87,
   "metadata": {},
   "outputs": [
    {
     "name": "stdout",
     "output_type": "stream",
     "text": [
      "[0.17558431] [-0.58514868] [1.18013238] [-0.09208361]\n"
     ]
    }
   ],
   "source": [
    "W11=np.random.randn(1)\n",
    "W12=np.random.randn(1)\n",
    "W21=np.random.randn(1)\n",
    "W22=np.random.randn(1)\n",
    "Wh1=np.random.randn(1)\n",
    "Wh2=np.random.randn(1)\n",
    "print(W11, W12, W21, W22)"
   ]
  },
  {
   "cell_type": "code",
   "execution_count": 88,
   "metadata": {},
   "outputs": [],
   "source": [
    "def h_calculate(x1, x2, w1, w2):\n",
    "    return x1*w1+x2*w2\n",
    "\n",
    "# print(h1, h2)"
   ]
  },
  {
   "cell_type": "code",
   "execution_count": 89,
   "metadata": {},
   "outputs": [],
   "source": [
    "epochs =20\n",
    "alpha=0.001\n",
    "errorList=[]\n",
    "\n",
    "for epoch in range(epochs):\n",
    "    # Forward pass\n",
    "    # h1=h_calculate(X1,X2, W11, W21)\n",
    "    # h2=h_calculate(X1, X2, W12, W22)\n",
    "    h1 = X1 * W11 + X2 * W21\n",
    "    h2 = X1 * W12 + X2 * W22\n",
    "    y_out=h1*Wh1+h2*Wh2\n",
    "    # print(f\"y_out={y_out}\")\n",
    "    \n",
    "    #Compute error\n",
    "    error=np.square(y-y_out)\n",
    "    # print(f\"Error={error}\")\n",
    "    errorList.append(error)\n",
    "\n",
    "    \n",
    "    #compute the gradients for hidden layer\n",
    "    grad_h1=-2*(y-y_out)*h1\n",
    "    grad_h2=-2*(y-y_out)*h2\n",
    "    \n",
    "    grad_11=-2*(y-y_out)*Wh1*X1\n",
    "    grad_12=-2*(y-y_out)*Wh2*X1\n",
    "    \n",
    "    grad_21=-2*(y-y_out)*Wh1*X2\n",
    "    grad_22=-2*(y-y_out)*Wh2*X2\n",
    "\n",
    "    #Backpropagate the Error\n",
    "    Wh1-=grad_h1*alpha\n",
    "    Wh2-=grad_h2*alpha\n",
    "    \n",
    "    W11=W11-grad_11*alpha\n",
    "    W12=W12-grad_12*alpha\n",
    "    W21=W21-grad_21*alpha\n",
    "    W22=W22-grad_22*alpha\n",
    "\n",
    "\n",
    "\n",
    "    "
   ]
  },
  {
   "cell_type": "code",
   "execution_count": 90,
   "metadata": {},
   "outputs": [
    {
     "name": "stdout",
     "output_type": "stream",
     "text": [
      "Final Output: 0.5300\n"
     ]
    }
   ],
   "source": [
    "# Final output\n",
    "final_h1 = X1 * W11 + X2 * W21\n",
    "final_h2 = X1 * W12 + X2 * W22\n",
    "final_output = final_h1 * Wh1 + final_h2 * Wh2\n",
    "\n",
    "print(f\"Final Output: {final_output[0]:.4f}\")"
   ]
  },
  {
   "cell_type": "code",
   "execution_count": 91,
   "metadata": {},
   "outputs": [
    {
     "data": {
      "text/plain": [
       "Text(0.5, 1.0, 'Epochs vs Error')"
      ]
     },
     "execution_count": 91,
     "metadata": {},
     "output_type": "execute_result"
    },
    {
     "data": {
      "image/png": "[encoded data removed]",
      "text/plain": [
       "<Figure size 640x480 with 1 Axes>"
      ]
     },
     "metadata": {},
     "output_type": "display_data"
    }
   ],
   "source": [
    "plt.plot(range(epochs), errorList)\n",
    "plt.xlabel(\"Epochs\")\n",
    "plt.ylabel(\"Error\")\n",
    "plt.title(\"Epochs vs Error\")"
   ]
  }
 ],
 "metadata": {
  "kernelspec": {
   "display_name": "tfEnv",
   "language": "python",
   "name": "python3"
  },
  "language_info": {
   "codemirror_mode": {
    "name": "ipython",
    "version": 3
   },
   "file_extension": ".py",
   "mimetype": "text/x-python",
   "name": "python",
   "nbconvert_exporter": "python",
   "pygments_lexer": "ipython3",
   "version": "3.8.18"
  }
 },
 "nbformat": 4,
 "nbformat_minor": 4
}

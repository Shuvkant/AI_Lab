{
 "cells": [
  {
   "cell_type": "code",
   "execution_count": 1,
   "metadata": {},
   "outputs": [
    {
     "name": "stderr",
     "output_type": "stream",
     "text": [
      "2025-02-28 16:01:15.428612: I tensorflow/core/platform/cpu_feature_guard.cc:193] This TensorFlow binary is optimized with oneAPI Deep Neural Network Library (oneDNN) to use the following CPU instructions in performance-critical operations:  SSE4.1 SSE4.2\n",
      "To enable them in other operations, rebuild TensorFlow with the appropriate compiler flags.\n"
     ]
    }
   ],
   "source": [
    "import numpy as np\n",
    "import pandas as pd\n",
    "import matplotlib.pyplot as plt\n",
    "import yfinance as yf\n",
    "from sklearn.preprocessing import MinMaxScaler\n",
    "from sklearn.metrics import mean_absolute_error, r2_score\n",
    "from keras.models import Sequential\n",
    "from keras.layers import LSTM, Dense, Dropout\n"
   ]
  },
  {
   "cell_type": "code",
   "execution_count": 2,
   "metadata": {},
   "outputs": [],
   "source": [
    "# Load dataset\n",
    "file_path = 'sorted_stock_data_cleaned_nica.csv'\n",
    "data = pd.read_csv(file_path)"
   ]
  },
  {
   "cell_type": "code",
   "execution_count": 3,
   "metadata": {},
   "outputs": [],
   "source": [
    "Test_close=data['Close']"
   ]
  },
  {
   "cell_type": "code",
   "execution_count": 4,
   "metadata": {},
   "outputs": [
    {
     "data": {
      "text/plain": [
       "0       660.0\n",
       "1       651.0\n",
       "2       646.0\n",
       "3       648.0\n",
       "4       648.0\n",
       "        ...  \n",
       "1915    363.0\n",
       "1916    370.7\n",
       "1917    382.0\n",
       "1918    377.0\n",
       "1919    374.5\n",
       "Name: Close, Length: 1920, dtype: float64"
      ]
     },
     "execution_count": 4,
     "metadata": {},
     "output_type": "execute_result"
    }
   ],
   "source": [
    "Test_close"
   ]
  },
  {
   "cell_type": "code",
   "execution_count": 5,
   "metadata": {},
   "outputs": [],
   "source": [
    "# Ensure the dataset has the required 8 features\n",
    "assert len(data.columns) == 9, \"Dataset should have exactly 8 features!\""
   ]
  },
  {
   "cell_type": "code",
   "execution_count": 6,
   "metadata": {},
   "outputs": [
    {
     "data": {
      "text/plain": [
       "(1920, 9)"
      ]
     },
     "execution_count": 6,
     "metadata": {},
     "output_type": "execute_result"
    }
   ],
   "source": [
    "data.shape"
   ]
  },
  {
   "cell_type": "code",
   "execution_count": 7,
   "metadata": {},
   "outputs": [],
   "source": [
    "# Normalize the dataset\n",
    "scaler = MinMaxScaler()\n",
    "data_scaled = scaler.fit_transform(data)"
   ]
  },
  {
   "cell_type": "code",
   "execution_count": 8,
   "metadata": {},
   "outputs": [
    {
     "data": {
      "text/plain": [
       "array([0.48789809, 0.46419437, 0.49014455, 0.46709677, 0.4600432 ,\n",
       "       0.00464305, 0.00414162, 0.27394474, 0.09914381])"
      ]
     },
     "metadata": {},
     "output_type": "display_data"
    }
   ],
   "source": [
    "display(data_scaled[0])"
   ]
  },
  {
   "cell_type": "code",
   "execution_count": null,
   "metadata": {},
   "outputs": [],
   "source": [
    "# Convert data into sequences\n",
    "def create_sequences(data, seq_length=50):\n",
    "    X, y = [], []\n",
    "    for i in range(len(data) - seq_length):\n",
    "        X.append(data[i:i+seq_length])\n",
    "        y.append(data[i+seq_length])\n",
    "    return np.array(X), np.array(y)\n",
    "\n",
    "seq_length = 50  # Lookback period\n",
    "X_train, y_train = create_sequences(data_scaled, seq_length)"
   ]
  },
  {
   "cell_type": "code",
   "execution_count": 10,
   "metadata": {},
   "outputs": [
    {
     "data": {
      "text/plain": [
       "(1820, 100, 9)"
      ]
     },
     "execution_count": 10,
     "metadata": {},
     "output_type": "execute_result"
    }
   ],
   "source": [
    "X_train.shape"
   ]
  },
  {
   "cell_type": "code",
   "execution_count": 11,
   "metadata": {},
   "outputs": [],
   "source": [
    "reshaped_matrix = X_train.reshape(-1, 9)  # Collapse to (182000, 9)\n"
   ]
  },
  {
   "cell_type": "code",
   "execution_count": 12,
   "metadata": {},
   "outputs": [],
   "source": [
    "inverse_transformed = scaler.inverse_transform(reshaped_matrix)\n"
   ]
  },
  {
   "cell_type": "code",
   "execution_count": 13,
   "metadata": {},
   "outputs": [
    {
     "data": {
      "text/plain": [
       "(182000, 9)"
      ]
     },
     "execution_count": 13,
     "metadata": {},
     "output_type": "execute_result"
    }
   ],
   "source": [
    "inverse_transformed.shape"
   ]
  },
  {
   "cell_type": "code",
   "execution_count": 14,
   "metadata": {},
   "outputs": [],
   "source": [
    "inverse_transformed_reshaped = inverse_transformed.reshape(1820, 100, 9)\n"
   ]
  },
  {
   "cell_type": "code",
   "execution_count": 15,
   "metadata": {},
   "outputs": [
    {
     "data": {
      "text/plain": [
       "array([6.78000000e+02, 6.66000000e+02, 6.58000000e+02, 6.60000000e+02,\n",
       "       0.00000000e+00, 3.54700000e+03, 2.34777100e+06, 1.79400000e+01,\n",
       "       3.67892977e+01])"
      ]
     },
     "execution_count": 15,
     "metadata": {},
     "output_type": "execute_result"
    }
   ],
   "source": [
    "inverse_transformed_reshaped[0][0]"
   ]
  },
  {
   "cell_type": "code",
   "execution_count": 16,
   "metadata": {},
   "outputs": [
    {
     "data": {
      "text/plain": [
       "(array([0.48789809, 0.46419437, 0.49014455, 0.46709677, 0.4600432 ,\n",
       "        0.00464305, 0.00414162, 0.27394474, 0.09914381]),\n",
       " array([[[0.48789809, 0.46419437, 0.49014455, ..., 0.00414162,\n",
       "          0.27394474, 0.09914381],\n",
       "         [0.46496815, 0.45652174, 0.47568988, ..., 0.00666046,\n",
       "          0.27394474, 0.09733002],\n",
       "         [0.45350318, 0.45012788, 0.4717477 , ..., 0.00698409,\n",
       "          0.27394474, 0.09632236],\n",
       "         ...,\n",
       "         [0.17834395, 0.17519182, 0.19053876, ..., 0.0080593 ,\n",
       "          0.39006611, 0.0301583 ],\n",
       "         [0.18343949, 0.18030691, 0.19973719, ..., 0.01310317,\n",
       "          0.39006611, 0.03030415],\n",
       "         [0.18471338, 0.18797954, 0.19842313, ..., 0.02356736,\n",
       "          0.39006611, 0.03161675]],\n",
       " \n",
       "        [[0.46496815, 0.45652174, 0.47568988, ..., 0.00666046,\n",
       "          0.27394474, 0.09733002],\n",
       "         [0.45350318, 0.45012788, 0.4717477 , ..., 0.00698409,\n",
       "          0.27394474, 0.09632236],\n",
       "         [0.44713376, 0.44501279, 0.46911958, ..., 0.00799391,\n",
       "          0.27394474, 0.09672542],\n",
       "         ...,\n",
       "         [0.18343949, 0.18030691, 0.19973719, ..., 0.01310317,\n",
       "          0.39006611, 0.03030415],\n",
       "         [0.18471338, 0.18797954, 0.19842313, ..., 0.02356736,\n",
       "          0.39006611, 0.03161675],\n",
       "         [0.13757962, 0.15473146, 0.15505913, ..., 0.00545476,\n",
       "          0.39006611, 0.02797063]],\n",
       " \n",
       "        [[0.45350318, 0.45012788, 0.4717477 , ..., 0.00698409,\n",
       "          0.27394474, 0.09632236],\n",
       "         [0.44713376, 0.44501279, 0.46911958, ..., 0.00799391,\n",
       "          0.27394474, 0.09672542],\n",
       "         [0.44968153, 0.44501279, 0.47043364, ..., 0.0037596 ,\n",
       "          0.27394474, 0.09672542],\n",
       "         ...,\n",
       "         [0.18471338, 0.18797954, 0.19842313, ..., 0.02356736,\n",
       "          0.39006611, 0.03161675],\n",
       "         [0.13757962, 0.15473146, 0.15505913, ..., 0.00545476,\n",
       "          0.39006611, 0.02797063],\n",
       "         [0.16433121, 0.16496164, 0.17477004, ..., 0.00572185,\n",
       "          0.39006611, 0.02913739]],\n",
       " \n",
       "        ...,\n",
       " \n",
       "        [[0.24076433, 0.23785166, 0.24704336, ..., 0.0726707 ,\n",
       "          0.12680115, 0.15315403],\n",
       "         [0.24458599, 0.23657289, 0.24310118, ..., 0.05443432,\n",
       "          0.12680115, 0.15139705],\n",
       "         [0.23057325, 0.22506394, 0.22996058, ..., 0.09045691,\n",
       "          0.12680115, 0.14768785],\n",
       "         ...,\n",
       "         [0.08917197, 0.08567775, 0.09855453, ..., 0.03056584,\n",
       "          0.00440753, 0.60965418],\n",
       "         [0.08280255, 0.08056266, 0.09855453, ..., 0.03087184,\n",
       "          0.00440753, 0.60947695],\n",
       "         [0.09171975, 0.08682864, 0.10512484, ..., 0.04639757,\n",
       "          0.00440753, 0.62312365]],\n",
       " \n",
       "        [[0.24458599, 0.23657289, 0.24310118, ..., 0.05443432,\n",
       "          0.12680115, 0.15139705],\n",
       "         [0.23057325, 0.22506394, 0.22996058, ..., 0.09045691,\n",
       "          0.12680115, 0.14768785],\n",
       "         [0.22038217, 0.2173913 , 0.22339028, ..., 0.09989514,\n",
       "          0.12680115, 0.14573564],\n",
       "         ...,\n",
       "         [0.08280255, 0.08056266, 0.09855453, ..., 0.03087184,\n",
       "          0.00440753, 0.60947695],\n",
       "         [0.09171975, 0.08682864, 0.10512484, ..., 0.04639757,\n",
       "          0.00440753, 0.62312365],\n",
       "         [0.09681529, 0.107289  , 0.11261498, ..., 0.07353219,\n",
       "          0.00440753, 0.64315063]],\n",
       " \n",
       "        [[0.23057325, 0.22506394, 0.22996058, ..., 0.09045691,\n",
       "          0.12680115, 0.14768785],\n",
       "         [0.22038217, 0.2173913 , 0.22339028, ..., 0.09989514,\n",
       "          0.12680115, 0.14573564],\n",
       "         [0.21019108, 0.20780051, 0.2261498 , ..., 0.06046303,\n",
       "          0.12680115, 0.14514998],\n",
       "         ...,\n",
       "         [0.09171975, 0.08682864, 0.10512484, ..., 0.04639757,\n",
       "          0.00440753, 0.62312365],\n",
       "         [0.09681529, 0.107289  , 0.11261498, ..., 0.07353219,\n",
       "          0.00440753, 0.64315063],\n",
       "         [0.11974522, 0.11074169, 0.11826544, ..., 0.05061142,\n",
       "          0.00440753, 0.63428913]]]))"
      ]
     },
     "execution_count": 16,
     "metadata": {},
     "output_type": "execute_result"
    }
   ],
   "source": [
    "X_train[0][0], X_train"
   ]
  },
  {
   "cell_type": "code",
   "execution_count": 17,
   "metadata": {},
   "outputs": [],
   "source": [
    "# X_train_inverse = scaler.inverse_transform(X_train)"
   ]
  },
  {
   "cell_type": "code",
   "execution_count": null,
   "metadata": {},
   "outputs": [
    {
     "ename": "NameError",
     "evalue": "name 'X_train_inverse' is not defined",
     "output_type": "error",
     "traceback": [
      "\u001b[0;31m---------------------------------------------------------------------------\u001b[0m",
      "\u001b[0;31mNameError\u001b[0m                                 Traceback (most recent call last)",
      "Cell \u001b[0;32mIn[18], line 1\u001b[0m\n\u001b[0;32m----> 1\u001b[0m \u001b[43mX_train_inverse\u001b[49m\u001b[38;5;241m.\u001b[39mshape\n",
      "\u001b[0;31mNameError\u001b[0m: name 'X_train_inverse' is not defined"
     ]
    }
   ],
   "source": [
    "# X_train_inverse.shape"
   ]
  },
  {
   "cell_type": "code",
   "execution_count": null,
   "metadata": {},
   "outputs": [
    {
     "data": {
      "text/plain": [
       "array([6.78000000e+02, 6.66000000e+02, 6.58000000e+02, 6.60000000e+02,\n",
       "       0.00000000e+00, 3.54700000e+03, 2.34777100e+06, 1.79400000e+01,\n",
       "       3.67892977e+01])"
      ]
     },
     "execution_count": 12,
     "metadata": {},
     "output_type": "execute_result"
    }
   ],
   "source": [
    "# X_train_inverse[0][0]"
   ]
  },
  {
   "cell_type": "code",
   "execution_count": null,
   "metadata": {},
   "outputs": [],
   "source": [
    "y_train.shape, X_train.shape"
   ]
  },
  {
   "cell_type": "code",
   "execution_count": null,
   "metadata": {},
   "outputs": [],
   "source": [
    "# stock=\"sorted_stock_data_cleaned_nica.csv\""
   ]
  },
  {
   "cell_type": "code",
   "execution_count": null,
   "metadata": {},
   "outputs": [],
   "source": [
    "# data=pd.read_csv(stock)"
   ]
  },
  {
   "cell_type": "code",
   "execution_count": null,
   "metadata": {},
   "outputs": [],
   "source": [
    "# data"
   ]
  },
  {
   "cell_type": "code",
   "execution_count": null,
   "metadata": {},
   "outputs": [],
   "source": [
    "# data_test=data['Close']"
   ]
  },
  {
   "cell_type": "code",
   "execution_count": null,
   "metadata": {},
   "outputs": [],
   "source": [
    "# data_test"
   ]
  },
  {
   "cell_type": "code",
   "execution_count": null,
   "metadata": {},
   "outputs": [],
   "source": [
    "# import pandas as pd\n",
    "\n",
    "# # Read CSV file\n",
    "# df = pd.read_csv(\"NICA_Final_EPS_PE.csv\")\n",
    "\n",
    "\n"
   ]
  },
  {
   "cell_type": "code",
   "execution_count": null,
   "metadata": {},
   "outputs": [],
   "source": [
    "# # Scaling Data\n",
    "# scaler = MinMaxScaler(feature_range=(0,1))\n",
    "# # data_train_scaled = scaler.fit_transform(np.array(data_train).reshape(-1,1))\n",
    "# # data_test_scaled = scaler.fit_transform(np.array(data_test).reshape(-1,1))"
   ]
  },
  {
   "cell_type": "code",
   "execution_count": null,
   "metadata": {},
   "outputs": [],
   "source": [
    "# data_test_scaled.shape"
   ]
  },
  {
   "cell_type": "code",
   "execution_count": null,
   "metadata": {},
   "outputs": [],
   "source": [
    "# x_test, y_test = [], []\n",
    "# for i in range(100, len(data_test_scaled)):\n",
    "#     x_test.append(data_test_scaled[i-100:i])\n",
    "#     y_test.append(data_test_scaled[i, 0])\n",
    "# x_test, y_test = np.array(x_test), np.array(y_test)"
   ]
  },
  {
   "cell_type": "code",
   "execution_count": null,
   "metadata": {},
   "outputs": [],
   "source": [
    "# print(f\"Shape of train={x_test.shape}\\nShape of data_test={y_test.shape}\")"
   ]
  },
  {
   "cell_type": "code",
   "execution_count": 19,
   "metadata": {},
   "outputs": [],
   "source": [
    "from tensorflow.keras.models import load_model\n",
    "\n",
    "# Load the saved Keras model\n",
    "\n",
    "model = load_model('lstm.keras')\n",
    "\n",
    "# Now you can use the model to make predictions, evaluate, etc.\n"
   ]
  },
  {
   "cell_type": "code",
   "execution_count": 20,
   "metadata": {},
   "outputs": [],
   "source": [
    "# # Evaluate the model\n",
    "# from sklearn.metrics import mean_squared_error\n",
    "# y_pred = model.predict(X_train)\n",
    "# mse = mean_squared_error(y_train, y_pred)\n",
    "# print(f\"Test Mean Squared Error: {mse}\")"
   ]
  },
  {
   "cell_type": "code",
   "execution_count": 21,
   "metadata": {},
   "outputs": [
    {
     "data": {
      "text/plain": [
       "array([0.48789809, 0.46419437, 0.49014455, 0.46709677, 0.4600432 ,\n",
       "       0.00464305, 0.00414162, 0.27394474, 0.09914381])"
      ]
     },
     "execution_count": 21,
     "metadata": {},
     "output_type": "execute_result"
    }
   ],
   "source": [
    "X_train[0][0]"
   ]
  },
  {
   "cell_type": "code",
   "execution_count": 33,
   "metadata": {},
   "outputs": [
    {
     "name": "stdout",
     "output_type": "stream",
     "text": [
      "57/57 [==============================] - 3s 44ms/step\n"
     ]
    }
   ],
   "source": [
    "# Make Predictions\n",
    "y_pred_scaled = model.predict(X_train)\n",
    "y_pred = scaler.inverse_transform(y_pred_scaled)\n",
    "y_test_actual = scaler.inverse_transform(y_train.reshape(-1,9)).reshape(y_train.shape)"
   ]
  },
  {
   "cell_type": "code",
   "execution_count": 34,
   "metadata": {},
   "outputs": [
    {
     "data": {
      "text/plain": [
       "((1820, 9), (1820, 9))"
      ]
     },
     "execution_count": 34,
     "metadata": {},
     "output_type": "execute_result"
    }
   ],
   "source": [
    "y_pred.shape, y_test_actual.shape"
   ]
  },
  {
   "cell_type": "code",
   "execution_count": 35,
   "metadata": {},
   "outputs": [],
   "source": [
    "# y_pred[0][3]"
   ]
  },
  {
   "cell_type": "code",
   "execution_count": 36,
   "metadata": {},
   "outputs": [],
   "source": [
    "# Assuming 'Close' is the 0th feature and 'PE Ratio' is the 5th feature in the dataset\n",
    "# Extract the actual test values\n",
    "X_test_close = y_test_actual[:, 3]  # Actual Close values from test data\n",
    "X_test_pe = y_test_actual[:, 8]  # Actual PE Ratio values from test data\n",
    "y_pred_close=y_pred[:,3]\n",
    "y_pred_pe=y_pred[:,8]\n"
   ]
  },
  {
   "cell_type": "code",
   "execution_count": 37,
   "metadata": {},
   "outputs": [
    {
     "data": {
      "text/plain": [
       "((1820,), (1820,))"
      ]
     },
     "execution_count": 37,
     "metadata": {},
     "output_type": "execute_result"
    }
   ],
   "source": [
    "X_test_close.shape, y_pred_close.shape"
   ]
  },
  {
   "cell_type": "code",
   "execution_count": 41,
   "metadata": {},
   "outputs": [
    {
     "data": {
      "text/plain": [
       "array([424. , 432. , 436. , ..., 382. , 377. , 374.5])"
      ]
     },
     "execution_count": 41,
     "metadata": {},
     "output_type": "execute_result"
    }
   ],
   "source": [
    "X_test_close"
   ]
  },
  {
   "cell_type": "code",
   "execution_count": 42,
   "metadata": {},
   "outputs": [
    {
     "data": {
      "text/plain": [
       "array([436.38904, 437.19107, 436.43912, ..., 411.10547, 415.61407,\n",
       "       419.60068], dtype=float32)"
      ]
     },
     "execution_count": 42,
     "metadata": {},
     "output_type": "execute_result"
    }
   ],
   "source": [
    "y_pred_close"
   ]
  },
  {
   "cell_type": "code",
   "execution_count": 43,
   "metadata": {},
   "outputs": [
    {
     "data": {
      "text/plain": [
       "(1820,)"
      ]
     },
     "execution_count": 43,
     "metadata": {},
     "output_type": "execute_result"
    }
   ],
   "source": [
    "y_pred_close.shape"
   ]
  },
  {
   "cell_type": "code",
   "execution_count": 44,
   "metadata": {},
   "outputs": [
    {
     "data": {
      "text/plain": [
       "<matplotlib.legend.Legend at 0x7fb926eec130>"
      ]
     },
     "execution_count": 44,
     "metadata": {},
     "output_type": "execute_result"
    },
    {
     "data": {
      "image/png": "[encoded data removed]",
      "text/plain": [
       "<Figure size 1400x700 with 1 Axes>"
      ]
     },
     "metadata": {},
     "output_type": "display_data"
    }
   ],
   "source": [
    "# Plot actual vs predicted values for Close and PE Ratio\n",
    "plt.figure(figsize=(14, 7))\n",
    "\n",
    "# Plot Close\n",
    "plt.subplot(2, 1, 1)\n",
    "plt.plot(X_test_close, label=\"Actual Close\", color=\"blue\")\n",
    "plt.plot(y_pred_close, label=\"Predicted Close\", color=\"red\")\n",
    "plt.xlabel(\"Days\")\n",
    "plt.ylabel(\"Close Price\")\n",
    "plt.title(\"Actual vs Predicted Close Price\")\n",
    "plt.legend()\n"
   ]
  },
  {
   "cell_type": "code",
   "execution_count": null,
   "metadata": {},
   "outputs": [],
   "source": []
  },
  {
   "cell_type": "code",
   "execution_count": null,
   "metadata": {},
   "outputs": [
    {
     "data": {
      "text/plain": [
       "<matplotlib.legend.Legend at 0x7fb9273004f0>"
      ]
     },
     "execution_count": 45,
     "metadata": {},
     "output_type": "execute_result"
    },
    {
     "data": {
      "image/png": "[encoded data removed]",
      "text/plain": [
       "<Figure size 640x480 with 1 Axes>"
      ]
     },
     "metadata": {},
     "output_type": "display_data"
    }
   ],
   "source": [
    "# Plot PE Ratio\n",
    "plt.subplot(2, 1, 2)\n",
    "plt.plot(X_test_pe, label=\"Actual PE Ratio\", color=\"green\")\n",
    "plt.plot(y_pred_pe, label=\"Predicted PE Ratio\",  color=\"red\")\n",
    "plt.xlabel(\"Days\")\n",
    "plt.ylabel(\"PE Ratio\")\n",
    "plt.title(\"Actual vs Predicted PE Ratio\")\n",
    "plt.legend()"
   ]
  },
  {
   "cell_type": "code",
   "execution_count": null,
   "metadata": {},
   "outputs": [],
   "source": [
    "# #for acutal\n",
    "# for i in range(0, len(y_test_actual)):\n",
    "#     y_acutal_close=[]\n",
    "#     y_acutal_pe=[]\n",
    "#     y_acutal_close.append(y_pred[i][3])\n",
    "#     y_acutal_pe.append(y_pred[i][8])\n",
    "    "
   ]
  },
  {
   "cell_type": "code",
   "execution_count": null,
   "metadata": {},
   "outputs": [],
   "source": [
    "# y_test_actual[0][3]"
   ]
  },
  {
   "cell_type": "code",
   "execution_count": null,
   "metadata": {},
   "outputs": [],
   "source": [
    "# y_test_actual=y_acutal_close\n",
    "# y_pred=y_pred_close\n",
    "\n"
   ]
  },
  {
   "cell_type": "code",
   "execution_count": null,
   "metadata": {},
   "outputs": [],
   "source": [
    "# y_pred_close"
   ]
  },
  {
   "cell_type": "code",
   "execution_count": null,
   "metadata": {},
   "outputs": [],
   "source": [
    "# Performance Metrics\n",
    "print(\"MAE:\", mean_absolute_error(y_test_actual, y_pred))\n",
    "print(\"R² Score:\", r2_score(y_test_actual, y_pred))"
   ]
  },
  {
   "cell_type": "code",
   "execution_count": null,
   "metadata": {},
   "outputs": [],
   "source": [
    "# import matplotlib.pyplot as plt\n",
    "\n",
    "# Visualization\n",
    "plt.figure(figsize=(10, 6))\n",
    "plt.plot(y_test_actual, label='Actual Price')\n",
    "plt.plot(y_pred, label='Predicted Price')\n",
    "plt.legend()\n",
    "plt.title(f'{nica} Price Prediction')\n",
    "plt.grid(True, linestyle='--', alpha=0.7)  # Dashed grid lines with transparency\n",
    "plt.savefig(f\"{nica}.png\")\n",
    "plt.show()\n"
   ]
  },
  {
   "cell_type": "code",
   "execution_count": null,
   "metadata": {},
   "outputs": [],
   "source": [
    "# For the reversing of the data\n",
    "# import pandas as pd\n",
    "\n",
    "# # Load the CSV file\n",
    "# df = pd.read_csv(\"cleaned_file.csv\")\n",
    "\n",
    "# # Reverse the order of rows\n",
    "# df = df[::-1].reset_index(drop=True)\n",
    "\n",
    "# # Save the modified CSV\n",
    "# df.to_csv(\"sorted_stock_data_cleaned_nica.csv\", index=False)\n"
   ]
  },
  {
   "cell_type": "code",
   "execution_count": null,
   "metadata": {},
   "outputs": [],
   "source": []
  }
 ],
 "metadata": {
  "kernelspec": {
   "display_name": "tfEnv",
   "language": "python",
   "name": "python3"
  },
  "language_info": {
   "codemirror_mode": {
    "name": "ipython",
    "version": 3
   },
   "file_extension": ".py",
   "mimetype": "text/x-python",
   "name": "python",
   "nbconvert_exporter": "python",
   "pygments_lexer": "ipython3",
   "version": "3.8.18"
  }
 },
 "nbformat": 4,
 "nbformat_minor": 2
}

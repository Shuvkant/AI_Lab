{
 "cells": [
  {
   "cell_type": "code",
   "execution_count": 1,
   "metadata": {},
   "outputs": [
    {
     "name": "stderr",
     "output_type": "stream",
     "text": [
      "2025-03-01 01:28:15.716227: I tensorflow/core/platform/cpu_feature_guard.cc:193] This TensorFlow binary is optimized with oneAPI Deep Neural Network Library (oneDNN) to use the following CPU instructions in performance-critical operations:  SSE4.1 SSE4.2\n",
      "To enable them in other operations, rebuild TensorFlow with the appropriate compiler flags.\n"
     ]
    }
   ],
   "source": [
    "import numpy as np\n",
    "import pandas as pd\n",
    "import matplotlib.pyplot as plt\n",
    "from sklearn.preprocessing import MinMaxScaler\n",
    "from tensorflow.keras.models import Sequential\n",
    "from tensorflow.keras.layers import LSTM, Dense, Dropout, Bidirectional\n",
    "from tensorflow.keras.callbacks import EarlyStopping, ReduceLROnPlateau"
   ]
  },
  {
   "cell_type": "code",
   "execution_count": 2,
   "metadata": {},
   "outputs": [
    {
     "name": "stdout",
     "output_type": "stream",
     "text": [
      "    Open   High    Low  Close  per_change     Qty    EPS         PE\n",
      "0  678.0  666.0  658.0  660.0         0.0  3547.0  17.94  36.789298\n",
      "1  660.0  660.0  647.0  651.0         0.0  5758.0  17.94  36.287625\n",
      "2  651.0  655.0  644.0  646.0         0.0  6085.0  17.94  36.008919\n",
      "3  646.0  651.0  642.0  648.0         0.0  6977.0  17.94  36.120401\n",
      "4  648.0  651.0  643.0  648.0         0.0  3303.0  17.94  36.120401\n"
     ]
    }
   ],
   "source": [
    "# Load your data\n",
    "df = pd.read_csv('sorted_stock_data_cleaned_nica.csv')  # Replace with your file\n",
    "print(df.head())\n"
   ]
  },
  {
   "cell_type": "code",
   "execution_count": 3,
   "metadata": {},
   "outputs": [],
   "source": [
    "# Ensure all 8 columns are present (adjust if needed)\n",
    "feature_columns = ['Open', 'High', 'Low', 'Close', 'per_change', 'Qty', 'EPS', 'PE']  # Your 8 features\n",
    "data = df[feature_columns].values"
   ]
  },
  {
   "cell_type": "code",
   "execution_count": 4,
   "metadata": {},
   "outputs": [],
   "source": [
    "# Scale all 8 features between 0 and 1\n",
    "scaler = MinMaxScaler(feature_range=(0, 1))\n",
    "scaled_data = scaler.fit_transform(data)"
   ]
  },
  {
   "cell_type": "code",
   "execution_count": 5,
   "metadata": {},
   "outputs": [],
   "source": [
    "# Sequence creation function\n",
    "def create_sequences_multivariate(data, n_steps):\n",
    "    X, y = [], []\n",
    "    for i in range(len(data) - n_steps):\n",
    "        X.append(data[i:i+n_steps])   # n_steps timesteps, each with 8 features\n",
    "        y.append(data[i+n_steps])      # Predict all 8 features at next step\n",
    "    return np.array(X), np.array(y)"
   ]
  },
  {
   "cell_type": "code",
   "execution_count": 6,
   "metadata": {},
   "outputs": [],
   "source": [
    "# Parameters\n",
    "n_steps = 60  # Past 60 days used for prediction\n"
   ]
  },
  {
   "cell_type": "code",
   "execution_count": 7,
   "metadata": {},
   "outputs": [],
   "source": [
    "# Create sequences\n",
    "X, y = create_sequences_multivariate(scaled_data, n_steps)"
   ]
  },
  {
   "cell_type": "code",
   "execution_count": 8,
   "metadata": {},
   "outputs": [],
   "source": [
    "# Train-test split\n",
    "split = int(len(X) * 0.9)\n",
    "X_train, X_test = X[:split], X[split:]\n",
    "y_train, y_test = y[:split], y[split:]"
   ]
  },
  {
   "cell_type": "code",
   "execution_count": null,
   "metadata": {},
   "outputs": [],
   "source": [
    "# Define Bidirectional LSTM model\n",
    "model = Sequential([\n",
    "    LSTM(64, activation='tanh', return_sequences=True, input_shape=(n_steps, 8)),\n",
    "    Dropout(0.2),\n",
    "    LSTM(128, activation='tanh', return_sequences=True),\n",
    "    Dropout(0.3),\n",
    "    LSTM(64, activation='tanh', return_sequences=True),\n",
    "    Dropout(0.3),\n",
    "    LSTM(32, activation='tanh', return_sequences=False),\n",
    "    Dropout(0.2),\n",
    "    Dense(8)\n",
    "    \n",
    "])\n",
    "# model.add(LSTM(128, return_sequences=True), input_shape=(n_steps, 8))\n",
    "# model.add(Dropout(0.3))\n",
    "# model.add(Bidirectional(LSTM(64, return_sequences=False)))\n",
    "# model.add(Dropout(0.3))\n",
    "# model.add(Dense(8))  # Predict all 8 features at once"
   ]
  },
  {
   "cell_type": "code",
   "execution_count": 10,
   "metadata": {},
   "outputs": [],
   "source": [
    "model.compile(optimizer='adam', loss='mse')"
   ]
  },
  {
   "cell_type": "code",
   "execution_count": 11,
   "metadata": {},
   "outputs": [],
   "source": [
    "# Callbacks\n",
    "callbacks = [\n",
    "    EarlyStopping(monitor='val_loss', patience=10, restore_best_weights=True),\n",
    "    ReduceLROnPlateau(monitor='val_loss', factor=0.5, patience=5)\n",
    "]\n"
   ]
  },
  {
   "cell_type": "code",
   "execution_count": 12,
   "metadata": {},
   "outputs": [
    {
     "name": "stdout",
     "output_type": "stream",
     "text": [
      "Epoch 1/100\n",
      "21/21 [==============================] - 9s 189ms/step - loss: 0.0538 - val_loss: 0.0121 - lr: 0.0010\n",
      "Epoch 2/100\n",
      "21/21 [==============================] - 3s 126ms/step - loss: 0.0195 - val_loss: 0.0093 - lr: 0.0010\n",
      "Epoch 3/100\n",
      "21/21 [==============================] - 3s 124ms/step - loss: 0.0162 - val_loss: 0.0075 - lr: 0.0010\n",
      "Epoch 4/100\n",
      "21/21 [==============================] - 3s 129ms/step - loss: 0.0136 - val_loss: 0.0061 - lr: 0.0010\n",
      "Epoch 5/100\n",
      "21/21 [==============================] - 3s 121ms/step - loss: 0.0125 - val_loss: 0.0054 - lr: 0.0010\n",
      "Epoch 6/100\n",
      "21/21 [==============================] - 3s 121ms/step - loss: 0.0127 - val_loss: 0.0052 - lr: 0.0010\n",
      "Epoch 7/100\n",
      "21/21 [==============================] - 3s 125ms/step - loss: 0.0115 - val_loss: 0.0054 - lr: 0.0010\n",
      "Epoch 8/100\n",
      "21/21 [==============================] - 3s 127ms/step - loss: 0.0110 - val_loss: 0.0056 - lr: 0.0010\n",
      "Epoch 9/100\n",
      "21/21 [==============================] - 3s 123ms/step - loss: 0.0105 - val_loss: 0.0052 - lr: 0.0010\n",
      "Epoch 10/100\n",
      "21/21 [==============================] - 3s 127ms/step - loss: 0.0101 - val_loss: 0.0049 - lr: 0.0010\n",
      "Epoch 11/100\n",
      "21/21 [==============================] - 3s 145ms/step - loss: 0.0097 - val_loss: 0.0051 - lr: 0.0010\n",
      "Epoch 12/100\n",
      "21/21 [==============================] - 3s 147ms/step - loss: 0.0098 - val_loss: 0.0056 - lr: 0.0010\n",
      "Epoch 13/100\n",
      "21/21 [==============================] - 3s 138ms/step - loss: 0.0095 - val_loss: 0.0060 - lr: 0.0010\n",
      "Epoch 14/100\n",
      "21/21 [==============================] - 3s 125ms/step - loss: 0.0089 - val_loss: 0.0045 - lr: 0.0010\n",
      "Epoch 15/100\n",
      "21/21 [==============================] - 3s 132ms/step - loss: 0.0088 - val_loss: 0.0045 - lr: 0.0010\n",
      "Epoch 16/100\n",
      "21/21 [==============================] - 3s 136ms/step - loss: 0.0087 - val_loss: 0.0046 - lr: 0.0010\n",
      "Epoch 17/100\n",
      "21/21 [==============================] - 3s 122ms/step - loss: 0.0082 - val_loss: 0.0042 - lr: 0.0010\n",
      "Epoch 18/100\n",
      "21/21 [==============================] - 3s 126ms/step - loss: 0.0078 - val_loss: 0.0042 - lr: 0.0010\n",
      "Epoch 19/100\n",
      "21/21 [==============================] - 3s 129ms/step - loss: 0.0080 - val_loss: 0.0047 - lr: 0.0010\n",
      "Epoch 20/100\n",
      "21/21 [==============================] - 3s 123ms/step - loss: 0.0075 - val_loss: 0.0042 - lr: 0.0010\n",
      "Epoch 21/100\n",
      "21/21 [==============================] - 3s 120ms/step - loss: 0.0074 - val_loss: 0.0036 - lr: 0.0010\n",
      "Epoch 22/100\n",
      "21/21 [==============================] - 3s 131ms/step - loss: 0.0076 - val_loss: 0.0047 - lr: 0.0010\n",
      "Epoch 23/100\n",
      "21/21 [==============================] - 3s 129ms/step - loss: 0.0071 - val_loss: 0.0038 - lr: 0.0010\n",
      "Epoch 24/100\n",
      "21/21 [==============================] - 3s 122ms/step - loss: 0.0068 - val_loss: 0.0034 - lr: 0.0010\n",
      "Epoch 25/100\n",
      "21/21 [==============================] - 3s 121ms/step - loss: 0.0071 - val_loss: 0.0036 - lr: 0.0010\n",
      "Epoch 26/100\n",
      "21/21 [==============================] - 3s 122ms/step - loss: 0.0068 - val_loss: 0.0034 - lr: 0.0010\n",
      "Epoch 27/100\n",
      "21/21 [==============================] - 3s 130ms/step - loss: 0.0066 - val_loss: 0.0039 - lr: 0.0010\n",
      "Epoch 28/100\n",
      "21/21 [==============================] - 3s 128ms/step - loss: 0.0065 - val_loss: 0.0038 - lr: 0.0010\n",
      "Epoch 29/100\n",
      "21/21 [==============================] - 3s 122ms/step - loss: 0.0065 - val_loss: 0.0036 - lr: 0.0010\n",
      "Epoch 30/100\n",
      "21/21 [==============================] - 3s 127ms/step - loss: 0.0063 - val_loss: 0.0033 - lr: 5.0000e-04\n",
      "Epoch 31/100\n",
      "21/21 [==============================] - 3s 132ms/step - loss: 0.0062 - val_loss: 0.0033 - lr: 5.0000e-04\n",
      "Epoch 32/100\n",
      "21/21 [==============================] - 3s 124ms/step - loss: 0.0062 - val_loss: 0.0032 - lr: 5.0000e-04\n",
      "Epoch 33/100\n",
      "21/21 [==============================] - 3s 123ms/step - loss: 0.0061 - val_loss: 0.0033 - lr: 5.0000e-04\n",
      "Epoch 34/100\n",
      "21/21 [==============================] - 3s 124ms/step - loss: 0.0061 - val_loss: 0.0032 - lr: 5.0000e-04\n",
      "Epoch 35/100\n",
      "21/21 [==============================] - 3s 136ms/step - loss: 0.0058 - val_loss: 0.0034 - lr: 5.0000e-04\n",
      "Epoch 36/100\n",
      "21/21 [==============================] - 3s 124ms/step - loss: 0.0059 - val_loss: 0.0032 - lr: 5.0000e-04\n",
      "Epoch 37/100\n",
      "21/21 [==============================] - 3s 126ms/step - loss: 0.0059 - val_loss: 0.0031 - lr: 2.5000e-04\n",
      "Epoch 38/100\n",
      "21/21 [==============================] - 3s 125ms/step - loss: 0.0058 - val_loss: 0.0031 - lr: 2.5000e-04\n",
      "Epoch 39/100\n",
      "21/21 [==============================] - 3s 134ms/step - loss: 0.0057 - val_loss: 0.0033 - lr: 2.5000e-04\n",
      "Epoch 40/100\n",
      "21/21 [==============================] - 3s 131ms/step - loss: 0.0059 - val_loss: 0.0030 - lr: 2.5000e-04\n",
      "Epoch 41/100\n",
      "21/21 [==============================] - 3s 125ms/step - loss: 0.0058 - val_loss: 0.0030 - lr: 2.5000e-04\n",
      "Epoch 42/100\n",
      "21/21 [==============================] - 3s 126ms/step - loss: 0.0058 - val_loss: 0.0032 - lr: 2.5000e-04\n",
      "Epoch 43/100\n",
      "21/21 [==============================] - 3s 141ms/step - loss: 0.0058 - val_loss: 0.0030 - lr: 2.5000e-04\n",
      "Epoch 44/100\n",
      "21/21 [==============================] - 3s 127ms/step - loss: 0.0057 - val_loss: 0.0030 - lr: 2.5000e-04\n",
      "Epoch 45/100\n",
      "21/21 [==============================] - 3s 131ms/step - loss: 0.0056 - val_loss: 0.0030 - lr: 2.5000e-04\n",
      "Epoch 46/100\n",
      "21/21 [==============================] - 3s 132ms/step - loss: 0.0057 - val_loss: 0.0031 - lr: 1.2500e-04\n",
      "Epoch 47/100\n",
      "21/21 [==============================] - 3s 135ms/step - loss: 0.0055 - val_loss: 0.0030 - lr: 1.2500e-04\n",
      "Epoch 48/100\n",
      "21/21 [==============================] - 3s 127ms/step - loss: 0.0056 - val_loss: 0.0030 - lr: 1.2500e-04\n",
      "Epoch 49/100\n",
      "21/21 [==============================] - 3s 128ms/step - loss: 0.0056 - val_loss: 0.0030 - lr: 1.2500e-04\n",
      "Epoch 50/100\n",
      "21/21 [==============================] - 3s 140ms/step - loss: 0.0055 - val_loss: 0.0029 - lr: 1.2500e-04\n",
      "Epoch 51/100\n",
      "21/21 [==============================] - 3s 129ms/step - loss: 0.0055 - val_loss: 0.0030 - lr: 1.2500e-04\n",
      "Epoch 52/100\n",
      "21/21 [==============================] - 3s 128ms/step - loss: 0.0055 - val_loss: 0.0030 - lr: 1.2500e-04\n",
      "Epoch 53/100\n",
      "21/21 [==============================] - 3s 129ms/step - loss: 0.0056 - val_loss: 0.0029 - lr: 1.2500e-04\n",
      "Epoch 54/100\n",
      "21/21 [==============================] - 3s 137ms/step - loss: 0.0057 - val_loss: 0.0029 - lr: 1.2500e-04\n",
      "Epoch 55/100\n",
      "21/21 [==============================] - 3s 133ms/step - loss: 0.0055 - val_loss: 0.0030 - lr: 1.2500e-04\n",
      "Epoch 56/100\n",
      "21/21 [==============================] - 3s 130ms/step - loss: 0.0055 - val_loss: 0.0030 - lr: 6.2500e-05\n",
      "Epoch 57/100\n",
      "21/21 [==============================] - 3s 129ms/step - loss: 0.0053 - val_loss: 0.0030 - lr: 6.2500e-05\n",
      "Epoch 58/100\n",
      "21/21 [==============================] - 3s 138ms/step - loss: 0.0056 - val_loss: 0.0030 - lr: 6.2500e-05\n",
      "Epoch 59/100\n",
      "21/21 [==============================] - 3s 130ms/step - loss: 0.0055 - val_loss: 0.0029 - lr: 6.2500e-05\n",
      "Epoch 60/100\n",
      "21/21 [==============================] - 3s 134ms/step - loss: 0.0054 - val_loss: 0.0029 - lr: 6.2500e-05\n"
     ]
    }
   ],
   "source": [
    "# Train the model\n",
    "history = model.fit(X_train, y_train,\n",
    "                    validation_split=0.2,\n",
    "                    epochs=100,\n",
    "                    batch_size=64,\n",
    "                    callbacks=callbacks)"
   ]
  },
  {
   "cell_type": "code",
   "execution_count": 13,
   "metadata": {},
   "outputs": [],
   "source": [
    "model.save('final_model_60.keras')"
   ]
  },
  {
   "cell_type": "code",
   "execution_count": 14,
   "metadata": {},
   "outputs": [],
   "source": [
    "from keras.models import Sequential, load_model\n",
    "from keras.layers import LSTM, Dense, Dropout\n",
    "model = load_model('final_model_60.keras')"
   ]
  },
  {
   "cell_type": "code",
   "execution_count": 15,
   "metadata": {},
   "outputs": [
    {
     "data": {
      "image/png": "[encoded data removed]",
      "text/plain": [
       "<Figure size 1200x600 with 1 Axes>"
      ]
     },
     "metadata": {},
     "output_type": "display_data"
    }
   ],
   "source": [
    "\n",
    "# Plot training & validation loss\n",
    "plt.figure(figsize=(12, 6))\n",
    "plt.plot(history.history['loss'], label='Train Loss')\n",
    "plt.plot(history.history['val_loss'], label='Validation Loss')\n",
    "plt.legend()\n",
    "plt.show()"
   ]
  },
  {
   "cell_type": "code",
   "execution_count": 16,
   "metadata": {},
   "outputs": [
    {
     "name": "stdout",
     "output_type": "stream",
     "text": [
      "53/53 [==============================] - 2s 28ms/step\n"
     ]
    }
   ],
   "source": [
    "## for the X_train\n",
    "train_result=model.predict(X_train)\n",
    "train_result_inverse=scaler.inverse_transform(train_result)\n",
    "train_result_close=train_result_inverse[:, 3]\n"
   ]
  },
  {
   "cell_type": "code",
   "execution_count": null,
   "metadata": {},
   "outputs": [
    {
     "name": "stdout",
     "output_type": "stream",
     "text": [
      "6/6 [==============================] - 0s 28ms/step\n"
     ]
    }
   ],
   "source": [
    "## for the X_test\n",
    "test_result=model.predict(X_test)\n",
    "test_result_inverse=scaler.inverse_transform(test_result)\n",
    "test_result_close=test_result_inverse[:, 3]\n"
   ]
  },
  {
   "cell_type": "code",
   "execution_count": 57,
   "metadata": {},
   "outputs": [
    {
     "name": "stdout",
     "output_type": "stream",
     "text": [
      "MAE of close: 0.035791927503394126\n",
      "R² Score of close: 0.562151192371178\n",
      "MSE of close: 0.0018436303632584877\n",
      "MAPE of close: 0.23696074690426025\n"
     ]
    }
   ],
   "source": [
    "from sklearn.metrics import mean_absolute_error, r2_score, mean_squared_error, mean_absolute_percentage_error\n",
    "print(\"MAE of close:\", mean_absolute_error(y_test[:,3], test_result[:,3]))\n",
    "print(\"R² Score of close:\", r2_score(y_test[:,3], test_result[:,3]))\n",
    "print(\"MSE of close:\", mean_squared_error(y_test[:,3], test_result[:,3]))\n",
    "print(\"MAPE of close:\", mean_absolute_percentage_error(y_test[:,3], test_result[:,3]))\n"
   ]
  },
  {
   "cell_type": "code",
   "execution_count": null,
   "metadata": {},
   "outputs": [],
   "source": []
  }
 ],
 "metadata": {
  "kernelspec": {
   "display_name": "tfEnv",
   "language": "python",
   "name": "python3"
  },
  "language_info": {
   "codemirror_mode": {
    "name": "ipython",
    "version": 3
   },
   "file_extension": ".py",
   "mimetype": "text/x-python",
   "name": "python",
   "nbconvert_exporter": "python",
   "pygments_lexer": "ipython3",
   "version": "3.8.18"
  }
 },
 "nbformat": 4,
 "nbformat_minor": 2
}

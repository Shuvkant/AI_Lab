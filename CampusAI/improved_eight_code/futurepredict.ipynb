{
 "cells": [
  {
   "cell_type": "code",
   "execution_count": 2,
   "metadata": {},
   "outputs": [
    {
     "name": "stderr",
     "output_type": "stream",
     "text": [
      "2025-02-28 18:07:22.048669: I tensorflow/core/platform/cpu_feature_guard.cc:193] This TensorFlow binary is optimized with oneAPI Deep Neural Network Library (oneDNN) to use the following CPU instructions in performance-critical operations:  SSE4.1 SSE4.2\n",
      "To enable them in other operations, rebuild TensorFlow with the appropriate compiler flags.\n"
     ]
    }
   ],
   "source": [
    "import numpy as np\n",
    "import pandas as pd\n",
    "import matplotlib.pyplot as plt\n",
    "import yfinance as yf\n",
    "from sklearn.preprocessing import MinMaxScaler\n",
    "from sklearn.metrics import mean_absolute_error, r2_score\n",
    "from keras.models import Sequential\n",
    "from keras.layers import LSTM, Dense, Dropout\n"
   ]
  },
  {
   "cell_type": "code",
   "execution_count": 3,
   "metadata": {},
   "outputs": [],
   "source": [
    "# Load dataset\n",
    "file_path = 'sorted_stock_data_cleaned_nica.csv'\n",
    "data = pd.read_csv(file_path)"
   ]
  },
  {
   "cell_type": "code",
   "execution_count": 4,
   "metadata": {},
   "outputs": [],
   "source": [
    "last_100_days=data.tail(50)"
   ]
  },
  {
   "cell_type": "code",
   "execution_count": 5,
   "metadata": {},
   "outputs": [
    {
     "data": {
      "text/plain": [
       "(50, 9)"
      ]
     },
     "execution_count": 5,
     "metadata": {},
     "output_type": "execute_result"
    }
   ],
   "source": [
    "last_100_days.shape"
   ]
  },
  {
   "cell_type": "code",
   "execution_count": 6,
   "metadata": {},
   "outputs": [],
   "source": [
    "#scaling the data\n",
    "# Normalize the dataset\n",
    "scaler = MinMaxScaler()\n",
    "data_scaled = scaler.fit_transform(last_100_days)\n"
   ]
  },
  {
   "cell_type": "code",
   "execution_count": 7,
   "metadata": {},
   "outputs": [],
   "source": [
    "# input_sequence=data_scaled.copy()"
   ]
  },
  {
   "cell_type": "code",
   "execution_count": 8,
   "metadata": {},
   "outputs": [],
   "source": [
    "# input_sequence"
   ]
  },
  {
   "cell_type": "code",
   "execution_count": 9,
   "metadata": {},
   "outputs": [],
   "source": [
    "#  input_data = np.expand_dims(input_sequence, axis=0)  # Reshape for model input"
   ]
  },
  {
   "cell_type": "code",
   "execution_count": 10,
   "metadata": {},
   "outputs": [
    {
     "data": {
      "text/plain": [
       "(50, 9)"
      ]
     },
     "execution_count": 10,
     "metadata": {},
     "output_type": "execute_result"
    }
   ],
   "source": [
    "data_scaled.shape"
   ]
  },
  {
   "cell_type": "code",
   "execution_count": 11,
   "metadata": {},
   "outputs": [],
   "source": [
    "from tensorflow.keras.models import load_model\n",
    "\n",
    "# Load the saved Keras model\n",
    "model = load_model('lstm50.keras')\n",
    "\n",
    "# Now you can use the model to make predictions, evaluate, etc.\n"
   ]
  },
  {
   "cell_type": "code",
   "execution_count": 12,
   "metadata": {},
   "outputs": [],
   "source": [
    "#making predictions\n",
    "def predict_next_n_days(model, data_scaled, n_days=100):\n",
    "    predictions=[]\n",
    "    input_sequence=data_scaled.copy()\n",
    "\n",
    "    for _ in range(n_days):\n",
    "        input_data = np.expand_dims(input_sequence, axis=0)  # Reshape for model input\n",
    "        next_day_features = model.predict(input_data, verbose=0)[0]  # Predict next day\n",
    "        predictions.append(next_day_features)\n",
    "        \n",
    "        # Update input sequence: Remove first day, add predicted day\n",
    "        next_day_input = np.append(input_sequence[1:], [next_day_features], axis=0)\n",
    "        input_sequence = next_day_input\n",
    "        \n",
    "    return np.array(predictions)"
   ]
  },
  {
   "cell_type": "code",
   "execution_count": 13,
   "metadata": {},
   "outputs": [],
   "source": [
    "# Example usage\n",
    "# last_100_days = scaler.transform(last_100_days_raw)  # Normalize input if needed\n",
    "predicted_features = predict_next_n_days(model, data_scaled, n_days=150)"
   ]
  },
  {
   "cell_type": "code",
   "execution_count": 14,
   "metadata": {},
   "outputs": [
    {
     "data": {
      "text/plain": [
       "(150, 9)"
      ]
     },
     "execution_count": 14,
     "metadata": {},
     "output_type": "execute_result"
    }
   ],
   "source": [
    "predicted_features.shape"
   ]
  },
  {
   "cell_type": "code",
   "execution_count": 15,
   "metadata": {},
   "outputs": [
    {
     "data": {
      "text/plain": [
       "array([[0.29531878, 0.2862701 , 0.2913668 , ..., 0.15564969, 0.02774915,\n",
       "        0.80715364],\n",
       "       [0.29206717, 0.28502125, 0.28743038, ..., 0.14492506, 0.05302742,\n",
       "        0.7502498 ],\n",
       "       [0.28921342, 0.2840942 , 0.28509554, ..., 0.13083793, 0.07738045,\n",
       "        0.69364095],\n",
       "       ...,\n",
       "       [0.2048884 , 0.19849217, 0.20641433, ..., 0.02668621, 0.01589066,\n",
       "        0.6232821 ],\n",
       "       [0.20488834, 0.19849211, 0.20641428, ..., 0.02668618, 0.01589063,\n",
       "        0.62328213],\n",
       "       [0.20488833, 0.19849211, 0.20641425, ..., 0.02668619, 0.01589054,\n",
       "        0.6232822 ]], dtype=float32)"
      ]
     },
     "execution_count": 15,
     "metadata": {},
     "output_type": "execute_result"
    }
   ],
   "source": [
    "predicted_features"
   ]
  },
  {
   "cell_type": "code",
   "execution_count": 16,
   "metadata": {},
   "outputs": [],
   "source": [
    "predicted_features_inverse = scaler.inverse_transform(predicted_features)"
   ]
  },
  {
   "cell_type": "code",
   "execution_count": 17,
   "metadata": {},
   "outputs": [
    {
     "data": {
      "text/plain": [
       "array([[3.7376093e+02, 3.7932129e+02, 3.6893884e+02, ..., 1.9285960e+07,\n",
       "        2.0641418e+00, 1.7616711e+02],\n",
       "       [3.7353232e+02, 3.7924136e+02, 3.6868298e+02, ..., 1.8682868e+07,\n",
       "        2.0861340e+00, 1.7289540e+02],\n",
       "       [3.7333173e+02, 3.7918204e+02, 3.6853122e+02, ..., 1.7890688e+07,\n",
       "        2.1073210e+00, 1.6964064e+02],\n",
       "       ...,\n",
       "       [3.6740366e+02, 3.7370349e+02, 3.6341693e+02, ..., 1.2033788e+07,\n",
       "        2.0538249e+00, 1.6559534e+02],\n",
       "       [3.6740366e+02, 3.7370349e+02, 3.6341693e+02, ..., 1.2033786e+07,\n",
       "        2.0538249e+00, 1.6559534e+02],\n",
       "       [3.6740366e+02, 3.7370349e+02, 3.6341693e+02, ..., 1.2033786e+07,\n",
       "        2.0538247e+00, 1.6559534e+02]], dtype=float32)"
      ]
     },
     "execution_count": 17,
     "metadata": {},
     "output_type": "execute_result"
    }
   ],
   "source": [
    "predicted_features_inverse"
   ]
  },
  {
   "cell_type": "code",
   "execution_count": 18,
   "metadata": {},
   "outputs": [
    {
     "data": {
      "text/plain": [
       "array([3.7376093e+02, 3.7932129e+02, 3.6893884e+02, 3.7025723e+02,\n",
       "       1.5633587e-02, 5.6113500e+04, 1.9285960e+07, 2.0641418e+00,\n",
       "       1.7616711e+02], dtype=float32)"
      ]
     },
     "execution_count": 18,
     "metadata": {},
     "output_type": "execute_result"
    }
   ],
   "source": [
    "predicted_features_inverse[0]"
   ]
  },
  {
   "cell_type": "code",
   "execution_count": 19,
   "metadata": {},
   "outputs": [
    {
     "data": {
      "text/plain": [
       "370.25723"
      ]
     },
     "execution_count": 19,
     "metadata": {},
     "output_type": "execute_result"
    }
   ],
   "source": [
    "predicted_features_inverse[0][3]"
   ]
  },
  {
   "cell_type": "code",
   "execution_count": 20,
   "metadata": {},
   "outputs": [],
   "source": [
    "x_future_close=predicted_features_inverse[:, 3]\n"
   ]
  },
  {
   "cell_type": "code",
   "execution_count": 21,
   "metadata": {},
   "outputs": [
    {
     "data": {
      "text/plain": [
       "array([370.25723, 370.1026 , 370.0059 , 369.97546, 369.90256, 369.71442,\n",
       "       369.41   , 369.03107, 368.62894, 368.24152, 367.88934, 367.5786 ,\n",
       "       367.30768, 367.07166, 366.86523, 366.6844 , 366.52557, 366.3864 ,\n",
       "       366.2641 , 366.15738, 366.06442, 365.98315, 365.9119 , 365.84894,\n",
       "       365.79306, 365.74255, 365.69687, 365.6548 , 365.6157 , 365.57886,\n",
       "       365.54434, 365.51086, 365.47916, 365.44827, 365.41864, 365.39014,\n",
       "       365.36276, 365.33636, 365.31152, 365.2872 , 365.26395, 365.24197,\n",
       "       365.22104, 365.20108, 365.18234, 365.1647 , 365.14807, 365.13263,\n",
       "       365.1185 , 365.10516, 365.09253, 365.0808 , 365.06992, 365.0598 ,\n",
       "       365.05038, 365.04166, 365.03357, 365.02606, 365.0191 , 365.01263,\n",
       "       365.0067 , 365.00116, 364.99606, 364.99136, 364.98697, 364.98294,\n",
       "       364.97916, 364.97568, 364.9725 , 364.9695 , 364.96677, 364.9642 ,\n",
       "       364.96188, 364.9597 , 364.95767, 364.95578, 364.95407, 364.95248,\n",
       "       364.95102, 364.94965, 364.9484 , 364.94724, 364.94617, 364.9452 ,\n",
       "       364.94427, 364.94345, 364.9427 , 364.94196, 364.94135, 364.94077,\n",
       "       364.9402 , 364.9397 , 364.9392 , 364.93878, 364.93842, 364.93805,\n",
       "       364.9377 , 364.93744, 364.93716, 364.9369 , 364.93668, 364.93646,\n",
       "       364.93628, 364.9361 , 364.93594, 364.9358 , 364.93564, 364.93555,\n",
       "       364.93542, 364.93533, 364.93524, 364.93515, 364.93506, 364.935  ,\n",
       "       364.93494, 364.93488, 364.9348 , 364.93475, 364.93472, 364.93466,\n",
       "       364.93463, 364.9346 , 364.93457, 364.93454, 364.93454, 364.9345 ,\n",
       "       364.9345 , 364.93448, 364.93445, 364.93445, 364.93442, 364.93442,\n",
       "       364.9344 , 364.9344 , 364.9344 , 364.93436, 364.93436, 364.93436,\n",
       "       364.93436, 364.93433, 364.93433, 364.93433, 364.93433, 364.93433,\n",
       "       364.93433, 364.9343 , 364.9343 , 364.9343 , 364.9343 , 364.9343 ],\n",
       "      dtype=float32)"
      ]
     },
     "execution_count": 21,
     "metadata": {},
     "output_type": "execute_result"
    }
   ],
   "source": [
    "x_future_close"
   ]
  },
  {
   "cell_type": "code",
   "execution_count": 22,
   "metadata": {},
   "outputs": [
    {
     "data": {
      "text/plain": [
       "<matplotlib.legend.Legend at 0x7f9e69285220>"
      ]
     },
     "execution_count": 22,
     "metadata": {},
     "output_type": "execute_result"
    },
    {
     "data": {
      "image/png": "[encoded data removed]",
      "text/plain": [
       "<Figure size 1400x700 with 1 Axes>"
      ]
     },
     "metadata": {},
     "output_type": "display_data"
    }
   ],
   "source": [
    "# Plot actual vs predicted values for Close and PE Ratio\n",
    "plt.figure(figsize=(14, 7))\n",
    "\n",
    "# Plot Close\n",
    "plt.subplot(2, 1, 1)\n",
    "plt.plot(x_future_close, label=\"Actual Close\", color=\"blue\")\n",
    "# plt.plot(y_pred_close, label=\"Predicted Close\", color=\"red\")\n",
    "plt.xlabel(\"Days\")\n",
    "plt.ylabel(\"Close Price\")\n",
    "plt.title(\"Actual vs Predicted Close Price\")\n",
    "plt.savefig('future_predict')\n",
    "plt.legend()\n"
   ]
  },
  {
   "cell_type": "code",
   "execution_count": 23,
   "metadata": {},
   "outputs": [],
   "source": [
    "# # Plot Close Price Prediction\n",
    "# plt.figure(figsize=(12, 6))\n",
    "# plt.plot(predicted_features_inverse[:, 3], label=\"Predicted Close Price\", linestyle=\"dashed\", color=\"red\")  # Close price\n",
    "# plt.plot(predicted_features_inverse, predicted_features[:, 1], label=\"Predicted High\", linestyle=\"dashed\", color=\"blue\")  # High\n",
    "# plt.plot(predicted_features_inverse, predicted_features[:, 2], label=\"Predicted Low\", linestyle=\"dashed\", color=\"green\")  # Low\n",
    "# plt.xlabel(\"Date\")\n",
    "# plt.ylabel(\"Stock Price & Features\")\n",
    "# plt.title(\"Stock Feature Predictions for the Next 100 Days\")\n",
    "# plt.legend()\n",
    "# plt.show()"
   ]
  },
  {
   "cell_type": "code",
   "execution_count": null,
   "metadata": {},
   "outputs": [],
   "source": []
  }
 ],
 "metadata": {
  "kernelspec": {
   "display_name": "tfEnv",
   "language": "python",
   "name": "python3"
  },
  "language_info": {
   "codemirror_mode": {
    "name": "ipython",
    "version": 3
   },
   "file_extension": ".py",
   "mimetype": "text/x-python",
   "name": "python",
   "nbconvert_exporter": "python",
   "pygments_lexer": "ipython3",
   "version": "3.8.18"
  }
 },
 "nbformat": 4,
 "nbformat_minor": 2
}

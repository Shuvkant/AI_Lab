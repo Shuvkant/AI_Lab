{
 "cells": [
  {
   "cell_type": "code",
   "execution_count": 1,
   "metadata": {},
   "outputs": [
    {
     "name": "stderr",
     "output_type": "stream",
     "text": [
      "2025-02-28 21:39:09.405427: I tensorflow/core/platform/cpu_feature_guard.cc:193] This TensorFlow binary is optimized with oneAPI Deep Neural Network Library (oneDNN) to use the following CPU instructions in performance-critical operations:  SSE4.1 SSE4.2\n",
      "To enable them in other operations, rebuild TensorFlow with the appropriate compiler flags.\n"
     ]
    }
   ],
   "source": [
    "import pandas as pd\n",
    "import numpy as np\n",
    "import matplotlib.pyplot as plt\n",
    "from sklearn.preprocessing import MinMaxScaler\n",
    "from tensorflow.keras.models import Sequential\n",
    "from tensorflow.keras.layers import LSTM, Dense, Dropout"
   ]
  },
  {
   "cell_type": "code",
   "execution_count": 2,
   "metadata": {},
   "outputs": [],
   "source": [
    "# Load dataset\n",
    "file_path = 'only_3_sorted_stock_data_cleaned_nica.csv'\n",
    "\n",
    "# data_all = \n",
    "data_with_close=pd.read_csv(file_path)\n",
    "# data_all=data_with_close['close']"
   ]
  },
  {
   "cell_type": "code",
   "execution_count": 3,
   "metadata": {},
   "outputs": [
    {
     "data": {
      "text/html": [
       "<div>\n",
       "<style scoped>\n",
       "    .dataframe tbody tr th:only-of-type {\n",
       "        vertical-align: middle;\n",
       "    }\n",
       "\n",
       "    .dataframe tbody tr th {\n",
       "        vertical-align: top;\n",
       "    }\n",
       "\n",
       "    .dataframe thead th {\n",
       "        text-align: right;\n",
       "    }\n",
       "</style>\n",
       "<table border=\"1\" class=\"dataframe\">\n",
       "  <thead>\n",
       "    <tr style=\"text-align: right;\">\n",
       "      <th></th>\n",
       "      <th>Close</th>\n",
       "      <th>Qty</th>\n",
       "      <th>EPS</th>\n",
       "    </tr>\n",
       "  </thead>\n",
       "  <tbody>\n",
       "    <tr>\n",
       "      <th>0</th>\n",
       "      <td>660.0</td>\n",
       "      <td>3547.0</td>\n",
       "      <td>17.94</td>\n",
       "    </tr>\n",
       "    <tr>\n",
       "      <th>1</th>\n",
       "      <td>651.0</td>\n",
       "      <td>5758.0</td>\n",
       "      <td>17.94</td>\n",
       "    </tr>\n",
       "    <tr>\n",
       "      <th>2</th>\n",
       "      <td>646.0</td>\n",
       "      <td>6085.0</td>\n",
       "      <td>17.94</td>\n",
       "    </tr>\n",
       "    <tr>\n",
       "      <th>3</th>\n",
       "      <td>648.0</td>\n",
       "      <td>6977.0</td>\n",
       "      <td>17.94</td>\n",
       "    </tr>\n",
       "    <tr>\n",
       "      <th>4</th>\n",
       "      <td>648.0</td>\n",
       "      <td>3303.0</td>\n",
       "      <td>17.94</td>\n",
       "    </tr>\n",
       "    <tr>\n",
       "      <th>...</th>\n",
       "      <td>...</td>\n",
       "      <td>...</td>\n",
       "      <td>...</td>\n",
       "    </tr>\n",
       "    <tr>\n",
       "      <th>1915</th>\n",
       "      <td>363.0</td>\n",
       "      <td>47627.0</td>\n",
       "      <td>2.04</td>\n",
       "    </tr>\n",
       "    <tr>\n",
       "      <th>1916</th>\n",
       "      <td>370.7</td>\n",
       "      <td>70533.0</td>\n",
       "      <td>2.04</td>\n",
       "    </tr>\n",
       "    <tr>\n",
       "      <th>1917</th>\n",
       "      <td>382.0</td>\n",
       "      <td>108899.0</td>\n",
       "      <td>2.04</td>\n",
       "    </tr>\n",
       "    <tr>\n",
       "      <th>1918</th>\n",
       "      <td>377.0</td>\n",
       "      <td>74518.0</td>\n",
       "      <td>2.04</td>\n",
       "    </tr>\n",
       "    <tr>\n",
       "      <th>1919</th>\n",
       "      <td>374.5</td>\n",
       "      <td>42089.0</td>\n",
       "      <td>2.04</td>\n",
       "    </tr>\n",
       "  </tbody>\n",
       "</table>\n",
       "<p>1920 rows × 3 columns</p>\n",
       "</div>"
      ],
      "text/plain": [
       "      Close       Qty    EPS\n",
       "0     660.0    3547.0  17.94\n",
       "1     651.0    5758.0  17.94\n",
       "2     646.0    6085.0  17.94\n",
       "3     648.0    6977.0  17.94\n",
       "4     648.0    3303.0  17.94\n",
       "...     ...       ...    ...\n",
       "1915  363.0   47627.0   2.04\n",
       "1916  370.7   70533.0   2.04\n",
       "1917  382.0  108899.0   2.04\n",
       "1918  377.0   74518.0   2.04\n",
       "1919  374.5   42089.0   2.04\n",
       "\n",
       "[1920 rows x 3 columns]"
      ]
     },
     "execution_count": 3,
     "metadata": {},
     "output_type": "execute_result"
    }
   ],
   "source": [
    "data_with_close"
   ]
  },
  {
   "cell_type": "code",
   "execution_count": 4,
   "metadata": {},
   "outputs": [],
   "source": [
    "data_all=data_with_close['Close']"
   ]
  },
  {
   "cell_type": "code",
   "execution_count": 5,
   "metadata": {},
   "outputs": [],
   "source": [
    "\n",
    "# Train-Test Split\n",
    "data_train = data_all[:int(len(data_all)*0.80)]\n",
    "data_test = data_all[int(len(data_all)*0.80):]\n"
   ]
  },
  {
   "cell_type": "code",
   "execution_count": 6,
   "metadata": {},
   "outputs": [
    {
     "data": {
      "text/plain": [
       "0       660.0\n",
       "1       651.0\n",
       "2       646.0\n",
       "3       648.0\n",
       "4       648.0\n",
       "        ...  \n",
       "1531    739.0\n",
       "1532    750.0\n",
       "1533    775.0\n",
       "1534    778.0\n",
       "1535    778.0\n",
       "Name: Close, Length: 1536, dtype: float64"
      ]
     },
     "execution_count": 6,
     "metadata": {},
     "output_type": "execute_result"
    }
   ],
   "source": [
    "data_train"
   ]
  },
  {
   "cell_type": "code",
   "execution_count": 7,
   "metadata": {},
   "outputs": [],
   "source": [
    "data_train = pd.Series(data_train)\n",
    "data_train=data_train.values.reshape(-1,1)"
   ]
  },
  {
   "cell_type": "code",
   "execution_count": 8,
   "metadata": {},
   "outputs": [
    {
     "data": {
      "text/plain": [
       "array([[660.],\n",
       "       [651.],\n",
       "       [646.],\n",
       "       ...,\n",
       "       [775.],\n",
       "       [778.],\n",
       "       [778.]])"
      ]
     },
     "execution_count": 8,
     "metadata": {},
     "output_type": "execute_result"
    }
   ],
   "source": [
    "data_train"
   ]
  },
  {
   "cell_type": "code",
   "execution_count": 9,
   "metadata": {},
   "outputs": [],
   "source": [
    "# Normalize the dataset\n",
    "scaler = MinMaxScaler()\n",
    "data_train_scaled = scaler.fit_transform(data_train)"
   ]
  },
  {
   "cell_type": "code",
   "execution_count": 10,
   "metadata": {},
   "outputs": [
    {
     "data": {
      "text/plain": [
       "array([[0.46709677],\n",
       "       [0.45548387],\n",
       "       [0.44903226],\n",
       "       ...,\n",
       "       [0.61548387],\n",
       "       [0.61935484],\n",
       "       [0.61935484]])"
      ]
     },
     "execution_count": 10,
     "metadata": {},
     "output_type": "execute_result"
    }
   ],
   "source": [
    "data_train_scaled"
   ]
  },
  {
   "cell_type": "code",
   "execution_count": 11,
   "metadata": {},
   "outputs": [],
   "source": [
    "# Convert data into sequences\n",
    "def create_sequences(data, seq_length=50):\n",
    "    X, y = [], []\n",
    "    for i in range(len(data) - seq_length):\n",
    "        X.append(data[i:i+seq_length])\n",
    "        y.append(data[i+seq_length])\n",
    "    return np.array(X), np.array(y)\n",
    "\n",
    "seq_length = 50  # Lookback period\n",
    "X_train, y_train = create_sequences(data_train_scaled, seq_length)"
   ]
  },
  {
   "cell_type": "code",
   "execution_count": 12,
   "metadata": {},
   "outputs": [
    {
     "data": {
      "text/plain": [
       "((1486, 50, 1), (1486, 1))"
      ]
     },
     "execution_count": 12,
     "metadata": {},
     "output_type": "execute_result"
    }
   ],
   "source": [
    "X_train.shape, y_train.shape"
   ]
  },
  {
   "cell_type": "code",
   "execution_count": 13,
   "metadata": {},
   "outputs": [],
   "source": [
    "# Build LSTM model\n",
    "model = Sequential([\n",
    "    LSTM(64, activation='tanh', return_sequences=True, input_shape=(seq_length, 1)),\n",
    "    Dropout(0.2),\n",
    "    LSTM(128, activation='tanh', return_sequences=True),\n",
    "    Dropout(0.3),\n",
    "    LSTM(64, activation='tanh', return_sequences=True),\n",
    "    Dropout(0.3),\n",
    "    LSTM(32, activation='tanh', return_sequences=False),\n",
    "    Dropout(0.2),\n",
    "    Dense(1)  # Predicting all 8 features\n",
    "])"
   ]
  },
  {
   "cell_type": "code",
   "execution_count": 14,
   "metadata": {},
   "outputs": [
    {
     "name": "stdout",
     "output_type": "stream",
     "text": [
      "Epoch 1/50\n",
      "47/47 [==============================] - 8s 77ms/step - loss: 0.0232\n",
      "Epoch 2/50\n",
      "47/47 [==============================] - 3s 68ms/step - loss: 0.0060\n",
      "Epoch 3/50\n",
      "47/47 [==============================] - 3s 65ms/step - loss: 0.0050\n",
      "Epoch 4/50\n",
      "47/47 [==============================] - 3s 66ms/step - loss: 0.0061\n",
      "Epoch 5/50\n",
      "47/47 [==============================] - 3s 67ms/step - loss: 0.0053\n",
      "Epoch 6/50\n",
      "47/47 [==============================] - 3s 64ms/step - loss: 0.0049\n",
      "Epoch 7/50\n",
      "47/47 [==============================] - 3s 67ms/step - loss: 0.0042\n",
      "Epoch 8/50\n",
      "47/47 [==============================] - 3s 68ms/step - loss: 0.0042\n",
      "Epoch 9/50\n",
      "47/47 [==============================] - 3s 65ms/step - loss: 0.0036\n",
      "Epoch 10/50\n",
      "47/47 [==============================] - 3s 65ms/step - loss: 0.0033\n",
      "Epoch 11/50\n",
      "47/47 [==============================] - 4s 75ms/step - loss: 0.0035\n",
      "Epoch 12/50\n",
      "47/47 [==============================] - 3s 71ms/step - loss: 0.0035\n",
      "Epoch 13/50\n",
      "47/47 [==============================] - 3s 66ms/step - loss: 0.0034\n",
      "Epoch 14/50\n",
      "47/47 [==============================] - 3s 67ms/step - loss: 0.0031\n",
      "Epoch 15/50\n",
      "47/47 [==============================] - 3s 66ms/step - loss: 0.0029\n",
      "Epoch 16/50\n",
      "47/47 [==============================] - 3s 67ms/step - loss: 0.0029\n",
      "Epoch 17/50\n",
      "47/47 [==============================] - 3s 70ms/step - loss: 0.0031\n",
      "Epoch 18/50\n",
      "47/47 [==============================] - 3s 70ms/step - loss: 0.0034\n",
      "Epoch 19/50\n",
      "47/47 [==============================] - 3s 64ms/step - loss: 0.0030\n",
      "Epoch 20/50\n",
      "47/47 [==============================] - 3s 66ms/step - loss: 0.0026\n",
      "Epoch 21/50\n",
      "47/47 [==============================] - 3s 65ms/step - loss: 0.0025\n",
      "Epoch 22/50\n",
      "47/47 [==============================] - 3s 65ms/step - loss: 0.0024\n",
      "Epoch 23/50\n",
      "47/47 [==============================] - 3s 64ms/step - loss: 0.0025\n",
      "Epoch 24/50\n",
      "47/47 [==============================] - 3s 64ms/step - loss: 0.0026\n",
      "Epoch 25/50\n",
      "47/47 [==============================] - 3s 65ms/step - loss: 0.0022\n",
      "Epoch 26/50\n",
      "47/47 [==============================] - 3s 63ms/step - loss: 0.0026\n",
      "Epoch 27/50\n",
      "47/47 [==============================] - 3s 63ms/step - loss: 0.0023\n",
      "Epoch 28/50\n",
      "47/47 [==============================] - 3s 68ms/step - loss: 0.0026\n",
      "Epoch 29/50\n",
      "47/47 [==============================] - 3s 71ms/step - loss: 0.0021\n",
      "Epoch 30/50\n",
      "47/47 [==============================] - 3s 72ms/step - loss: 0.0021\n",
      "Epoch 31/50\n",
      "47/47 [==============================] - 3s 65ms/step - loss: 0.0020\n",
      "Epoch 32/50\n",
      "47/47 [==============================] - 3s 66ms/step - loss: 0.0022\n",
      "Epoch 33/50\n",
      "47/47 [==============================] - 3s 72ms/step - loss: 0.0021\n",
      "Epoch 34/50\n",
      "47/47 [==============================] - 3s 73ms/step - loss: 0.0020\n",
      "Epoch 35/50\n",
      "47/47 [==============================] - 4s 75ms/step - loss: 0.0019\n",
      "Epoch 36/50\n",
      "47/47 [==============================] - 3s 71ms/step - loss: 0.0022\n",
      "Epoch 37/50\n",
      "47/47 [==============================] - 3s 70ms/step - loss: 0.0021\n",
      "Epoch 38/50\n",
      "47/47 [==============================] - 3s 71ms/step - loss: 0.0020\n",
      "Epoch 39/50\n",
      "47/47 [==============================] - 3s 67ms/step - loss: 0.0020\n",
      "Epoch 40/50\n",
      "47/47 [==============================] - 4s 77ms/step - loss: 0.0018\n",
      "Epoch 41/50\n",
      "47/47 [==============================] - 4s 76ms/step - loss: 0.0018\n",
      "Epoch 42/50\n",
      "47/47 [==============================] - 3s 73ms/step - loss: 0.0021\n",
      "Epoch 43/50\n",
      "47/47 [==============================] - 3s 72ms/step - loss: 0.0018\n",
      "Epoch 44/50\n",
      "47/47 [==============================] - 3s 69ms/step - loss: 0.0020\n",
      "Epoch 45/50\n",
      "47/47 [==============================] - 3s 72ms/step - loss: 0.0019\n",
      "Epoch 46/50\n",
      "47/47 [==============================] - 3s 72ms/step - loss: 0.0017\n",
      "Epoch 47/50\n",
      "47/47 [==============================] - 3s 73ms/step - loss: 0.0017\n",
      "Epoch 48/50\n",
      "47/47 [==============================] - 3s 74ms/step - loss: 0.0015\n",
      "Epoch 49/50\n",
      "47/47 [==============================] - 3s 72ms/step - loss: 0.0017\n",
      "Epoch 50/50\n",
      "47/47 [==============================] - 3s 71ms/step - loss: 0.0017\n"
     ]
    }
   ],
   "source": [
    "# Compile and train the model\n",
    "model.compile(optimizer='adam', loss='mean_squared_error')\n",
    "model.fit(X_train, y_train, epochs=50, batch_size=32, verbose=1)\n",
    "model.save(\"lstm_final.keras\")"
   ]
  },
  {
   "cell_type": "code",
   "execution_count": 17,
   "metadata": {},
   "outputs": [],
   "source": [
    "data_test = pd.Series(data_test)\n",
    "data_test=data_test.values.reshape(-1,1)"
   ]
  },
  {
   "cell_type": "code",
   "execution_count": 18,
   "metadata": {},
   "outputs": [],
   "source": [
    "# Prepare Test Data\n",
    "data_test_scaled=scaler.transform(data_test)\n",
    "# Convert data into sequences\n",
    "def create_sequences(data_test, seq_length=50):\n",
    "    X, y = [], []\n",
    "    for i in range(len(data_test) - seq_length):\n",
    "        X.append(data_test[i:i+seq_length])\n",
    "        y.append(data_test[i+seq_length])\n",
    "    return np.array(X), np.array(y)\n",
    "\n",
    "seq_length = 50  # Lookback period\n",
    "X_test, y_test = create_sequences(data_test_scaled, seq_length)\n"
   ]
  },
  {
   "cell_type": "code",
   "execution_count": 19,
   "metadata": {},
   "outputs": [
    {
     "name": "stdout",
     "output_type": "stream",
     "text": [
      "11/11 [==============================] - 1s 22ms/step\n"
     ]
    }
   ],
   "source": [
    "# Make Predictions\n",
    "y_pred_scaled = model.predict(X_test)\n",
    "y_pred = scaler.inverse_transform(y_pred_scaled)\n",
    "# y_test_actual = scaler.inverse_transform(y_test.reshape(-1,1))\n",
    "y_test_actual = (scaler.inverse_transform(y_test.reshape(-1,1))).reshape(y_test.shape)"
   ]
  },
  {
   "cell_type": "code",
   "execution_count": 20,
   "metadata": {},
   "outputs": [],
   "source": [
    "# Assuming 'Close' is the 0th feature and 'PE Ratio' is the 5th feature in the dataset\n",
    "# Extract the actual test values\n",
    "X_test_close = y_test_actual[:, 0]  # Actual Close values from test data\n",
    "# X_test_pe = y_test_actual[:, 0]  # Actual PE Ratio values from test data\n",
    "y_pred_close=y_pred[:,0]\n",
    "# y_pred_pe=y_pred[:,2]\n"
   ]
  },
  {
   "cell_type": "code",
   "execution_count": 21,
   "metadata": {},
   "outputs": [
    {
     "data": {
      "text/plain": [
       "<matplotlib.legend.Legend at 0x7f8a7126ab20>"
      ]
     },
     "execution_count": 21,
     "metadata": {},
     "output_type": "execute_result"
    },
    {
     "data": {
      "image/png": "[encoded data removed]",
      "text/plain": [
       "<Figure size 1400x700 with 1 Axes>"
      ]
     },
     "metadata": {},
     "output_type": "display_data"
    }
   ],
   "source": [
    "# Plot actual vs predicted values for Close and PE Ratio\n",
    "plt.figure(figsize=(14, 7))\n",
    "\n",
    "# Plot Close\n",
    "plt.subplot(2, 1, 1)\n",
    "plt.plot(X_test_close, label=\"Actual Close\", color=\"blue\")\n",
    "plt.plot(y_pred_close, label=\"Predicted Close\", color=\"red\")\n",
    "plt.xlabel(\"Days\")\n",
    "plt.ylabel(\"Close Price\")\n",
    "plt.title(\"Actual vs Predicted Close Price\")\n",
    "plt.legend()\n"
   ]
  },
  {
   "cell_type": "code",
   "execution_count": null,
   "metadata": {},
   "outputs": [],
   "source": [
    "# # Plot PE Ratio\n",
    "# plt.subplot(2, 1, 2)\n",
    "# plt.plot(X_test_pe, label=\"Actual PE Ratio\", color=\"green\")\n",
    "# plt.plot(y_pred_pe, label=\"Predicted PE Ratio\",  color=\"red\")\n",
    "# plt.xlabel(\"Days\")\n",
    "# plt.ylabel(\"EPS Ratio\")\n",
    "# plt.title(\"Actual vs Predicted PE Ratio\")\n",
    "# plt.legend()"
   ]
  },
  {
   "cell_type": "code",
   "execution_count": 22,
   "metadata": {},
   "outputs": [],
   "source": [
    "##For Future prediction\n",
    "last_50_datas=data_all[-seq_length:]"
   ]
  },
  {
   "cell_type": "code",
   "execution_count": 23,
   "metadata": {},
   "outputs": [
    {
     "data": {
      "text/plain": [
       "1870    415.2\n",
       "1871    409.9\n",
       "1872    405.0\n",
       "1873    405.0\n",
       "1874    405.0\n",
       "1875    415.0\n",
       "1876    403.0\n",
       "1877    398.2\n",
       "1878    397.0\n",
       "1879    392.0\n",
       "1880    392.9\n",
       "1881    390.0\n",
       "1882    388.8\n",
       "1883    396.0\n",
       "1884    403.0\n",
       "1885    391.0\n",
       "1886    385.0\n",
       "1887    383.6\n",
       "1888    386.9\n",
       "1889    384.0\n",
       "1890    388.0\n",
       "1891    387.8\n",
       "1892    387.0\n",
       "1893    383.4\n",
       "1894    381.0\n",
       "1895    377.6\n",
       "1896    377.8\n",
       "1897    368.9\n",
       "1898    366.0\n",
       "1899    357.5\n",
       "1900    359.0\n",
       "1901    369.8\n",
       "1902    366.0\n",
       "1903    356.5\n",
       "1904    353.0\n",
       "1905    357.0\n",
       "1906    367.0\n",
       "1907    372.0\n",
       "1908    369.3\n",
       "1909    365.0\n",
       "1910    365.9\n",
       "1911    366.0\n",
       "1912    364.1\n",
       "1913    364.0\n",
       "1914    363.1\n",
       "1915    363.0\n",
       "1916    370.7\n",
       "1917    382.0\n",
       "1918    377.0\n",
       "1919    374.5\n",
       "Name: Close, dtype: float64"
      ]
     },
     "execution_count": 23,
     "metadata": {},
     "output_type": "execute_result"
    }
   ],
   "source": [
    "last_50_datas"
   ]
  },
  {
   "cell_type": "code",
   "execution_count": 25,
   "metadata": {},
   "outputs": [],
   "source": [
    "last_50_datas = pd.Series(last_50_datas)\n",
    "last_50_datas=last_50_datas.values.reshape(-1,1)"
   ]
  },
  {
   "cell_type": "code",
   "execution_count": 26,
   "metadata": {},
   "outputs": [],
   "source": [
    "#Scale the data\n",
    "last_50_datas_scaled=scaler.transform(last_50_datas)"
   ]
  },
  {
   "cell_type": "code",
   "execution_count": 27,
   "metadata": {},
   "outputs": [],
   "source": [
    "#making predictions\n",
    "def predict_next_n_days(model, data_scaled, n_days=100):\n",
    "    predictions=[]\n",
    "    input_sequence=data_scaled[-seq_length:].copy()\n",
    "\n",
    "    for _ in range(n_days):\n",
    "        input_data = np.expand_dims(input_sequence, axis=0)  # Reshape for model input\n",
    "        next_day_features = model.predict(input_data, verbose=0)[0]  # Predict next day\n",
    "        predictions.append(next_day_features)\n",
    "        \n",
    "        # Update input sequence: Remove first day, add predicted day\n",
    "        next_day_input = np.append(input_sequence[1:], [next_day_features], axis=0)\n",
    "        input_sequence = next_day_input\n",
    "        \n",
    "    return np.array(predictions)"
   ]
  },
  {
   "cell_type": "code",
   "execution_count": 45,
   "metadata": {},
   "outputs": [],
   "source": [
    "# Example usage\n",
    "# last_100_days = scaler.transform(last_100_days_raw)  # Normalize input if needed\n",
    "predicted_features = predict_next_n_days(model, last_50_datas_scaled, n_days=30)"
   ]
  },
  {
   "cell_type": "code",
   "execution_count": 46,
   "metadata": {},
   "outputs": [
    {
     "data": {
      "text/plain": [
       "array([[0.09474981],\n",
       "       [0.09775984],\n",
       "       [0.09870961],\n",
       "       [0.09815948],\n",
       "       [0.09693678],\n",
       "       [0.09560909],\n",
       "       [0.09437387],\n",
       "       [0.09319378],\n",
       "       [0.09196811],\n",
       "       [0.09063662],\n",
       "       [0.08920011],\n",
       "       [0.08769559],\n",
       "       [0.08616644],\n",
       "       [0.08464475],\n",
       "       [0.08314876],\n",
       "       [0.08168799],\n",
       "       [0.08026901],\n",
       "       [0.078897  ],\n",
       "       [0.07757749],\n",
       "       [0.07631509],\n",
       "       [0.07511322],\n",
       "       [0.07397296],\n",
       "       [0.07289384],\n",
       "       [0.07187392],\n",
       "       [0.07091025],\n",
       "       [0.06999891],\n",
       "       [0.06913571],\n",
       "       [0.06831567],\n",
       "       [0.06753407],\n",
       "       [0.0667854 ]], dtype=float32)"
      ]
     },
     "execution_count": 46,
     "metadata": {},
     "output_type": "execute_result"
    }
   ],
   "source": [
    "predicted_features"
   ]
  },
  {
   "cell_type": "code",
   "execution_count": 47,
   "metadata": {},
   "outputs": [],
   "source": [
    "predicted_features_inverse = scaler.inverse_transform(predicted_features)"
   ]
  },
  {
   "cell_type": "code",
   "execution_count": 48,
   "metadata": {},
   "outputs": [
    {
     "data": {
      "text/plain": [
       "array([[371.4311 ],\n",
       "       [373.7639 ],\n",
       "       [374.49994],\n",
       "       [374.0736 ],\n",
       "       [373.126  ],\n",
       "       [372.09705],\n",
       "       [371.13974],\n",
       "       [370.2252 ],\n",
       "       [369.2753 ],\n",
       "       [368.24338],\n",
       "       [367.13007],\n",
       "       [365.96408],\n",
       "       [364.779  ],\n",
       "       [363.59967],\n",
       "       [362.4403 ],\n",
       "       [361.3082 ],\n",
       "       [360.20847],\n",
       "       [359.14517],\n",
       "       [358.12256],\n",
       "       [357.1442 ],\n",
       "       [356.21274],\n",
       "       [355.32904],\n",
       "       [354.49274],\n",
       "       [353.7023 ],\n",
       "       [352.95544],\n",
       "       [352.24915],\n",
       "       [351.58017],\n",
       "       [350.94464],\n",
       "       [350.3389 ],\n",
       "       [349.75867]], dtype=float32)"
      ]
     },
     "execution_count": 48,
     "metadata": {},
     "output_type": "execute_result"
    }
   ],
   "source": [
    "predicted_features_inverse"
   ]
  },
  {
   "cell_type": "code",
   "execution_count": 49,
   "metadata": {},
   "outputs": [
    {
     "data": {
      "text/plain": [
       "array([371.4311], dtype=float32)"
      ]
     },
     "execution_count": 49,
     "metadata": {},
     "output_type": "execute_result"
    }
   ],
   "source": [
    "predicted_features_inverse[0]"
   ]
  },
  {
   "cell_type": "code",
   "execution_count": 50,
   "metadata": {},
   "outputs": [],
   "source": [
    "# predicted_features_inverse[0][0]"
   ]
  },
  {
   "cell_type": "code",
   "execution_count": 51,
   "metadata": {},
   "outputs": [],
   "source": [
    "x_future_close=predicted_features_inverse[:, 0]\n"
   ]
  },
  {
   "cell_type": "code",
   "execution_count": 52,
   "metadata": {},
   "outputs": [
    {
     "data": {
      "text/plain": [
       "array([371.4311 , 373.7639 , 374.49994, 374.0736 , 373.126  , 372.09705,\n",
       "       371.13974, 370.2252 , 369.2753 , 368.24338, 367.13007, 365.96408,\n",
       "       364.779  , 363.59967, 362.4403 , 361.3082 , 360.20847, 359.14517,\n",
       "       358.12256, 357.1442 , 356.21274, 355.32904, 354.49274, 353.7023 ,\n",
       "       352.95544, 352.24915, 351.58017, 350.94464, 350.3389 , 349.75867],\n",
       "      dtype=float32)"
      ]
     },
     "execution_count": 52,
     "metadata": {},
     "output_type": "execute_result"
    }
   ],
   "source": [
    "x_future_close"
   ]
  },
  {
   "cell_type": "code",
   "execution_count": 53,
   "metadata": {},
   "outputs": [
    {
     "data": {
      "text/plain": [
       "<matplotlib.legend.Legend at 0x7f8a508c8760>"
      ]
     },
     "execution_count": 53,
     "metadata": {},
     "output_type": "execute_result"
    },
    {
     "data": {
      "image/png": "[encoded data removed]",
      "text/plain": [
       "<Figure size 1400x700 with 1 Axes>"
      ]
     },
     "metadata": {},
     "output_type": "display_data"
    }
   ],
   "source": [
    "# Plot actual vs predicted values for Close and PE Ratio\n",
    "plt.figure(figsize=(14, 7))\n",
    "\n",
    "# Plot Close\n",
    "plt.subplot(2, 1, 1)\n",
    "plt.plot(x_future_close, label=\"Actual Close\", color=\"blue\")\n",
    "# plt.plot(y_pred_close, label=\"Predicted Close\", color=\"red\")\n",
    "plt.xlabel(\"Days\")\n",
    "plt.ylabel(\"Close Price\")\n",
    "plt.title(\"Actual vs Predicted Close Price\")\n",
    "plt.savefig('future_predict')\n",
    "plt.legend()\n"
   ]
  },
  {
   "cell_type": "code",
   "execution_count": null,
   "metadata": {},
   "outputs": [],
   "source": [
    "predicted_data=predicted_features_inverse"
   ]
  },
  {
   "cell_type": "code",
   "execution_count": null,
   "metadata": {},
   "outputs": [],
   "source": [
    "predicted_features_inverse.shape"
   ]
  },
  {
   "cell_type": "code",
   "execution_count": null,
   "metadata": {},
   "outputs": [],
   "source": [
    "# predicted_data.t\n",
    "df=pd.DataFrame(predicted_data)\n",
    "df.to_csv(\"prediction.csv\", index=False)"
   ]
  },
  {
   "cell_type": "code",
   "execution_count": null,
   "metadata": {},
   "outputs": [],
   "source": []
  }
 ],
 "metadata": {
  "kernelspec": {
   "display_name": "tfEnv",
   "language": "python",
   "name": "python3"
  },
  "language_info": {
   "codemirror_mode": {
    "name": "ipython",
    "version": 3
   },
   "file_extension": ".py",
   "mimetype": "text/x-python",
   "name": "python",
   "nbconvert_exporter": "python",
   "pygments_lexer": "ipython3",
   "version": "3.8.18"
  }
 },
 "nbformat": 4,
 "nbformat_minor": 2
}

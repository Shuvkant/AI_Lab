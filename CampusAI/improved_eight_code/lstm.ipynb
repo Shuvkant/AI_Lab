{
 "cells": [
  {
   "cell_type": "code",
   "execution_count": 1,
   "metadata": {},
   "outputs": [
    {
     "name": "stderr",
     "output_type": "stream",
     "text": [
      "2025-02-28 17:32:25.801405: I tensorflow/core/platform/cpu_feature_guard.cc:193] This TensorFlow binary is optimized with oneAPI Deep Neural Network Library (oneDNN) to use the following CPU instructions in performance-critical operations:  SSE4.1 SSE4.2\n",
      "To enable them in other operations, rebuild TensorFlow with the appropriate compiler flags.\n"
     ]
    }
   ],
   "source": [
    "import pandas as pd\n",
    "import numpy as np\n",
    "import matplotlib.pyplot as plt\n",
    "from sklearn.preprocessing import MinMaxScaler\n",
    "from tensorflow.keras.models import Sequential\n",
    "from tensorflow.keras.layers import LSTM, Dense, Dropout"
   ]
  },
  {
   "cell_type": "code",
   "execution_count": 2,
   "metadata": {},
   "outputs": [],
   "source": [
    "# Load dataset\n",
    "file_path = 'sorted_stock_data_cleaned_nica.csv'\n",
    "data = pd.read_csv(file_path)"
   ]
  },
  {
   "cell_type": "code",
   "execution_count": null,
   "metadata": {},
   "outputs": [],
   "source": []
  },
  {
   "cell_type": "code",
   "execution_count": 3,
   "metadata": {},
   "outputs": [
    {
     "data": {
      "text/html": [
       "<div>\n",
       "<style scoped>\n",
       "    .dataframe tbody tr th:only-of-type {\n",
       "        vertical-align: middle;\n",
       "    }\n",
       "\n",
       "    .dataframe tbody tr th {\n",
       "        vertical-align: top;\n",
       "    }\n",
       "\n",
       "    .dataframe thead th {\n",
       "        text-align: right;\n",
       "    }\n",
       "</style>\n",
       "<table border=\"1\" class=\"dataframe\">\n",
       "  <thead>\n",
       "    <tr style=\"text-align: right;\">\n",
       "      <th></th>\n",
       "      <th>Open</th>\n",
       "      <th>High</th>\n",
       "      <th>Low</th>\n",
       "      <th>Close</th>\n",
       "      <th>per_change</th>\n",
       "      <th>Qty</th>\n",
       "      <th>Turnover</th>\n",
       "      <th>EPS</th>\n",
       "      <th>PE</th>\n",
       "    </tr>\n",
       "  </thead>\n",
       "  <tbody>\n",
       "    <tr>\n",
       "      <th>0</th>\n",
       "      <td>678.0</td>\n",
       "      <td>666.0</td>\n",
       "      <td>658.0</td>\n",
       "      <td>660.0</td>\n",
       "      <td>0.0</td>\n",
       "      <td>3547.0</td>\n",
       "      <td>2347771.0</td>\n",
       "      <td>17.94</td>\n",
       "      <td>36.789298</td>\n",
       "    </tr>\n",
       "    <tr>\n",
       "      <th>1</th>\n",
       "      <td>660.0</td>\n",
       "      <td>660.0</td>\n",
       "      <td>647.0</td>\n",
       "      <td>651.0</td>\n",
       "      <td>0.0</td>\n",
       "      <td>5758.0</td>\n",
       "      <td>3758521.0</td>\n",
       "      <td>17.94</td>\n",
       "      <td>36.287625</td>\n",
       "    </tr>\n",
       "    <tr>\n",
       "      <th>2</th>\n",
       "      <td>651.0</td>\n",
       "      <td>655.0</td>\n",
       "      <td>644.0</td>\n",
       "      <td>646.0</td>\n",
       "      <td>0.0</td>\n",
       "      <td>6085.0</td>\n",
       "      <td>3939778.0</td>\n",
       "      <td>17.94</td>\n",
       "      <td>36.008919</td>\n",
       "    </tr>\n",
       "    <tr>\n",
       "      <th>3</th>\n",
       "      <td>646.0</td>\n",
       "      <td>651.0</td>\n",
       "      <td>642.0</td>\n",
       "      <td>648.0</td>\n",
       "      <td>0.0</td>\n",
       "      <td>6977.0</td>\n",
       "      <td>4505359.0</td>\n",
       "      <td>17.94</td>\n",
       "      <td>36.120401</td>\n",
       "    </tr>\n",
       "    <tr>\n",
       "      <th>4</th>\n",
       "      <td>648.0</td>\n",
       "      <td>651.0</td>\n",
       "      <td>643.0</td>\n",
       "      <td>648.0</td>\n",
       "      <td>0.0</td>\n",
       "      <td>3303.0</td>\n",
       "      <td>2133809.0</td>\n",
       "      <td>17.94</td>\n",
       "      <td>36.120401</td>\n",
       "    </tr>\n",
       "  </tbody>\n",
       "</table>\n",
       "</div>"
      ],
      "text/plain": [
       "    Open   High    Low  Close  per_change     Qty   Turnover    EPS         PE\n",
       "0  678.0  666.0  658.0  660.0         0.0  3547.0  2347771.0  17.94  36.789298\n",
       "1  660.0  660.0  647.0  651.0         0.0  5758.0  3758521.0  17.94  36.287625\n",
       "2  651.0  655.0  644.0  646.0         0.0  6085.0  3939778.0  17.94  36.008919\n",
       "3  646.0  651.0  642.0  648.0         0.0  6977.0  4505359.0  17.94  36.120401\n",
       "4  648.0  651.0  643.0  648.0         0.0  3303.0  2133809.0  17.94  36.120401"
      ]
     },
     "metadata": {},
     "output_type": "display_data"
    }
   ],
   "source": [
    "# Display dataset info\n",
    "display(data.head())"
   ]
  },
  {
   "cell_type": "code",
   "execution_count": 4,
   "metadata": {},
   "outputs": [],
   "source": [
    "# Ensure the dataset has the required 8 features\n",
    "assert len(data.columns) == 9, \"Dataset should have exactly 9 features!\""
   ]
  },
  {
   "cell_type": "code",
   "execution_count": 5,
   "metadata": {},
   "outputs": [],
   "source": [
    "# Normalize the dataset\n",
    "scaler = MinMaxScaler()\n",
    "data_scaled = scaler.fit_transform(data)"
   ]
  },
  {
   "cell_type": "code",
   "execution_count": 6,
   "metadata": {},
   "outputs": [],
   "source": [
    "# Convert data into sequences\n",
    "def create_sequences(data, seq_length=50):\n",
    "    X, y = [], []\n",
    "    for i in range(len(data) - seq_length):\n",
    "        X.append(data[i:i+seq_length])\n",
    "        y.append(data[i+seq_length])\n",
    "    return np.array(X), np.array(y)\n",
    "\n",
    "seq_length = 50  # Lookback period\n",
    "X_train, y_train = create_sequences(data_scaled, seq_length)"
   ]
  },
  {
   "cell_type": "markdown",
   "metadata": {},
   "source": []
  },
  {
   "cell_type": "code",
   "execution_count": 7,
   "metadata": {},
   "outputs": [
    {
     "data": {
      "text/plain": [
       "((1870, 9), (1870, 50, 9))"
      ]
     },
     "execution_count": 7,
     "metadata": {},
     "output_type": "execute_result"
    }
   ],
   "source": [
    "y_train.shape, X_train.shape"
   ]
  },
  {
   "cell_type": "code",
   "execution_count": 8,
   "metadata": {},
   "outputs": [],
   "source": [
    "# Build LSTM model\n",
    "model = Sequential([\n",
    "    LSTM(64, activation='tanh', return_sequences=True, input_shape=(seq_length, 9)),\n",
    "    Dropout(0.2),\n",
    "    LSTM(128, activation='tanh', return_sequences=True),\n",
    "    Dropout(0.3),\n",
    "    LSTM(64, activation='tanh', return_sequences=True),\n",
    "    Dropout(0.3),\n",
    "    LSTM(32, activation='tanh', return_sequences=False),\n",
    "    Dropout(0.2),\n",
    "    Dense(9)  # Predicting all 8 features\n",
    "])"
   ]
  },
  {
   "cell_type": "code",
   "execution_count": 9,
   "metadata": {},
   "outputs": [
    {
     "name": "stdout",
     "output_type": "stream",
     "text": [
      "Epoch 1/50\n",
      "47/47 [==============================] - 9s 94ms/step - loss: 0.0330 - val_loss: 0.0100\n",
      "Epoch 2/50\n",
      "47/47 [==============================] - 3s 72ms/step - loss: 0.0157 - val_loss: 0.0088\n",
      "Epoch 3/50\n",
      "47/47 [==============================] - 3s 71ms/step - loss: 0.0128 - val_loss: 0.0082\n",
      "Epoch 4/50\n",
      "47/47 [==============================] - 3s 73ms/step - loss: 0.0118 - val_loss: 0.0086\n",
      "Epoch 5/50\n",
      "47/47 [==============================] - 3s 72ms/step - loss: 0.0110 - val_loss: 0.0087\n",
      "Epoch 6/50\n",
      "47/47 [==============================] - 3s 74ms/step - loss: 0.0100 - val_loss: 0.0072\n",
      "Epoch 7/50\n",
      "47/47 [==============================] - 3s 70ms/step - loss: 0.0097 - val_loss: 0.0081\n",
      "Epoch 8/50\n",
      "47/47 [==============================] - 3s 74ms/step - loss: 0.0085 - val_loss: 0.0064\n",
      "Epoch 9/50\n",
      "47/47 [==============================] - 3s 71ms/step - loss: 0.0083 - val_loss: 0.0075\n",
      "Epoch 10/50\n",
      "47/47 [==============================] - 3s 71ms/step - loss: 0.0080 - val_loss: 0.0068\n",
      "Epoch 11/50\n",
      "47/47 [==============================] - 4s 81ms/step - loss: 0.0074 - val_loss: 0.0060\n",
      "Epoch 12/50\n",
      "47/47 [==============================] - 3s 72ms/step - loss: 0.0072 - val_loss: 0.0070\n",
      "Epoch 13/50\n",
      "47/47 [==============================] - 3s 72ms/step - loss: 0.0068 - val_loss: 0.0064\n",
      "Epoch 14/50\n",
      "47/47 [==============================] - 4s 76ms/step - loss: 0.0067 - val_loss: 0.0068\n",
      "Epoch 15/50\n",
      "47/47 [==============================] - 4s 77ms/step - loss: 0.0067 - val_loss: 0.0059\n",
      "Epoch 16/50\n",
      "47/47 [==============================] - 3s 74ms/step - loss: 0.0063 - val_loss: 0.0057\n",
      "Epoch 17/50\n",
      "47/47 [==============================] - 4s 77ms/step - loss: 0.0063 - val_loss: 0.0063\n",
      "Epoch 18/50\n",
      "47/47 [==============================] - 3s 74ms/step - loss: 0.0063 - val_loss: 0.0068\n",
      "Epoch 19/50\n",
      "47/47 [==============================] - 3s 74ms/step - loss: 0.0058 - val_loss: 0.0052\n",
      "Epoch 20/50\n",
      "47/47 [==============================] - 4s 76ms/step - loss: 0.0056 - val_loss: 0.0056\n",
      "Epoch 21/50\n",
      "47/47 [==============================] - 3s 73ms/step - loss: 0.0053 - val_loss: 0.0050\n",
      "Epoch 22/50\n",
      "47/47 [==============================] - 3s 73ms/step - loss: 0.0055 - val_loss: 0.0064\n",
      "Epoch 23/50\n",
      "47/47 [==============================] - 4s 76ms/step - loss: 0.0054 - val_loss: 0.0054\n",
      "Epoch 24/50\n",
      "47/47 [==============================] - 3s 75ms/step - loss: 0.0054 - val_loss: 0.0053\n",
      "Epoch 25/50\n",
      "47/47 [==============================] - 4s 78ms/step - loss: 0.0052 - val_loss: 0.0052\n",
      "Epoch 26/50\n",
      "47/47 [==============================] - 4s 77ms/step - loss: 0.0052 - val_loss: 0.0064\n",
      "Epoch 27/50\n",
      "47/47 [==============================] - 4s 76ms/step - loss: 0.0053 - val_loss: 0.0055\n",
      "Epoch 28/50\n",
      "47/47 [==============================] - 3s 73ms/step - loss: 0.0050 - val_loss: 0.0054\n",
      "Epoch 29/50\n",
      "47/47 [==============================] - 4s 76ms/step - loss: 0.0049 - val_loss: 0.0052\n",
      "Epoch 30/50\n",
      "47/47 [==============================] - 4s 76ms/step - loss: 0.0048 - val_loss: 0.0050\n",
      "Epoch 31/50\n",
      "47/47 [==============================] - 3s 73ms/step - loss: 0.0047 - val_loss: 0.0050\n",
      "Epoch 32/50\n",
      "47/47 [==============================] - 4s 79ms/step - loss: 0.0046 - val_loss: 0.0047\n",
      "Epoch 33/50\n",
      "47/47 [==============================] - 4s 76ms/step - loss: 0.0044 - val_loss: 0.0048\n",
      "Epoch 34/50\n",
      "47/47 [==============================] - 4s 75ms/step - loss: 0.0045 - val_loss: 0.0045\n",
      "Epoch 35/50\n",
      "47/47 [==============================] - 4s 78ms/step - loss: 0.0047 - val_loss: 0.0046\n",
      "Epoch 36/50\n",
      "47/47 [==============================] - 4s 75ms/step - loss: 0.0045 - val_loss: 0.0044\n",
      "Epoch 37/50\n",
      "47/47 [==============================] - 4s 79ms/step - loss: 0.0044 - val_loss: 0.0047\n",
      "Epoch 38/50\n",
      "47/47 [==============================] - 4s 76ms/step - loss: 0.0044 - val_loss: 0.0046\n",
      "Epoch 39/50\n",
      "47/47 [==============================] - 4s 77ms/step - loss: 0.0045 - val_loss: 0.0043\n",
      "Epoch 40/50\n",
      "47/47 [==============================] - 4s 78ms/step - loss: 0.0043 - val_loss: 0.0043\n",
      "Epoch 41/50\n",
      "47/47 [==============================] - 4s 76ms/step - loss: 0.0042 - val_loss: 0.0044\n",
      "Epoch 42/50\n",
      "47/47 [==============================] - 4s 77ms/step - loss: 0.0043 - val_loss: 0.0048\n",
      "Epoch 43/50\n",
      "47/47 [==============================] - 4s 80ms/step - loss: 0.0040 - val_loss: 0.0042\n",
      "Epoch 44/50\n",
      "47/47 [==============================] - 4s 76ms/step - loss: 0.0040 - val_loss: 0.0045\n",
      "Epoch 45/50\n",
      "47/47 [==============================] - 4s 77ms/step - loss: 0.0041 - val_loss: 0.0043\n",
      "Epoch 46/50\n",
      "47/47 [==============================] - 4s 79ms/step - loss: 0.0039 - val_loss: 0.0042\n",
      "Epoch 47/50\n",
      "47/47 [==============================] - 4s 78ms/step - loss: 0.0040 - val_loss: 0.0042\n",
      "Epoch 48/50\n",
      "47/47 [==============================] - 4s 76ms/step - loss: 0.0040 - val_loss: 0.0041\n",
      "Epoch 49/50\n",
      "47/47 [==============================] - 4s 79ms/step - loss: 0.0039 - val_loss: 0.0044\n",
      "Epoch 50/50\n",
      "47/47 [==============================] - 4s 78ms/step - loss: 0.0040 - val_loss: 0.0041\n"
     ]
    }
   ],
   "source": [
    "# Compile and train the model\n",
    "model.compile(optimizer='adam', loss='mean_squared_error')\n",
    "model.fit(X_train, y_train, epochs=50, batch_size=32, validation_split=0.2, verbose=1)\n",
    "model.save(\"lstm50.keras\")"
   ]
  },
  {
   "cell_type": "code",
   "execution_count": null,
   "metadata": {},
   "outputs": [],
   "source": []
  },
  {
   "cell_type": "code",
   "execution_count": 10,
   "metadata": {},
   "outputs": [],
   "source": [
    "# # Predict next 100 days\n",
    "# def predict_next_n_days(model, last_100_days, n_days=100):\n",
    "#     predictions = []\n",
    "#     input_sequence = last_100_days.copy()\n",
    "#     for _ in range(n_days):\n",
    "#         input_data = np.expand_dims(input_sequence, axis=0)\n",
    "#         next_day_features = model.predict(input_data, verbose=0)[0]\n",
    "#         predictions.append(next_day_features)\n",
    "#         input_sequence = np.append(input_sequence[1:], [next_day_features], axis=0)\n",
    "#     return np.array(predictions)"
   ]
  },
  {
   "cell_type": "code",
   "execution_count": 11,
   "metadata": {},
   "outputs": [],
   "source": [
    "# # Get the last 100 days from dataset\n",
    "# last_100_days = data_scaled[-seq_length:]\n",
    "# predicted_features = predict_next_n_days(model, last_100_days, n_days=100)"
   ]
  },
  {
   "cell_type": "code",
   "execution_count": 12,
   "metadata": {},
   "outputs": [],
   "source": [
    "# # Convert predictions back to original scale\n",
    "# predicted_features = scaler.inverse_transform(predicted_features)"
   ]
  },
  {
   "cell_type": "code",
   "execution_count": 13,
   "metadata": {},
   "outputs": [],
   "source": [
    "# # Generate future dates\n",
    "# import datetime\n",
    "# future_dates = [datetime.date.today() + datetime.timedelta(days=i) for i in range(1, 101)]"
   ]
  },
  {
   "cell_type": "code",
   "execution_count": 14,
   "metadata": {},
   "outputs": [],
   "source": [
    "# # Plot predictions\n",
    "# plt.figure(figsize=(12, 6))\n",
    "# plt.plot(future_dates, predicted_features[:, 0], label=\"Predicted High\", linestyle=\"dashed\", color=\"blue\")\n",
    "# plt.plot(future_dates, predicted_features[:, 1], label=\"Predicted Low\", linestyle=\"dashed\", color=\"green\")\n",
    "# plt.plot(future_dates, predicted_features[:, 2], label=\"Predicted Quantity Traded\", linestyle=\"dashed\", color=\"purple\")\n",
    "# plt.plot(future_dates, predicted_features[:, 3], label=\"Predicted Turnover\", linestyle=\"dashed\", color=\"orange\")\n",
    "# plt.plot(future_dates, predicted_features[:, 4], label=\"Predicted EPS\", linestyle=\"dashed\", color=\"brown\")\n",
    "# plt.plot(future_dates, predicted_features[:, 5], label=\"Predicted PE Ratio\", linestyle=\"dashed\", color=\"cyan\")\n",
    "# plt.plot(future_dates, predicted_features[:, 6], label=\"Predicted Percentage Change\", linestyle=\"dashed\", color=\"red\")\n",
    "# plt.plot(future_dates, predicted_features[:, 7], label=\"Predicted Open\", linestyle=\"dashed\", color=\"black\")\n",
    "# plt.xlabel(\"Date\")\n",
    "# plt.ylabel(\"Stock Features\")\n",
    "# plt.title(\"Predicted Stock Features for the Next 100 Days\")\n",
    "# plt.legend()\n",
    "# plt.show()"
   ]
  }
 ],
 "metadata": {
  "kernelspec": {
   "display_name": "tfEnv",
   "language": "python",
   "name": "python3"
  },
  "language_info": {
   "codemirror_mode": {
    "name": "ipython",
    "version": 3
   },
   "file_extension": ".py",
   "mimetype": "text/x-python",
   "name": "python",
   "nbconvert_exporter": "python",
   "pygments_lexer": "ipython3",
   "version": "3.8.18"
  }
 },
 "nbformat": 4,
 "nbformat_minor": 2
}

{
 "cells": [
  {
   "cell_type": "code",
   "execution_count": 1,
   "metadata": {},
   "outputs": [
    {
     "name": "stderr",
     "output_type": "stream",
     "text": [
      "2025-02-28 21:24:12.769187: I tensorflow/core/platform/cpu_feature_guard.cc:193] This TensorFlow binary is optimized with oneAPI Deep Neural Network Library (oneDNN) to use the following CPU instructions in performance-critical operations:  SSE4.1 SSE4.2\n",
      "To enable them in other operations, rebuild TensorFlow with the appropriate compiler flags.\n"
     ]
    }
   ],
   "source": [
    "import pandas as pd\n",
    "import numpy as np\n",
    "import matplotlib.pyplot as plt\n",
    "from sklearn.preprocessing import MinMaxScaler\n",
    "from tensorflow.keras.models import Sequential\n",
    "from tensorflow.keras.layers import LSTM, Dense, Dropout"
   ]
  },
  {
   "cell_type": "code",
   "execution_count": null,
   "metadata": {},
   "outputs": [
    {
     "ename": "KeyError",
     "evalue": "'close'",
     "output_type": "error",
     "traceback": [
      "\u001b[0;31m---------------------------------------------------------------------------\u001b[0m",
      "\u001b[0;31mKeyError\u001b[0m                                  Traceback (most recent call last)",
      "File \u001b[0;32m/usr/local/anaconda3/envs/tfEnv/lib/python3.8/site-packages/pandas/core/indexes/base.py:3653\u001b[0m, in \u001b[0;36mIndex.get_loc\u001b[0;34m(self, key)\u001b[0m\n\u001b[1;32m   3652\u001b[0m \u001b[38;5;28;01mtry\u001b[39;00m:\n\u001b[0;32m-> 3653\u001b[0m     \u001b[38;5;28;01mreturn\u001b[39;00m \u001b[38;5;28;43mself\u001b[39;49m\u001b[38;5;241;43m.\u001b[39;49m\u001b[43m_engine\u001b[49m\u001b[38;5;241;43m.\u001b[39;49m\u001b[43mget_loc\u001b[49m\u001b[43m(\u001b[49m\u001b[43mcasted_key\u001b[49m\u001b[43m)\u001b[49m\n\u001b[1;32m   3654\u001b[0m \u001b[38;5;28;01mexcept\u001b[39;00m \u001b[38;5;167;01mKeyError\u001b[39;00m \u001b[38;5;28;01mas\u001b[39;00m err:\n",
      "File \u001b[0;32m/usr/local/anaconda3/envs/tfEnv/lib/python3.8/site-packages/pandas/_libs/index.pyx:147\u001b[0m, in \u001b[0;36mpandas._libs.index.IndexEngine.get_loc\u001b[0;34m()\u001b[0m\n",
      "File \u001b[0;32m/usr/local/anaconda3/envs/tfEnv/lib/python3.8/site-packages/pandas/_libs/index.pyx:176\u001b[0m, in \u001b[0;36mpandas._libs.index.IndexEngine.get_loc\u001b[0;34m()\u001b[0m\n",
      "File \u001b[0;32mpandas/_libs/hashtable_class_helper.pxi:7080\u001b[0m, in \u001b[0;36mpandas._libs.hashtable.PyObjectHashTable.get_item\u001b[0;34m()\u001b[0m\n",
      "File \u001b[0;32mpandas/_libs/hashtable_class_helper.pxi:7088\u001b[0m, in \u001b[0;36mpandas._libs.hashtable.PyObjectHashTable.get_item\u001b[0;34m()\u001b[0m\n",
      "\u001b[0;31mKeyError\u001b[0m: 'close'",
      "\nThe above exception was the direct cause of the following exception:\n",
      "\u001b[0;31mKeyError\u001b[0m                                  Traceback (most recent call last)",
      "Cell \u001b[0;32mIn[2], line 6\u001b[0m\n\u001b[1;32m      4\u001b[0m \u001b[38;5;66;03m# data_all = \u001b[39;00m\n\u001b[1;32m      5\u001b[0m data_with_close\u001b[38;5;241m=\u001b[39mpd\u001b[38;5;241m.\u001b[39mread_csv(file_path)\n\u001b[0;32m----> 6\u001b[0m data_all\u001b[38;5;241m=\u001b[39m\u001b[43mdata_with_close\u001b[49m\u001b[43m[\u001b[49m\u001b[38;5;124;43m'\u001b[39;49m\u001b[38;5;124;43mclose\u001b[39;49m\u001b[38;5;124;43m'\u001b[39;49m\u001b[43m]\u001b[49m\n",
      "File \u001b[0;32m/usr/local/anaconda3/envs/tfEnv/lib/python3.8/site-packages/pandas/core/frame.py:3761\u001b[0m, in \u001b[0;36mDataFrame.__getitem__\u001b[0;34m(self, key)\u001b[0m\n\u001b[1;32m   3759\u001b[0m \u001b[38;5;28;01mif\u001b[39;00m \u001b[38;5;28mself\u001b[39m\u001b[38;5;241m.\u001b[39mcolumns\u001b[38;5;241m.\u001b[39mnlevels \u001b[38;5;241m>\u001b[39m \u001b[38;5;241m1\u001b[39m:\n\u001b[1;32m   3760\u001b[0m     \u001b[38;5;28;01mreturn\u001b[39;00m \u001b[38;5;28mself\u001b[39m\u001b[38;5;241m.\u001b[39m_getitem_multilevel(key)\n\u001b[0;32m-> 3761\u001b[0m indexer \u001b[38;5;241m=\u001b[39m \u001b[38;5;28;43mself\u001b[39;49m\u001b[38;5;241;43m.\u001b[39;49m\u001b[43mcolumns\u001b[49m\u001b[38;5;241;43m.\u001b[39;49m\u001b[43mget_loc\u001b[49m\u001b[43m(\u001b[49m\u001b[43mkey\u001b[49m\u001b[43m)\u001b[49m\n\u001b[1;32m   3762\u001b[0m \u001b[38;5;28;01mif\u001b[39;00m is_integer(indexer):\n\u001b[1;32m   3763\u001b[0m     indexer \u001b[38;5;241m=\u001b[39m [indexer]\n",
      "File \u001b[0;32m/usr/local/anaconda3/envs/tfEnv/lib/python3.8/site-packages/pandas/core/indexes/base.py:3655\u001b[0m, in \u001b[0;36mIndex.get_loc\u001b[0;34m(self, key)\u001b[0m\n\u001b[1;32m   3653\u001b[0m     \u001b[38;5;28;01mreturn\u001b[39;00m \u001b[38;5;28mself\u001b[39m\u001b[38;5;241m.\u001b[39m_engine\u001b[38;5;241m.\u001b[39mget_loc(casted_key)\n\u001b[1;32m   3654\u001b[0m \u001b[38;5;28;01mexcept\u001b[39;00m \u001b[38;5;167;01mKeyError\u001b[39;00m \u001b[38;5;28;01mas\u001b[39;00m err:\n\u001b[0;32m-> 3655\u001b[0m     \u001b[38;5;28;01mraise\u001b[39;00m \u001b[38;5;167;01mKeyError\u001b[39;00m(key) \u001b[38;5;28;01mfrom\u001b[39;00m \u001b[38;5;21;01merr\u001b[39;00m\n\u001b[1;32m   3656\u001b[0m \u001b[38;5;28;01mexcept\u001b[39;00m \u001b[38;5;167;01mTypeError\u001b[39;00m:\n\u001b[1;32m   3657\u001b[0m     \u001b[38;5;66;03m# If we have a listlike key, _check_indexing_error will raise\u001b[39;00m\n\u001b[1;32m   3658\u001b[0m     \u001b[38;5;66;03m#  InvalidIndexError. Otherwise we fall through and re-raise\u001b[39;00m\n\u001b[1;32m   3659\u001b[0m     \u001b[38;5;66;03m#  the TypeError.\u001b[39;00m\n\u001b[1;32m   3660\u001b[0m     \u001b[38;5;28mself\u001b[39m\u001b[38;5;241m.\u001b[39m_check_indexing_error(key)\n",
      "\u001b[0;31mKeyError\u001b[0m: 'close'"
     ]
    }
   ],
   "source": [
    "# Load dataset\n",
    "file_path = 'only_3_sorted_stock_data_cleaned_nica.csv'\n",
    "\n",
    "# data_all = \n",
    "data_with_close=pd.read_csv(file_path)\n",
    "# data_all=data_with_close['close']"
   ]
  },
  {
   "cell_type": "code",
   "execution_count": 3,
   "metadata": {},
   "outputs": [
    {
     "data": {
      "text/html": [
       "<div>\n",
       "<style scoped>\n",
       "    .dataframe tbody tr th:only-of-type {\n",
       "        vertical-align: middle;\n",
       "    }\n",
       "\n",
       "    .dataframe tbody tr th {\n",
       "        vertical-align: top;\n",
       "    }\n",
       "\n",
       "    .dataframe thead th {\n",
       "        text-align: right;\n",
       "    }\n",
       "</style>\n",
       "<table border=\"1\" class=\"dataframe\">\n",
       "  <thead>\n",
       "    <tr style=\"text-align: right;\">\n",
       "      <th></th>\n",
       "      <th>Close</th>\n",
       "      <th>Qty</th>\n",
       "      <th>EPS</th>\n",
       "    </tr>\n",
       "  </thead>\n",
       "  <tbody>\n",
       "    <tr>\n",
       "      <th>0</th>\n",
       "      <td>660.0</td>\n",
       "      <td>3547.0</td>\n",
       "      <td>17.94</td>\n",
       "    </tr>\n",
       "    <tr>\n",
       "      <th>1</th>\n",
       "      <td>651.0</td>\n",
       "      <td>5758.0</td>\n",
       "      <td>17.94</td>\n",
       "    </tr>\n",
       "    <tr>\n",
       "      <th>2</th>\n",
       "      <td>646.0</td>\n",
       "      <td>6085.0</td>\n",
       "      <td>17.94</td>\n",
       "    </tr>\n",
       "    <tr>\n",
       "      <th>3</th>\n",
       "      <td>648.0</td>\n",
       "      <td>6977.0</td>\n",
       "      <td>17.94</td>\n",
       "    </tr>\n",
       "    <tr>\n",
       "      <th>4</th>\n",
       "      <td>648.0</td>\n",
       "      <td>3303.0</td>\n",
       "      <td>17.94</td>\n",
       "    </tr>\n",
       "    <tr>\n",
       "      <th>...</th>\n",
       "      <td>...</td>\n",
       "      <td>...</td>\n",
       "      <td>...</td>\n",
       "    </tr>\n",
       "    <tr>\n",
       "      <th>1915</th>\n",
       "      <td>363.0</td>\n",
       "      <td>47627.0</td>\n",
       "      <td>2.04</td>\n",
       "    </tr>\n",
       "    <tr>\n",
       "      <th>1916</th>\n",
       "      <td>370.7</td>\n",
       "      <td>70533.0</td>\n",
       "      <td>2.04</td>\n",
       "    </tr>\n",
       "    <tr>\n",
       "      <th>1917</th>\n",
       "      <td>382.0</td>\n",
       "      <td>108899.0</td>\n",
       "      <td>2.04</td>\n",
       "    </tr>\n",
       "    <tr>\n",
       "      <th>1918</th>\n",
       "      <td>377.0</td>\n",
       "      <td>74518.0</td>\n",
       "      <td>2.04</td>\n",
       "    </tr>\n",
       "    <tr>\n",
       "      <th>1919</th>\n",
       "      <td>374.5</td>\n",
       "      <td>42089.0</td>\n",
       "      <td>2.04</td>\n",
       "    </tr>\n",
       "  </tbody>\n",
       "</table>\n",
       "<p>1920 rows × 3 columns</p>\n",
       "</div>"
      ],
      "text/plain": [
       "      Close       Qty    EPS\n",
       "0     660.0    3547.0  17.94\n",
       "1     651.0    5758.0  17.94\n",
       "2     646.0    6085.0  17.94\n",
       "3     648.0    6977.0  17.94\n",
       "4     648.0    3303.0  17.94\n",
       "...     ...       ...    ...\n",
       "1915  363.0   47627.0   2.04\n",
       "1916  370.7   70533.0   2.04\n",
       "1917  382.0  108899.0   2.04\n",
       "1918  377.0   74518.0   2.04\n",
       "1919  374.5   42089.0   2.04\n",
       "\n",
       "[1920 rows x 3 columns]"
      ]
     },
     "execution_count": 3,
     "metadata": {},
     "output_type": "execute_result"
    }
   ],
   "source": [
    "data_with_close"
   ]
  },
  {
   "cell_type": "code",
   "execution_count": 5,
   "metadata": {},
   "outputs": [],
   "source": [
    "data_all=data_with_close['Close']"
   ]
  },
  {
   "cell_type": "code",
   "execution_count": 3,
   "metadata": {},
   "outputs": [],
   "source": [
    "\n",
    "# Train-Test Split\n",
    "data_train = data_all[:int(len(data_all)*0.80)]\n",
    "data_test = data_all[int(len(data_all)*0.80):]\n"
   ]
  },
  {
   "cell_type": "code",
   "execution_count": 4,
   "metadata": {},
   "outputs": [],
   "source": [
    "# Normalize the dataset\n",
    "scaler = MinMaxScaler()\n",
    "data_train_scaled = scaler.fit_transform(data_train)"
   ]
  },
  {
   "cell_type": "code",
   "execution_count": 5,
   "metadata": {},
   "outputs": [
    {
     "data": {
      "text/plain": [
       "array([[0.46709677, 0.00517072, 0.27394474],\n",
       "       [0.45548387, 0.00844932, 0.27394474],\n",
       "       [0.44903226, 0.00893421, 0.27394474],\n",
       "       ...,\n",
       "       [0.61548387, 0.21061162, 0.76250212],\n",
       "       [0.61935484, 0.08031597, 0.76250212],\n",
       "       [0.61935484, 0.06584032, 0.76250212]])"
      ]
     },
     "execution_count": 5,
     "metadata": {},
     "output_type": "execute_result"
    }
   ],
   "source": [
    "data_train_scaled"
   ]
  },
  {
   "cell_type": "code",
   "execution_count": 6,
   "metadata": {},
   "outputs": [],
   "source": [
    "# Convert data into sequences\n",
    "def create_sequences(data, seq_length=50):\n",
    "    X, y = [], []\n",
    "    for i in range(len(data) - seq_length):\n",
    "        X.append(data[i:i+seq_length])\n",
    "        y.append(data[i+seq_length])\n",
    "    return np.array(X), np.array(y)\n",
    "\n",
    "seq_length = 50  # Lookback period\n",
    "X_train, y_train = create_sequences(data_train_scaled, seq_length)"
   ]
  },
  {
   "cell_type": "code",
   "execution_count": 7,
   "metadata": {},
   "outputs": [
    {
     "data": {
      "text/plain": [
       "((1486, 50, 3), (1486, 3))"
      ]
     },
     "execution_count": 7,
     "metadata": {},
     "output_type": "execute_result"
    }
   ],
   "source": [
    "X_train.shape, y_train.shape"
   ]
  },
  {
   "cell_type": "code",
   "execution_count": null,
   "metadata": {},
   "outputs": [],
   "source": [
    "# Build LSTM model\n",
    "model = Sequential([\n",
    "    LSTM(64, activation='tanh', return_sequences=True, input_shape=(seq_length, 1)),\n",
    "    Dropout(0.2),\n",
    "    LSTM(128, activation='tanh', return_sequences=True),\n",
    "    Dropout(0.3),\n",
    "    LSTM(64, activation='tanh', return_sequences=True),\n",
    "    Dropout(0.3),\n",
    "    LSTM(32, activation='tanh', return_sequences=False),\n",
    "    Dropout(0.2),\n",
    "    Dense(1)  # Predicting all 8 features\n",
    "])"
   ]
  },
  {
   "cell_type": "code",
   "execution_count": 9,
   "metadata": {},
   "outputs": [
    {
     "name": "stdout",
     "output_type": "stream",
     "text": [
      "Epoch 1/50\n",
      "47/47 [==============================] - 7s 65ms/step - loss: 0.0272\n",
      "Epoch 2/50\n",
      "47/47 [==============================] - 3s 68ms/step - loss: 0.0119\n",
      "Epoch 3/50\n",
      "47/47 [==============================] - 3s 65ms/step - loss: 0.0099\n",
      "Epoch 4/50\n",
      "47/47 [==============================] - 3s 65ms/step - loss: 0.0100\n",
      "Epoch 5/50\n",
      "47/47 [==============================] - 3s 64ms/step - loss: 0.0100\n",
      "Epoch 6/50\n",
      "47/47 [==============================] - 3s 65ms/step - loss: 0.0088\n",
      "Epoch 7/50\n",
      "47/47 [==============================] - 3s 66ms/step - loss: 0.0087\n",
      "Epoch 8/50\n",
      "47/47 [==============================] - 3s 65ms/step - loss: 0.0084\n",
      "Epoch 9/50\n",
      "47/47 [==============================] - 3s 67ms/step - loss: 0.0079\n",
      "Epoch 10/50\n",
      "47/47 [==============================] - 3s 64ms/step - loss: 0.0075\n",
      "Epoch 11/50\n",
      "47/47 [==============================] - 3s 64ms/step - loss: 0.0071\n",
      "Epoch 12/50\n",
      "47/47 [==============================] - 3s 65ms/step - loss: 0.0069\n",
      "Epoch 13/50\n",
      "47/47 [==============================] - 3s 65ms/step - loss: 0.0068\n",
      "Epoch 14/50\n",
      "47/47 [==============================] - 3s 66ms/step - loss: 0.0069\n",
      "Epoch 15/50\n",
      "47/47 [==============================] - 3s 64ms/step - loss: 0.0064\n",
      "Epoch 16/50\n",
      "47/47 [==============================] - 3s 67ms/step - loss: 0.0062\n",
      "Epoch 17/50\n",
      "47/47 [==============================] - 3s 65ms/step - loss: 0.0061\n",
      "Epoch 18/50\n",
      "47/47 [==============================] - 3s 64ms/step - loss: 0.0059\n",
      "Epoch 19/50\n",
      "47/47 [==============================] - 3s 67ms/step - loss: 0.0056\n",
      "Epoch 20/50\n",
      "47/47 [==============================] - 3s 64ms/step - loss: 0.0054\n",
      "Epoch 21/50\n",
      "47/47 [==============================] - 3s 66ms/step - loss: 0.0055\n",
      "Epoch 22/50\n",
      "47/47 [==============================] - 3s 64ms/step - loss: 0.0053\n",
      "Epoch 23/50\n",
      "47/47 [==============================] - 3s 67ms/step - loss: 0.0054\n",
      "Epoch 24/50\n",
      "47/47 [==============================] - 3s 63ms/step - loss: 0.0051\n",
      "Epoch 25/50\n",
      "47/47 [==============================] - 3s 64ms/step - loss: 0.0051\n",
      "Epoch 26/50\n",
      "47/47 [==============================] - 3s 67ms/step - loss: 0.0049\n",
      "Epoch 27/50\n",
      "47/47 [==============================] - 3s 64ms/step - loss: 0.0049\n",
      "Epoch 28/50\n",
      "47/47 [==============================] - 3s 66ms/step - loss: 0.0049\n",
      "Epoch 29/50\n",
      "47/47 [==============================] - 3s 64ms/step - loss: 0.0051\n",
      "Epoch 30/50\n",
      "47/47 [==============================] - 3s 67ms/step - loss: 0.0045\n",
      "Epoch 31/50\n",
      "47/47 [==============================] - 3s 64ms/step - loss: 0.0046\n",
      "Epoch 32/50\n",
      "47/47 [==============================] - 3s 64ms/step - loss: 0.0047\n",
      "Epoch 33/50\n",
      "47/47 [==============================] - 3s 67ms/step - loss: 0.0046\n",
      "Epoch 34/50\n",
      "47/47 [==============================] - 3s 64ms/step - loss: 0.0045\n",
      "Epoch 35/50\n",
      "47/47 [==============================] - 3s 66ms/step - loss: 0.0043\n",
      "Epoch 36/50\n",
      "47/47 [==============================] - 3s 67ms/step - loss: 0.0043\n",
      "Epoch 37/50\n",
      "47/47 [==============================] - 3s 67ms/step - loss: 0.0045\n",
      "Epoch 38/50\n",
      "47/47 [==============================] - 3s 65ms/step - loss: 0.0041\n",
      "Epoch 39/50\n",
      "47/47 [==============================] - 3s 66ms/step - loss: 0.0043\n",
      "Epoch 40/50\n",
      "47/47 [==============================] - 3s 69ms/step - loss: 0.0044\n",
      "Epoch 41/50\n",
      "47/47 [==============================] - 3s 65ms/step - loss: 0.0042\n",
      "Epoch 42/50\n",
      "47/47 [==============================] - 3s 67ms/step - loss: 0.0042\n",
      "Epoch 43/50\n",
      "47/47 [==============================] - 3s 70ms/step - loss: 0.0041\n",
      "Epoch 44/50\n",
      "47/47 [==============================] - 3s 67ms/step - loss: 0.0039\n",
      "Epoch 45/50\n",
      "47/47 [==============================] - 3s 66ms/step - loss: 0.0039\n",
      "Epoch 46/50\n",
      "47/47 [==============================] - 3s 66ms/step - loss: 0.0040\n",
      "Epoch 47/50\n",
      "47/47 [==============================] - 3s 67ms/step - loss: 0.0039\n",
      "Epoch 48/50\n",
      "47/47 [==============================] - 3s 67ms/step - loss: 0.0038\n",
      "Epoch 49/50\n",
      "47/47 [==============================] - 3s 68ms/step - loss: 0.0039\n",
      "Epoch 50/50\n",
      "47/47 [==============================] - 3s 69ms/step - loss: 0.0039\n"
     ]
    }
   ],
   "source": [
    "# Compile and train the model\n",
    "model.compile(optimizer='adam', loss='mean_squared_error')\n",
    "model.fit(X_train, y_train, epochs=50, batch_size=32, verbose=1)\n",
    "model.save(\"lstm_final.keras\")"
   ]
  },
  {
   "cell_type": "code",
   "execution_count": 10,
   "metadata": {},
   "outputs": [],
   "source": [
    "# Prepare Test Data\n",
    "data_test_scaled=scaler.transform(data_test)\n",
    "# Convert data into sequences\n",
    "def create_sequences(data_test, seq_length=50):\n",
    "    X, y = [], []\n",
    "    for i in range(len(data_test) - seq_length):\n",
    "        X.append(data_test[i:i+seq_length])\n",
    "        y.append(data_test[i+seq_length])\n",
    "    return np.array(X), np.array(y)\n",
    "\n",
    "seq_length = 50  # Lookback period\n",
    "X_test, y_test = create_sequences(data_test_scaled, seq_length)\n"
   ]
  },
  {
   "cell_type": "code",
   "execution_count": null,
   "metadata": {},
   "outputs": [
    {
     "name": "stdout",
     "output_type": "stream",
     "text": [
      "11/11 [==============================] - 1s 22ms/step\n"
     ]
    }
   ],
   "source": [
    "# Make Predictions\n",
    "y_pred_scaled = model.predict(X_test)\n",
    "y_pred = scaler.inverse_transform(y_pred_scaled)\n",
    "# y_test_actual = scaler.inverse_transform(y_test.reshape(-1,1))\n",
    "y_test_actual = (scaler.inverse_transform(y_test.reshape(-1,1))).reshape(y_test.shape)"
   ]
  },
  {
   "cell_type": "code",
   "execution_count": 12,
   "metadata": {},
   "outputs": [],
   "source": [
    "# Assuming 'Close' is the 0th feature and 'PE Ratio' is the 5th feature in the dataset\n",
    "# Extract the actual test values\n",
    "X_test_close = y_test_actual[:, 0]  # Actual Close values from test data\n",
    "X_test_pe = y_test_actual[:, 2]  # Actual PE Ratio values from test data\n",
    "y_pred_close=y_pred[:,0]\n",
    "y_pred_pe=y_pred[:,2]\n"
   ]
  },
  {
   "cell_type": "code",
   "execution_count": 13,
   "metadata": {},
   "outputs": [
    {
     "data": {
      "text/plain": [
       "<matplotlib.legend.Legend at 0x7fb469d24eb0>"
      ]
     },
     "execution_count": 13,
     "metadata": {},
     "output_type": "execute_result"
    },
    {
     "data": {
      "image/png": "[encoded data removed]",
      "text/plain": [
       "<Figure size 1400x700 with 1 Axes>"
      ]
     },
     "metadata": {},
     "output_type": "display_data"
    }
   ],
   "source": [
    "# Plot actual vs predicted values for Close and PE Ratio\n",
    "plt.figure(figsize=(14, 7))\n",
    "\n",
    "# Plot Close\n",
    "plt.subplot(2, 1, 1)\n",
    "plt.plot(X_test_close, label=\"Actual Close\", color=\"blue\")\n",
    "plt.plot(y_pred_close, label=\"Predicted Close\", color=\"red\")\n",
    "plt.xlabel(\"Days\")\n",
    "plt.ylabel(\"Close Price\")\n",
    "plt.title(\"Actual vs Predicted Close Price\")\n",
    "plt.legend()\n"
   ]
  },
  {
   "cell_type": "code",
   "execution_count": 14,
   "metadata": {},
   "outputs": [
    {
     "data": {
      "text/plain": [
       "<matplotlib.legend.Legend at 0x7fb45ee89ca0>"
      ]
     },
     "execution_count": 14,
     "metadata": {},
     "output_type": "execute_result"
    },
    {
     "data": {
      "image/png": "[encoded data removed]",
      "text/plain": [
       "<Figure size 640x480 with 1 Axes>"
      ]
     },
     "metadata": {},
     "output_type": "display_data"
    }
   ],
   "source": [
    "# Plot PE Ratio\n",
    "plt.subplot(2, 1, 2)\n",
    "plt.plot(X_test_pe, label=\"Actual PE Ratio\", color=\"green\")\n",
    "plt.plot(y_pred_pe, label=\"Predicted PE Ratio\",  color=\"red\")\n",
    "plt.xlabel(\"Days\")\n",
    "plt.ylabel(\"EPS Ratio\")\n",
    "plt.title(\"Actual vs Predicted PE Ratio\")\n",
    "plt.legend()"
   ]
  },
  {
   "cell_type": "code",
   "execution_count": 31,
   "metadata": {},
   "outputs": [],
   "source": [
    "##For Future prediction\n",
    "last_50_datas=data_all[-seq_length:]"
   ]
  },
  {
   "cell_type": "code",
   "execution_count": 33,
   "metadata": {},
   "outputs": [
    {
     "data": {
      "text/html": [
       "<div>\n",
       "<style scoped>\n",
       "    .dataframe tbody tr th:only-of-type {\n",
       "        vertical-align: middle;\n",
       "    }\n",
       "\n",
       "    .dataframe tbody tr th {\n",
       "        vertical-align: top;\n",
       "    }\n",
       "\n",
       "    .dataframe thead th {\n",
       "        text-align: right;\n",
       "    }\n",
       "</style>\n",
       "<table border=\"1\" class=\"dataframe\">\n",
       "  <thead>\n",
       "    <tr style=\"text-align: right;\">\n",
       "      <th></th>\n",
       "      <th>Close</th>\n",
       "      <th>Qty</th>\n",
       "      <th>EPS</th>\n",
       "    </tr>\n",
       "  </thead>\n",
       "  <tbody>\n",
       "    <tr>\n",
       "      <th>1870</th>\n",
       "      <td>415.2</td>\n",
       "      <td>143772.0</td>\n",
       "      <td>2.91</td>\n",
       "    </tr>\n",
       "    <tr>\n",
       "      <th>1871</th>\n",
       "      <td>409.9</td>\n",
       "      <td>155704.0</td>\n",
       "      <td>2.91</td>\n",
       "    </tr>\n",
       "    <tr>\n",
       "      <th>1872</th>\n",
       "      <td>405.0</td>\n",
       "      <td>159922.0</td>\n",
       "      <td>2.91</td>\n",
       "    </tr>\n",
       "    <tr>\n",
       "      <th>1873</th>\n",
       "      <td>405.0</td>\n",
       "      <td>66907.0</td>\n",
       "      <td>2.91</td>\n",
       "    </tr>\n",
       "    <tr>\n",
       "      <th>1874</th>\n",
       "      <td>405.0</td>\n",
       "      <td>58539.0</td>\n",
       "      <td>2.91</td>\n",
       "    </tr>\n",
       "    <tr>\n",
       "      <th>1875</th>\n",
       "      <td>415.0</td>\n",
       "      <td>150942.0</td>\n",
       "      <td>2.91</td>\n",
       "    </tr>\n",
       "    <tr>\n",
       "      <th>1876</th>\n",
       "      <td>403.0</td>\n",
       "      <td>84801.0</td>\n",
       "      <td>2.91</td>\n",
       "    </tr>\n",
       "    <tr>\n",
       "      <th>1877</th>\n",
       "      <td>398.2</td>\n",
       "      <td>113101.0</td>\n",
       "      <td>2.91</td>\n",
       "    </tr>\n",
       "    <tr>\n",
       "      <th>1878</th>\n",
       "      <td>397.0</td>\n",
       "      <td>80508.0</td>\n",
       "      <td>2.91</td>\n",
       "    </tr>\n",
       "    <tr>\n",
       "      <th>1879</th>\n",
       "      <td>392.0</td>\n",
       "      <td>83131.0</td>\n",
       "      <td>2.91</td>\n",
       "    </tr>\n",
       "    <tr>\n",
       "      <th>1880</th>\n",
       "      <td>392.9</td>\n",
       "      <td>73620.0</td>\n",
       "      <td>2.91</td>\n",
       "    </tr>\n",
       "    <tr>\n",
       "      <th>1881</th>\n",
       "      <td>390.0</td>\n",
       "      <td>73760.0</td>\n",
       "      <td>2.91</td>\n",
       "    </tr>\n",
       "    <tr>\n",
       "      <th>1882</th>\n",
       "      <td>388.8</td>\n",
       "      <td>82637.0</td>\n",
       "      <td>2.91</td>\n",
       "    </tr>\n",
       "    <tr>\n",
       "      <th>1883</th>\n",
       "      <td>396.0</td>\n",
       "      <td>51143.0</td>\n",
       "      <td>2.91</td>\n",
       "    </tr>\n",
       "    <tr>\n",
       "      <th>1884</th>\n",
       "      <td>403.0</td>\n",
       "      <td>92340.0</td>\n",
       "      <td>2.91</td>\n",
       "    </tr>\n",
       "    <tr>\n",
       "      <th>1885</th>\n",
       "      <td>391.0</td>\n",
       "      <td>70534.0</td>\n",
       "      <td>2.91</td>\n",
       "    </tr>\n",
       "    <tr>\n",
       "      <th>1886</th>\n",
       "      <td>385.0</td>\n",
       "      <td>132291.0</td>\n",
       "      <td>2.91</td>\n",
       "    </tr>\n",
       "    <tr>\n",
       "      <th>1887</th>\n",
       "      <td>383.6</td>\n",
       "      <td>43278.0</td>\n",
       "      <td>2.91</td>\n",
       "    </tr>\n",
       "    <tr>\n",
       "      <th>1888</th>\n",
       "      <td>386.9</td>\n",
       "      <td>58340.0</td>\n",
       "      <td>2.91</td>\n",
       "    </tr>\n",
       "    <tr>\n",
       "      <th>1889</th>\n",
       "      <td>384.0</td>\n",
       "      <td>88991.0</td>\n",
       "      <td>2.91</td>\n",
       "    </tr>\n",
       "    <tr>\n",
       "      <th>1890</th>\n",
       "      <td>388.0</td>\n",
       "      <td>78034.0</td>\n",
       "      <td>2.91</td>\n",
       "    </tr>\n",
       "    <tr>\n",
       "      <th>1891</th>\n",
       "      <td>387.8</td>\n",
       "      <td>59219.0</td>\n",
       "      <td>2.91</td>\n",
       "    </tr>\n",
       "    <tr>\n",
       "      <th>1892</th>\n",
       "      <td>387.0</td>\n",
       "      <td>45107.0</td>\n",
       "      <td>2.91</td>\n",
       "    </tr>\n",
       "    <tr>\n",
       "      <th>1893</th>\n",
       "      <td>383.4</td>\n",
       "      <td>78694.0</td>\n",
       "      <td>2.91</td>\n",
       "    </tr>\n",
       "    <tr>\n",
       "      <th>1894</th>\n",
       "      <td>381.0</td>\n",
       "      <td>36094.0</td>\n",
       "      <td>2.91</td>\n",
       "    </tr>\n",
       "    <tr>\n",
       "      <th>1895</th>\n",
       "      <td>377.6</td>\n",
       "      <td>84072.0</td>\n",
       "      <td>2.91</td>\n",
       "    </tr>\n",
       "    <tr>\n",
       "      <th>1896</th>\n",
       "      <td>377.8</td>\n",
       "      <td>51468.0</td>\n",
       "      <td>2.04</td>\n",
       "    </tr>\n",
       "    <tr>\n",
       "      <th>1897</th>\n",
       "      <td>368.9</td>\n",
       "      <td>67591.0</td>\n",
       "      <td>2.04</td>\n",
       "    </tr>\n",
       "    <tr>\n",
       "      <th>1898</th>\n",
       "      <td>366.0</td>\n",
       "      <td>83984.0</td>\n",
       "      <td>2.04</td>\n",
       "    </tr>\n",
       "    <tr>\n",
       "      <th>1899</th>\n",
       "      <td>357.5</td>\n",
       "      <td>187054.0</td>\n",
       "      <td>2.04</td>\n",
       "    </tr>\n",
       "    <tr>\n",
       "      <th>1900</th>\n",
       "      <td>359.0</td>\n",
       "      <td>85995.0</td>\n",
       "      <td>2.04</td>\n",
       "    </tr>\n",
       "    <tr>\n",
       "      <th>1901</th>\n",
       "      <td>369.8</td>\n",
       "      <td>137664.0</td>\n",
       "      <td>2.04</td>\n",
       "    </tr>\n",
       "    <tr>\n",
       "      <th>1902</th>\n",
       "      <td>366.0</td>\n",
       "      <td>59766.0</td>\n",
       "      <td>2.04</td>\n",
       "    </tr>\n",
       "    <tr>\n",
       "      <th>1903</th>\n",
       "      <td>356.5</td>\n",
       "      <td>87702.0</td>\n",
       "      <td>2.04</td>\n",
       "    </tr>\n",
       "    <tr>\n",
       "      <th>1904</th>\n",
       "      <td>353.0</td>\n",
       "      <td>95052.0</td>\n",
       "      <td>2.04</td>\n",
       "    </tr>\n",
       "    <tr>\n",
       "      <th>1905</th>\n",
       "      <td>357.0</td>\n",
       "      <td>104728.0</td>\n",
       "      <td>2.04</td>\n",
       "    </tr>\n",
       "    <tr>\n",
       "      <th>1906</th>\n",
       "      <td>367.0</td>\n",
       "      <td>81796.0</td>\n",
       "      <td>2.04</td>\n",
       "    </tr>\n",
       "    <tr>\n",
       "      <th>1907</th>\n",
       "      <td>372.0</td>\n",
       "      <td>147482.0</td>\n",
       "      <td>2.04</td>\n",
       "    </tr>\n",
       "    <tr>\n",
       "      <th>1908</th>\n",
       "      <td>369.3</td>\n",
       "      <td>54568.0</td>\n",
       "      <td>2.04</td>\n",
       "    </tr>\n",
       "    <tr>\n",
       "      <th>1909</th>\n",
       "      <td>365.0</td>\n",
       "      <td>50984.0</td>\n",
       "      <td>2.04</td>\n",
       "    </tr>\n",
       "    <tr>\n",
       "      <th>1910</th>\n",
       "      <td>365.9</td>\n",
       "      <td>73453.0</td>\n",
       "      <td>2.04</td>\n",
       "    </tr>\n",
       "    <tr>\n",
       "      <th>1911</th>\n",
       "      <td>366.0</td>\n",
       "      <td>55880.0</td>\n",
       "      <td>2.04</td>\n",
       "    </tr>\n",
       "    <tr>\n",
       "      <th>1912</th>\n",
       "      <td>364.1</td>\n",
       "      <td>28859.0</td>\n",
       "      <td>2.04</td>\n",
       "    </tr>\n",
       "    <tr>\n",
       "      <th>1913</th>\n",
       "      <td>364.0</td>\n",
       "      <td>48342.0</td>\n",
       "      <td>2.04</td>\n",
       "    </tr>\n",
       "    <tr>\n",
       "      <th>1914</th>\n",
       "      <td>363.1</td>\n",
       "      <td>47038.0</td>\n",
       "      <td>2.04</td>\n",
       "    </tr>\n",
       "    <tr>\n",
       "      <th>1915</th>\n",
       "      <td>363.0</td>\n",
       "      <td>47627.0</td>\n",
       "      <td>2.04</td>\n",
       "    </tr>\n",
       "    <tr>\n",
       "      <th>1916</th>\n",
       "      <td>370.7</td>\n",
       "      <td>70533.0</td>\n",
       "      <td>2.04</td>\n",
       "    </tr>\n",
       "    <tr>\n",
       "      <th>1917</th>\n",
       "      <td>382.0</td>\n",
       "      <td>108899.0</td>\n",
       "      <td>2.04</td>\n",
       "    </tr>\n",
       "    <tr>\n",
       "      <th>1918</th>\n",
       "      <td>377.0</td>\n",
       "      <td>74518.0</td>\n",
       "      <td>2.04</td>\n",
       "    </tr>\n",
       "    <tr>\n",
       "      <th>1919</th>\n",
       "      <td>374.5</td>\n",
       "      <td>42089.0</td>\n",
       "      <td>2.04</td>\n",
       "    </tr>\n",
       "  </tbody>\n",
       "</table>\n",
       "</div>"
      ],
      "text/plain": [
       "      Close       Qty   EPS\n",
       "1870  415.2  143772.0  2.91\n",
       "1871  409.9  155704.0  2.91\n",
       "1872  405.0  159922.0  2.91\n",
       "1873  405.0   66907.0  2.91\n",
       "1874  405.0   58539.0  2.91\n",
       "1875  415.0  150942.0  2.91\n",
       "1876  403.0   84801.0  2.91\n",
       "1877  398.2  113101.0  2.91\n",
       "1878  397.0   80508.0  2.91\n",
       "1879  392.0   83131.0  2.91\n",
       "1880  392.9   73620.0  2.91\n",
       "1881  390.0   73760.0  2.91\n",
       "1882  388.8   82637.0  2.91\n",
       "1883  396.0   51143.0  2.91\n",
       "1884  403.0   92340.0  2.91\n",
       "1885  391.0   70534.0  2.91\n",
       "1886  385.0  132291.0  2.91\n",
       "1887  383.6   43278.0  2.91\n",
       "1888  386.9   58340.0  2.91\n",
       "1889  384.0   88991.0  2.91\n",
       "1890  388.0   78034.0  2.91\n",
       "1891  387.8   59219.0  2.91\n",
       "1892  387.0   45107.0  2.91\n",
       "1893  383.4   78694.0  2.91\n",
       "1894  381.0   36094.0  2.91\n",
       "1895  377.6   84072.0  2.91\n",
       "1896  377.8   51468.0  2.04\n",
       "1897  368.9   67591.0  2.04\n",
       "1898  366.0   83984.0  2.04\n",
       "1899  357.5  187054.0  2.04\n",
       "1900  359.0   85995.0  2.04\n",
       "1901  369.8  137664.0  2.04\n",
       "1902  366.0   59766.0  2.04\n",
       "1903  356.5   87702.0  2.04\n",
       "1904  353.0   95052.0  2.04\n",
       "1905  357.0  104728.0  2.04\n",
       "1906  367.0   81796.0  2.04\n",
       "1907  372.0  147482.0  2.04\n",
       "1908  369.3   54568.0  2.04\n",
       "1909  365.0   50984.0  2.04\n",
       "1910  365.9   73453.0  2.04\n",
       "1911  366.0   55880.0  2.04\n",
       "1912  364.1   28859.0  2.04\n",
       "1913  364.0   48342.0  2.04\n",
       "1914  363.1   47038.0  2.04\n",
       "1915  363.0   47627.0  2.04\n",
       "1916  370.7   70533.0  2.04\n",
       "1917  382.0  108899.0  2.04\n",
       "1918  377.0   74518.0  2.04\n",
       "1919  374.5   42089.0  2.04"
      ]
     },
     "execution_count": 33,
     "metadata": {},
     "output_type": "execute_result"
    }
   ],
   "source": [
    "last_50_datas"
   ]
  },
  {
   "cell_type": "code",
   "execution_count": 34,
   "metadata": {},
   "outputs": [],
   "source": [
    "#Scale the data\n",
    "last_50_datas_scaled=scaler.transform(last_50_datas)"
   ]
  },
  {
   "cell_type": "code",
   "execution_count": 35,
   "metadata": {},
   "outputs": [],
   "source": [
    "#making predictions\n",
    "def predict_next_n_days(model, data_scaled, n_days=100):\n",
    "    predictions=[]\n",
    "    input_sequence=data_scaled[-seq_length:].copy()\n",
    "\n",
    "    for _ in range(n_days):\n",
    "        input_data = np.expand_dims(input_sequence, axis=0)  # Reshape for model input\n",
    "        next_day_features = model.predict(input_data, verbose=0)[0]  # Predict next day\n",
    "        predictions.append(next_day_features)\n",
    "        \n",
    "        # Update input sequence: Remove first day, add predicted day\n",
    "        next_day_input = np.append(input_sequence[1:], [next_day_features], axis=0)\n",
    "        input_sequence = next_day_input\n",
    "        \n",
    "    return np.array(predictions)"
   ]
  },
  {
   "cell_type": "code",
   "execution_count": 58,
   "metadata": {},
   "outputs": [],
   "source": [
    "# Example usage\n",
    "# last_100_days = scaler.transform(last_100_days_raw)  # Normalize input if needed\n",
    "predicted_features = predict_next_n_days(model, last_50_datas_scaled, n_days=1050)"
   ]
  },
  {
   "cell_type": "code",
   "execution_count": 59,
   "metadata": {},
   "outputs": [
    {
     "data": {
      "text/plain": [
       "array([[0.10602129, 0.09682418, 0.05534345],\n",
       "       [0.10857539, 0.09876922, 0.05682549],\n",
       "       [0.11047715, 0.09923705, 0.06288531],\n",
       "       ...,\n",
       "       [0.16282609, 0.11958981, 0.45927575],\n",
       "       [0.16282625, 0.1195898 , 0.45927596],\n",
       "       [0.16282645, 0.11958979, 0.45927614]], dtype=float32)"
      ]
     },
     "execution_count": 59,
     "metadata": {},
     "output_type": "execute_result"
    }
   ],
   "source": [
    "predicted_features"
   ]
  },
  {
   "cell_type": "code",
   "execution_count": 60,
   "metadata": {},
   "outputs": [],
   "source": [
    "predicted_features_inverse = scaler.inverse_transform(predicted_features)"
   ]
  },
  {
   "cell_type": "code",
   "execution_count": 61,
   "metadata": {},
   "outputs": [
    {
     "data": {
      "text/plain": [
       "array([[3.8016650e+02, 6.5355715e+04, 5.0447102e+00],\n",
       "       [3.8214594e+02, 6.6667398e+04, 5.1321354e+00],\n",
       "       [3.8361978e+02, 6.6982891e+04, 5.4896045e+00],\n",
       "       ...,\n",
       "       [4.2419025e+02, 8.0708258e+04, 2.8872677e+01],\n",
       "       [4.2419034e+02, 8.0708250e+04, 2.8872690e+01],\n",
       "       [4.2419052e+02, 8.0708250e+04, 2.8872700e+01]], dtype=float32)"
      ]
     },
     "execution_count": 61,
     "metadata": {},
     "output_type": "execute_result"
    }
   ],
   "source": [
    "predicted_features_inverse"
   ]
  },
  {
   "cell_type": "code",
   "execution_count": 62,
   "metadata": {},
   "outputs": [
    {
     "data": {
      "text/plain": [
       "array([3.8016650e+02, 6.5355715e+04, 5.0447102e+00], dtype=float32)"
      ]
     },
     "execution_count": 62,
     "metadata": {},
     "output_type": "execute_result"
    }
   ],
   "source": [
    "predicted_features_inverse[0]"
   ]
  },
  {
   "cell_type": "code",
   "execution_count": 63,
   "metadata": {},
   "outputs": [
    {
     "data": {
      "text/plain": [
       "380.1665"
      ]
     },
     "execution_count": 63,
     "metadata": {},
     "output_type": "execute_result"
    }
   ],
   "source": [
    "predicted_features_inverse[0][0]"
   ]
  },
  {
   "cell_type": "code",
   "execution_count": 64,
   "metadata": {},
   "outputs": [],
   "source": [
    "x_future_close=predicted_features_inverse[:, 0]\n"
   ]
  },
  {
   "cell_type": "code",
   "execution_count": 65,
   "metadata": {},
   "outputs": [
    {
     "data": {
      "text/plain": [
       "array([380.1665 , 382.14594, 383.61978, ..., 424.19025, 424.19034,\n",
       "       424.19052], dtype=float32)"
      ]
     },
     "execution_count": 65,
     "metadata": {},
     "output_type": "execute_result"
    }
   ],
   "source": [
    "x_future_close"
   ]
  },
  {
   "cell_type": "code",
   "execution_count": 66,
   "metadata": {},
   "outputs": [
    {
     "data": {
      "text/plain": [
       "<matplotlib.legend.Legend at 0x7fb4392dd880>"
      ]
     },
     "execution_count": 66,
     "metadata": {},
     "output_type": "execute_result"
    },
    {
     "data": {
      "image/png": "[encoded data removed]",
      "text/plain": [
       "<Figure size 1400x700 with 1 Axes>"
      ]
     },
     "metadata": {},
     "output_type": "display_data"
    }
   ],
   "source": [
    "# Plot actual vs predicted values for Close and PE Ratio\n",
    "plt.figure(figsize=(14, 7))\n",
    "\n",
    "# Plot Close\n",
    "plt.subplot(2, 1, 1)\n",
    "plt.plot(x_future_close, label=\"Actual Close\", color=\"blue\")\n",
    "# plt.plot(y_pred_close, label=\"Predicted Close\", color=\"red\")\n",
    "plt.xlabel(\"Days\")\n",
    "plt.ylabel(\"Close Price\")\n",
    "plt.title(\"Actual vs Predicted Close Price\")\n",
    "plt.savefig('future_predict')\n",
    "plt.legend()\n"
   ]
  },
  {
   "cell_type": "code",
   "execution_count": 57,
   "metadata": {},
   "outputs": [],
   "source": [
    "predicted_data=predicted_features_inverse"
   ]
  },
  {
   "cell_type": "code",
   "execution_count": 46,
   "metadata": {},
   "outputs": [
    {
     "data": {
      "text/plain": [
       "(150, 3)"
      ]
     },
     "execution_count": 46,
     "metadata": {},
     "output_type": "execute_result"
    }
   ],
   "source": [
    "predicted_features_inverse.shape"
   ]
  },
  {
   "cell_type": "code",
   "execution_count": 47,
   "metadata": {},
   "outputs": [],
   "source": [
    "# predicted_data.t\n",
    "df=pd.DataFrame(predicted_data)\n",
    "df.to_csv(\"prediction.csv\", index=False)"
   ]
  },
  {
   "cell_type": "code",
   "execution_count": null,
   "metadata": {},
   "outputs": [],
   "source": []
  }
 ],
 "metadata": {
  "kernelspec": {
   "display_name": "tfEnv",
   "language": "python",
   "name": "python3"
  },
  "language_info": {
   "codemirror_mode": {
    "name": "ipython",
    "version": 3
   },
   "file_extension": ".py",
   "mimetype": "text/x-python",
   "name": "python",
   "nbconvert_exporter": "python",
   "pygments_lexer": "ipython3",
   "version": "3.8.18"
  }
 },
 "nbformat": 4,
 "nbformat_minor": 2
}

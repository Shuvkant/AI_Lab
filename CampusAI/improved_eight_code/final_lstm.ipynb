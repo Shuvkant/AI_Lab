{
 "cells": [
  {
   "cell_type": "code",
   "execution_count": 1,
   "metadata": {},
   "outputs": [
    {
     "name": "stderr",
     "output_type": "stream",
     "text": [
      "2025-03-01 00:41:31.854598: I tensorflow/core/platform/cpu_feature_guard.cc:193] This TensorFlow binary is optimized with oneAPI Deep Neural Network Library (oneDNN) to use the following CPU instructions in performance-critical operations:  SSE4.1 SSE4.2\n",
      "To enable them in other operations, rebuild TensorFlow with the appropriate compiler flags.\n"
     ]
    }
   ],
   "source": [
    "import pandas as pd\n",
    "import numpy as np\n",
    "import matplotlib.pyplot as plt\n",
    "from sklearn.preprocessing import MinMaxScaler\n",
    "from tensorflow.keras.models import Sequential\n",
    "from tensorflow.keras.layers import LSTM, Dense, Dropout"
   ]
  },
  {
   "cell_type": "code",
   "execution_count": 2,
   "metadata": {},
   "outputs": [],
   "source": [
    "# Load dataset\n",
    "file_path = 'All_sorted_stock_data_cleaned_nica.csv'\n",
    "data_all = pd.read_csv(file_path)"
   ]
  },
  {
   "cell_type": "code",
   "execution_count": 3,
   "metadata": {},
   "outputs": [],
   "source": [
    "\n",
    "# Train-Test Split\n",
    "data_train = data_all[:int(len(data_all)*0.80)]\n",
    "data_test = data_all[int(len(data_all)*0.80):]\n"
   ]
  },
  {
   "cell_type": "code",
   "execution_count": 4,
   "metadata": {},
   "outputs": [],
   "source": [
    "# Normalize the dataset\n",
    "scaler = MinMaxScaler(feature_range=(0,1))\n",
    "data_train_scaled = scaler.fit_transform(data_train)"
   ]
  },
  {
   "cell_type": "code",
   "execution_count": 5,
   "metadata": {},
   "outputs": [
    {
     "data": {
      "text/plain": [
       "array([[0.48789809, 0.46419437, 0.49014455, ..., 0.00414162, 0.27394474,\n",
       "        0.09914381],\n",
       "       [0.46496815, 0.45652174, 0.47568988, ..., 0.00666046, 0.27394474,\n",
       "        0.09733002],\n",
       "       [0.45350318, 0.45012788, 0.4717477 , ..., 0.00698409, 0.27394474,\n",
       "        0.09632236],\n",
       "       ...,\n",
       "       [0.56050955, 0.61508951, 0.5913272 , ..., 0.19504816, 0.76250212,\n",
       "        0.0260556 ],\n",
       "       [0.61146497, 0.60741688, 0.62417871, ..., 0.07429627, 0.76250212,\n",
       "        0.02628756],\n",
       "       [0.62420382, 0.61764706, 0.63600526, ..., 0.06182775, 0.76250212,\n",
       "        0.02628756]])"
      ]
     },
     "execution_count": 5,
     "metadata": {},
     "output_type": "execute_result"
    }
   ],
   "source": [
    "data_train_scaled"
   ]
  },
  {
   "cell_type": "code",
   "execution_count": 6,
   "metadata": {},
   "outputs": [],
   "source": [
    "# Convert data into sequences\n",
    "def create_sequences(data, seq_length=30):\n",
    "    X, y = [], []\n",
    "    for i in range(len(data) - seq_length):\n",
    "        X.append(data[i:i+seq_length])\n",
    "        y.append(data[i+seq_length])\n",
    "    return np.array(X), np.array(y)\n",
    "\n",
    "seq_length = 30  # Lookback period\n",
    "X_train, y_train = create_sequences(data_train_scaled, seq_length)"
   ]
  },
  {
   "cell_type": "code",
   "execution_count": 7,
   "metadata": {},
   "outputs": [
    {
     "data": {
      "text/plain": [
       "((1506, 30, 9), (1506, 9))"
      ]
     },
     "execution_count": 7,
     "metadata": {},
     "output_type": "execute_result"
    }
   ],
   "source": [
    "X_train.shape, y_train.shape"
   ]
  },
  {
   "cell_type": "code",
   "execution_count": 8,
   "metadata": {},
   "outputs": [],
   "source": [
    "# Build LSTM model\n",
    "model = Sequential([\n",
    "    LSTM(64, activation='tanh', return_sequences=True, input_shape=(seq_length, 9)),\n",
    "    Dropout(0.2),\n",
    "    LSTM(128, activation='tanh', return_sequences=True),\n",
    "    Dropout(0.3),\n",
    "    LSTM(64, activation='tanh', return_sequences=True),\n",
    "    Dropout(0.3),\n",
    "    LSTM(32, activation='tanh', return_sequences=False),\n",
    "    Dropout(0.2),\n",
    "    Dense(9)  # Predicting all 8 features\n",
    "])"
   ]
  },
  {
   "cell_type": "code",
   "execution_count": 9,
   "metadata": {},
   "outputs": [
    {
     "name": "stdout",
     "output_type": "stream",
     "text": [
      "Epoch 1/50\n",
      "48/48 - 7s - loss: 0.0308 - 7s/epoch - 139ms/step\n",
      "Epoch 2/50\n",
      "48/48 - 2s - loss: 0.0159 - 2s/epoch - 42ms/step\n",
      "Epoch 3/50\n",
      "48/48 - 2s - loss: 0.0139 - 2s/epoch - 42ms/step\n",
      "Epoch 4/50\n",
      "48/48 - 2s - loss: 0.0129 - 2s/epoch - 44ms/step\n",
      "Epoch 5/50\n",
      "48/48 - 2s - loss: 0.0111 - 2s/epoch - 43ms/step\n",
      "Epoch 6/50\n",
      "48/48 - 2s - loss: 0.0102 - 2s/epoch - 44ms/step\n",
      "Epoch 7/50\n",
      "48/48 - 2s - loss: 0.0095 - 2s/epoch - 44ms/step\n",
      "Epoch 8/50\n",
      "48/48 - 2s - loss: 0.0097 - 2s/epoch - 43ms/step\n",
      "Epoch 9/50\n",
      "48/48 - 2s - loss: 0.0085 - 2s/epoch - 46ms/step\n",
      "Epoch 10/50\n",
      "48/48 - 2s - loss: 0.0084 - 2s/epoch - 43ms/step\n",
      "Epoch 11/50\n",
      "48/48 - 2s - loss: 0.0079 - 2s/epoch - 42ms/step\n",
      "Epoch 12/50\n",
      "48/48 - 2s - loss: 0.0076 - 2s/epoch - 43ms/step\n",
      "Epoch 13/50\n",
      "48/48 - 2s - loss: 0.0072 - 2s/epoch - 42ms/step\n",
      "Epoch 14/50\n",
      "48/48 - 2s - loss: 0.0074 - 2s/epoch - 45ms/step\n",
      "Epoch 15/50\n",
      "48/48 - 2s - loss: 0.0068 - 2s/epoch - 42ms/step\n",
      "Epoch 16/50\n",
      "48/48 - 2s - loss: 0.0064 - 2s/epoch - 42ms/step\n",
      "Epoch 17/50\n",
      "48/48 - 2s - loss: 0.0064 - 2s/epoch - 44ms/step\n",
      "Epoch 18/50\n",
      "48/48 - 2s - loss: 0.0064 - 2s/epoch - 43ms/step\n",
      "Epoch 19/50\n",
      "48/48 - 2s - loss: 0.0061 - 2s/epoch - 46ms/step\n",
      "Epoch 20/50\n",
      "48/48 - 2s - loss: 0.0060 - 2s/epoch - 44ms/step\n",
      "Epoch 21/50\n",
      "48/48 - 2s - loss: 0.0060 - 2s/epoch - 42ms/step\n",
      "Epoch 22/50\n",
      "48/48 - 2s - loss: 0.0059 - 2s/epoch - 42ms/step\n",
      "Epoch 23/50\n",
      "48/48 - 2s - loss: 0.0058 - 2s/epoch - 45ms/step\n",
      "Epoch 24/50\n",
      "48/48 - 2s - loss: 0.0054 - 2s/epoch - 47ms/step\n",
      "Epoch 25/50\n",
      "48/48 - 2s - loss: 0.0054 - 2s/epoch - 47ms/step\n",
      "Epoch 26/50\n",
      "48/48 - 2s - loss: 0.0053 - 2s/epoch - 45ms/step\n",
      "Epoch 27/50\n",
      "48/48 - 2s - loss: 0.0054 - 2s/epoch - 43ms/step\n",
      "Epoch 28/50\n",
      "48/48 - 2s - loss: 0.0051 - 2s/epoch - 42ms/step\n",
      "Epoch 29/50\n",
      "48/48 - 2s - loss: 0.0050 - 2s/epoch - 46ms/step\n",
      "Epoch 30/50\n",
      "48/48 - 2s - loss: 0.0051 - 2s/epoch - 44ms/step\n",
      "Epoch 31/50\n",
      "48/48 - 2s - loss: 0.0050 - 2s/epoch - 42ms/step\n",
      "Epoch 32/50\n",
      "48/48 - 2s - loss: 0.0047 - 2s/epoch - 42ms/step\n",
      "Epoch 33/50\n",
      "48/48 - 2s - loss: 0.0048 - 2s/epoch - 43ms/step\n",
      "Epoch 34/50\n",
      "48/48 - 2s - loss: 0.0046 - 2s/epoch - 48ms/step\n",
      "Epoch 35/50\n",
      "48/48 - 2s - loss: 0.0048 - 2s/epoch - 44ms/step\n",
      "Epoch 36/50\n",
      "48/48 - 2s - loss: 0.0047 - 2s/epoch - 47ms/step\n",
      "Epoch 37/50\n",
      "48/48 - 2s - loss: 0.0048 - 2s/epoch - 44ms/step\n",
      "Epoch 38/50\n",
      "48/48 - 2s - loss: 0.0044 - 2s/epoch - 43ms/step\n",
      "Epoch 39/50\n",
      "48/48 - 2s - loss: 0.0045 - 2s/epoch - 46ms/step\n",
      "Epoch 40/50\n",
      "48/48 - 2s - loss: 0.0045 - 2s/epoch - 45ms/step\n",
      "Epoch 41/50\n",
      "48/48 - 2s - loss: 0.0042 - 2s/epoch - 43ms/step\n",
      "Epoch 42/50\n",
      "48/48 - 2s - loss: 0.0042 - 2s/epoch - 42ms/step\n",
      "Epoch 43/50\n",
      "48/48 - 2s - loss: 0.0043 - 2s/epoch - 43ms/step\n",
      "Epoch 44/50\n",
      "48/48 - 2s - loss: 0.0041 - 2s/epoch - 47ms/step\n",
      "Epoch 45/50\n",
      "48/48 - 2s - loss: 0.0042 - 2s/epoch - 44ms/step\n",
      "Epoch 46/50\n",
      "48/48 - 2s - loss: 0.0042 - 2s/epoch - 46ms/step\n",
      "Epoch 47/50\n",
      "48/48 - 2s - loss: 0.0041 - 2s/epoch - 43ms/step\n",
      "Epoch 48/50\n",
      "48/48 - 2s - loss: 0.0041 - 2s/epoch - 42ms/step\n",
      "Epoch 49/50\n",
      "48/48 - 2s - loss: 0.0042 - 2s/epoch - 47ms/step\n",
      "Epoch 50/50\n",
      "48/48 - 2s - loss: 0.0043 - 2s/epoch - 43ms/step\n"
     ]
    }
   ],
   "source": [
    "# Compile and train the model\n",
    "model.compile(optimizer='adam', loss='mean_squared_error')\n",
    "history=model.fit(X_train, y_train, epochs=50, batch_size=32, verbose=2)\n",
    "model.save(\"lstm_final.keras\")"
   ]
  },
  {
   "cell_type": "code",
   "execution_count": 10,
   "metadata": {},
   "outputs": [
    {
     "data": {
      "image/png": "[encoded data removed]",
      "text/plain": [
       "<Figure size 800x600 with 1 Axes>"
      ]
     },
     "metadata": {},
     "output_type": "display_data"
    }
   ],
   "source": [
    "# Extract loss values\n",
    "loss = history.history['loss']\n",
    "# val_loss = history.history['val_loss']\n",
    "\n",
    "# Plot training & validation loss\n",
    "plt.figure(figsize=(8, 6))\n",
    "plt.plot(loss, label='Training Loss')\n",
    "# plt.plot(val_loss, label='Validation Loss')\n",
    "plt.xlabel('Epochs')\n",
    "plt.ylabel('Loss')\n",
    "plt.title('Training vs Validation Loss')\n",
    "plt.legend()\n",
    "plt.grid()\n",
    "plt.show()"
   ]
  },
  {
   "cell_type": "code",
   "execution_count": 11,
   "metadata": {},
   "outputs": [],
   "source": [
    "# Prepare Test Data\n",
    "data_test_scaled=scaler.transform(data_test)\n",
    "# Convert data into sequences\n",
    "def create_sequences(data_test, seq_length=30):\n",
    "    X, y = [], []\n",
    "    for i in range(len(data_test) - seq_length):\n",
    "        X.append(data_test[i:i+seq_length])\n",
    "        y.append(data_test[i+seq_length])\n",
    "    return np.array(X), np.array(y)\n",
    "\n",
    "seq_length = 30  # Lookback period\n",
    "X_test, y_test = create_sequences(data_test_scaled, seq_length)\n"
   ]
  },
  {
   "cell_type": "code",
   "execution_count": 12,
   "metadata": {},
   "outputs": [
    {
     "data": {
      "text/plain": [
       "array([[[0.61656051, 0.60997442, 0.63337714, ..., 0.07510434,\n",
       "         0.76250212, 0.02552982],\n",
       "        [0.61146497, 0.60741688, 0.61760841, ..., 0.04687471,\n",
       "         0.76250212, 0.02481847],\n",
       "        [0.59745223, 0.59846547, 0.61103811, ..., 0.06996758,\n",
       "         0.76250212, 0.02412259],\n",
       "        ...,\n",
       "        [0.61057325, 0.63810742, 0.64296978, ..., 0.08711315,\n",
       "         0.65163587, 0.03660847],\n",
       "        [0.64076433, 0.63299233, 0.64270696, ..., 0.10420143,\n",
       "         0.65163587, 0.03597922],\n",
       "        [0.62547771, 0.63554987, 0.63771353, ..., 0.07190942,\n",
       "         0.65163587, 0.03669836]],\n",
       "\n",
       "       [[0.61146497, 0.60741688, 0.61760841, ..., 0.04687471,\n",
       "         0.76250212, 0.02481847],\n",
       "        [0.59745223, 0.59846547, 0.61103811, ..., 0.06996758,\n",
       "         0.76250212, 0.02412259],\n",
       "        [0.58598726, 0.58439898, 0.60183968, ..., 0.08473467,\n",
       "         0.76250212, 0.02412259],\n",
       "        ...,\n",
       "        [0.64076433, 0.63299233, 0.64270696, ..., 0.10420143,\n",
       "         0.65163587, 0.03597922],\n",
       "        [0.62547771, 0.63554987, 0.63771353, ..., 0.07190942,\n",
       "         0.65163587, 0.03669836],\n",
       "        [0.60509554, 0.62787724, 0.63731932, ..., 0.06697612,\n",
       "         0.65163587, 0.03606911]],\n",
       "\n",
       "       [[0.59745223, 0.59846547, 0.61103811, ..., 0.06996758,\n",
       "         0.76250212, 0.02412259],\n",
       "        [0.58598726, 0.58439898, 0.60183968, ..., 0.08473467,\n",
       "         0.76250212, 0.02412259],\n",
       "        [0.57961783, 0.5971867 , 0.5978975 , ..., 0.12039708,\n",
       "         0.76250212, 0.02559168],\n",
       "        ...,\n",
       "        [0.62547771, 0.63554987, 0.63771353, ..., 0.07190942,\n",
       "         0.65163587, 0.03669836],\n",
       "        [0.60509554, 0.62787724, 0.63731932, ..., 0.06697612,\n",
       "         0.65163587, 0.03606911],\n",
       "        [0.63057325, 0.62276215, 0.64283837, ..., 0.04746264,\n",
       "         0.65163587, 0.036159  ]],\n",
       "\n",
       "       ...,\n",
       "\n",
       "       [[0.10484076, 0.10869565, 0.12128778, ..., 0.02961262,\n",
       "         0.01915579, 0.44273104],\n",
       "        [0.12101911, 0.1112532 , 0.12141919, ..., 0.04001507,\n",
       "         0.01915579, 0.44683108],\n",
       "        [0.11464968, 0.11086957, 0.12838371, ..., 0.06095344,\n",
       "         0.01915579, 0.44322802],\n",
       "        ...,\n",
       "        [0.08917197, 0.08567775, 0.09855453, ..., 0.03056584,\n",
       "         0.00440753, 0.60965418],\n",
       "        [0.08280255, 0.08056266, 0.09855453, ..., 0.03087184,\n",
       "         0.00440753, 0.60947695],\n",
       "        [0.09171975, 0.08682864, 0.10512484, ..., 0.04639757,\n",
       "         0.00440753, 0.62312365]],\n",
       "\n",
       "       [[0.12101911, 0.1112532 , 0.12141919, ..., 0.04001507,\n",
       "         0.01915579, 0.44683108],\n",
       "        [0.11464968, 0.11086957, 0.12838371, ..., 0.06095344,\n",
       "         0.01915579, 0.44322802],\n",
       "        [0.11847134, 0.1112532 , 0.12759527, ..., 0.05373109,\n",
       "         0.01915579, 0.44819776],\n",
       "        ...,\n",
       "        [0.08280255, 0.08056266, 0.09855453, ..., 0.03087184,\n",
       "         0.00440753, 0.60947695],\n",
       "        [0.09171975, 0.08682864, 0.10512484, ..., 0.04639757,\n",
       "         0.00440753, 0.62312365],\n",
       "        [0.09681529, 0.107289  , 0.11261498, ..., 0.07353219,\n",
       "         0.00440753, 0.64315063]],\n",
       "\n",
       "       [[0.11464968, 0.11086957, 0.12838371, ..., 0.06095344,\n",
       "         0.01915579, 0.44322802],\n",
       "        [0.11847134, 0.1112532 , 0.12759527, ..., 0.05373109,\n",
       "         0.01915579, 0.44819776],\n",
       "        [0.12828025, 0.1185422 , 0.13009198, ..., 0.04085163,\n",
       "         0.01915579, 0.44794927],\n",
       "        ...,\n",
       "        [0.09171975, 0.08682864, 0.10512484, ..., 0.04639757,\n",
       "         0.00440753, 0.62312365],\n",
       "        [0.09681529, 0.107289  , 0.11261498, ..., 0.07353219,\n",
       "         0.00440753, 0.64315063],\n",
       "        [0.11974522, 0.11074169, 0.11826544, ..., 0.05061142,\n",
       "         0.00440753, 0.63428913]]])"
      ]
     },
     "execution_count": 12,
     "metadata": {},
     "output_type": "execute_result"
    }
   ],
   "source": [
    "X_test"
   ]
  },
  {
   "cell_type": "code",
   "execution_count": 13,
   "metadata": {},
   "outputs": [
    {
     "data": {
      "text/plain": [
       "(354, 30, 9)"
      ]
     },
     "execution_count": 13,
     "metadata": {},
     "output_type": "execute_result"
    }
   ],
   "source": [
    "X_test.shape"
   ]
  },
  {
   "cell_type": "code",
   "execution_count": 14,
   "metadata": {},
   "outputs": [
    {
     "name": "stdout",
     "output_type": "stream",
     "text": [
      "12/12 [==============================] - 1s 15ms/step\n"
     ]
    }
   ],
   "source": [
    "# Make Predictions\n",
    "y_pred_scaled = model.predict(X_test)\n",
    "y_pred = scaler.inverse_transform(y_pred_scaled)\n",
    "# y_test_actual = scaler.inverse_transform(y_test.reshape(-1,1))\n",
    "y_test_actual = (scaler.inverse_transform(y_test.reshape(-1,9))).reshape(y_test.shape)"
   ]
  },
  {
   "cell_type": "code",
   "execution_count": 15,
   "metadata": {},
   "outputs": [],
   "source": [
    "# Assuming 'Close' is the 0th feature and 'PE Ratio' is the 5th feature in the dataset\n",
    "# Extract the actual test values\n",
    "X_test_close = y_test_actual[:, 3]  # Actual Close values from test data\n",
    "X_test_EPS = y_test_actual[:, 7]  # Actual PE Ratio values from test data\n",
    "y_pred_close=y_pred[:,3]\n",
    "y_pred_EPS=y_pred[:,7]\n"
   ]
  },
  {
   "cell_type": "code",
   "execution_count": 16,
   "metadata": {},
   "outputs": [
    {
     "data": {
      "text/plain": [
       "<matplotlib.legend.Legend at 0x7fc8be9fcd30>"
      ]
     },
     "execution_count": 16,
     "metadata": {},
     "output_type": "execute_result"
    },
    {
     "data": {
      "image/png": "[encoded data removed]",
      "text/plain": [
       "<Figure size 1400x700 with 1 Axes>"
      ]
     },
     "metadata": {},
     "output_type": "display_data"
    }
   ],
   "source": [
    "# Plot actual vs predicted values for Close and PE Ratio\n",
    "plt.figure(figsize=(14, 7))\n",
    "\n",
    "# Plot Close\n",
    "plt.subplot(2, 1, 1)\n",
    "plt.plot(X_test_close, label=\"Actual Close\", color=\"blue\")\n",
    "plt.plot(y_pred_close, label=\"Predicted Close\", color=\"red\")\n",
    "plt.xlabel(\"Days\")\n",
    "plt.ylabel(\"Close Price\")\n",
    "plt.title(\"Actual vs Predicted Close Price\")\n",
    "plt.legend()\n"
   ]
  },
  {
   "cell_type": "code",
   "execution_count": 17,
   "metadata": {},
   "outputs": [
    {
     "data": {
      "text/plain": [
       "<matplotlib.legend.Legend at 0x7fc8beb9cb50>"
      ]
     },
     "execution_count": 17,
     "metadata": {},
     "output_type": "execute_result"
    },
    {
     "data": {
      "image/png": "[encoded data removed]",
      "text/plain": [
       "<Figure size 640x480 with 1 Axes>"
      ]
     },
     "metadata": {},
     "output_type": "display_data"
    }
   ],
   "source": [
    "# Plot PE Ratio\n",
    "plt.subplot(2, 1, 2)\n",
    "plt.plot(X_test_EPS, label=\"Actual EPS Ratio\", color=\"green\")\n",
    "plt.plot(y_pred_EPS, label=\"Predicted EPS Ratio\",  color=\"red\")\n",
    "plt.xlabel(\"Days\")\n",
    "plt.ylabel(\"PE Ratio\")\n",
    "plt.title(\"Actual vs Predicted EPS \")\n",
    "plt.legend()"
   ]
  },
  {
   "cell_type": "code",
   "execution_count": 18,
   "metadata": {},
   "outputs": [],
   "source": [
    "##For Future prediction\n",
    "last_50_datas=data_all[-seq_length:]"
   ]
  },
  {
   "cell_type": "code",
   "execution_count": 19,
   "metadata": {},
   "outputs": [
    {
     "data": {
      "text/html": [
       "<div>\n",
       "<style scoped>\n",
       "    .dataframe tbody tr th:only-of-type {\n",
       "        vertical-align: middle;\n",
       "    }\n",
       "\n",
       "    .dataframe tbody tr th {\n",
       "        vertical-align: top;\n",
       "    }\n",
       "\n",
       "    .dataframe thead th {\n",
       "        text-align: right;\n",
       "    }\n",
       "</style>\n",
       "<table border=\"1\" class=\"dataframe\">\n",
       "  <thead>\n",
       "    <tr style=\"text-align: right;\">\n",
       "      <th></th>\n",
       "      <th>Open</th>\n",
       "      <th>High</th>\n",
       "      <th>Low</th>\n",
       "      <th>Close</th>\n",
       "      <th>per_change</th>\n",
       "      <th>Qty</th>\n",
       "      <th>Turnover</th>\n",
       "      <th>EPS</th>\n",
       "      <th>PE</th>\n",
       "    </tr>\n",
       "  </thead>\n",
       "  <tbody>\n",
       "    <tr>\n",
       "      <th>1890</th>\n",
       "      <td>388.0</td>\n",
       "      <td>390.0</td>\n",
       "      <td>382.1</td>\n",
       "      <td>388.0</td>\n",
       "      <td>1.04</td>\n",
       "      <td>78034.0</td>\n",
       "      <td>30121853.6</td>\n",
       "      <td>2.91</td>\n",
       "      <td>133.333333</td>\n",
       "    </tr>\n",
       "    <tr>\n",
       "      <th>1891</th>\n",
       "      <td>395.7</td>\n",
       "      <td>395.7</td>\n",
       "      <td>384.0</td>\n",
       "      <td>387.8</td>\n",
       "      <td>-0.05</td>\n",
       "      <td>59219.0</td>\n",
       "      <td>22908320.5</td>\n",
       "      <td>2.91</td>\n",
       "      <td>133.264605</td>\n",
       "    </tr>\n",
       "    <tr>\n",
       "      <th>1892</th>\n",
       "      <td>393.5</td>\n",
       "      <td>393.5</td>\n",
       "      <td>383.0</td>\n",
       "      <td>387.0</td>\n",
       "      <td>-0.21</td>\n",
       "      <td>45107.0</td>\n",
       "      <td>17419527.1</td>\n",
       "      <td>2.91</td>\n",
       "      <td>132.989691</td>\n",
       "    </tr>\n",
       "    <tr>\n",
       "      <th>1893</th>\n",
       "      <td>386.0</td>\n",
       "      <td>388.0</td>\n",
       "      <td>381.0</td>\n",
       "      <td>383.4</td>\n",
       "      <td>-0.93</td>\n",
       "      <td>78694.0</td>\n",
       "      <td>30206337.5</td>\n",
       "      <td>2.91</td>\n",
       "      <td>131.752577</td>\n",
       "    </tr>\n",
       "    <tr>\n",
       "      <th>1894</th>\n",
       "      <td>385.0</td>\n",
       "      <td>385.2</td>\n",
       "      <td>381.0</td>\n",
       "      <td>381.0</td>\n",
       "      <td>-0.63</td>\n",
       "      <td>36094.0</td>\n",
       "      <td>13812729.1</td>\n",
       "      <td>2.91</td>\n",
       "      <td>130.927835</td>\n",
       "    </tr>\n",
       "    <tr>\n",
       "      <th>1895</th>\n",
       "      <td>388.6</td>\n",
       "      <td>388.6</td>\n",
       "      <td>377.5</td>\n",
       "      <td>377.6</td>\n",
       "      <td>-0.89</td>\n",
       "      <td>84072.0</td>\n",
       "      <td>31908096.2</td>\n",
       "      <td>2.91</td>\n",
       "      <td>129.759450</td>\n",
       "    </tr>\n",
       "    <tr>\n",
       "      <th>1896</th>\n",
       "      <td>370.1</td>\n",
       "      <td>384.0</td>\n",
       "      <td>370.1</td>\n",
       "      <td>377.8</td>\n",
       "      <td>0.05</td>\n",
       "      <td>51468.0</td>\n",
       "      <td>19446913.7</td>\n",
       "      <td>2.04</td>\n",
       "      <td>185.196078</td>\n",
       "    </tr>\n",
       "    <tr>\n",
       "      <th>1897</th>\n",
       "      <td>375.2</td>\n",
       "      <td>377.8</td>\n",
       "      <td>368.0</td>\n",
       "      <td>368.9</td>\n",
       "      <td>-2.36</td>\n",
       "      <td>67591.0</td>\n",
       "      <td>25110905.7</td>\n",
       "      <td>2.04</td>\n",
       "      <td>180.833333</td>\n",
       "    </tr>\n",
       "    <tr>\n",
       "      <th>1898</th>\n",
       "      <td>365.1</td>\n",
       "      <td>370.0</td>\n",
       "      <td>361.6</td>\n",
       "      <td>366.0</td>\n",
       "      <td>-0.79</td>\n",
       "      <td>83984.0</td>\n",
       "      <td>30679994.8</td>\n",
       "      <td>2.04</td>\n",
       "      <td>179.411765</td>\n",
       "    </tr>\n",
       "    <tr>\n",
       "      <th>1899</th>\n",
       "      <td>362.0</td>\n",
       "      <td>363.6</td>\n",
       "      <td>351.6</td>\n",
       "      <td>357.5</td>\n",
       "      <td>-2.32</td>\n",
       "      <td>187054.0</td>\n",
       "      <td>66767422.9</td>\n",
       "      <td>2.04</td>\n",
       "      <td>175.245098</td>\n",
       "    </tr>\n",
       "    <tr>\n",
       "      <th>1900</th>\n",
       "      <td>357.0</td>\n",
       "      <td>361.0</td>\n",
       "      <td>354.0</td>\n",
       "      <td>359.0</td>\n",
       "      <td>0.42</td>\n",
       "      <td>85995.0</td>\n",
       "      <td>30732031.1</td>\n",
       "      <td>2.04</td>\n",
       "      <td>175.980392</td>\n",
       "    </tr>\n",
       "    <tr>\n",
       "      <th>1901</th>\n",
       "      <td>359.0</td>\n",
       "      <td>370.0</td>\n",
       "      <td>355.0</td>\n",
       "      <td>369.8</td>\n",
       "      <td>3.01</td>\n",
       "      <td>137664.0</td>\n",
       "      <td>49669715.4</td>\n",
       "      <td>2.04</td>\n",
       "      <td>181.274510</td>\n",
       "    </tr>\n",
       "    <tr>\n",
       "      <th>1902</th>\n",
       "      <td>369.0</td>\n",
       "      <td>371.8</td>\n",
       "      <td>364.3</td>\n",
       "      <td>366.0</td>\n",
       "      <td>-1.03</td>\n",
       "      <td>59766.0</td>\n",
       "      <td>21896885.1</td>\n",
       "      <td>2.04</td>\n",
       "      <td>179.411765</td>\n",
       "    </tr>\n",
       "    <tr>\n",
       "      <th>1903</th>\n",
       "      <td>362.1</td>\n",
       "      <td>364.9</td>\n",
       "      <td>356.0</td>\n",
       "      <td>356.5</td>\n",
       "      <td>-2.60</td>\n",
       "      <td>87702.0</td>\n",
       "      <td>31524673.6</td>\n",
       "      <td>2.04</td>\n",
       "      <td>174.754902</td>\n",
       "    </tr>\n",
       "    <tr>\n",
       "      <th>1904</th>\n",
       "      <td>362.8</td>\n",
       "      <td>362.8</td>\n",
       "      <td>351.0</td>\n",
       "      <td>353.0</td>\n",
       "      <td>-0.98</td>\n",
       "      <td>95052.0</td>\n",
       "      <td>33567863.7</td>\n",
       "      <td>2.04</td>\n",
       "      <td>173.039216</td>\n",
       "    </tr>\n",
       "    <tr>\n",
       "      <th>1905</th>\n",
       "      <td>353.0</td>\n",
       "      <td>362.0</td>\n",
       "      <td>350.0</td>\n",
       "      <td>357.0</td>\n",
       "      <td>1.13</td>\n",
       "      <td>104728.0</td>\n",
       "      <td>37397715.6</td>\n",
       "      <td>2.04</td>\n",
       "      <td>175.000000</td>\n",
       "    </tr>\n",
       "    <tr>\n",
       "      <th>1906</th>\n",
       "      <td>355.0</td>\n",
       "      <td>367.0</td>\n",
       "      <td>355.0</td>\n",
       "      <td>367.0</td>\n",
       "      <td>2.80</td>\n",
       "      <td>81796.0</td>\n",
       "      <td>29683622.2</td>\n",
       "      <td>2.04</td>\n",
       "      <td>179.901961</td>\n",
       "    </tr>\n",
       "    <tr>\n",
       "      <th>1907</th>\n",
       "      <td>369.2</td>\n",
       "      <td>385.5</td>\n",
       "      <td>369.0</td>\n",
       "      <td>372.0</td>\n",
       "      <td>1.36</td>\n",
       "      <td>147482.0</td>\n",
       "      <td>55551307.3</td>\n",
       "      <td>2.04</td>\n",
       "      <td>182.352941</td>\n",
       "    </tr>\n",
       "    <tr>\n",
       "      <th>1908</th>\n",
       "      <td>379.0</td>\n",
       "      <td>379.0</td>\n",
       "      <td>367.0</td>\n",
       "      <td>369.3</td>\n",
       "      <td>-0.73</td>\n",
       "      <td>54568.0</td>\n",
       "      <td>20261319.4</td>\n",
       "      <td>2.04</td>\n",
       "      <td>181.029412</td>\n",
       "    </tr>\n",
       "    <tr>\n",
       "      <th>1909</th>\n",
       "      <td>366.0</td>\n",
       "      <td>370.1</td>\n",
       "      <td>363.0</td>\n",
       "      <td>365.0</td>\n",
       "      <td>-1.16</td>\n",
       "      <td>50984.0</td>\n",
       "      <td>18697457.0</td>\n",
       "      <td>2.04</td>\n",
       "      <td>178.921569</td>\n",
       "    </tr>\n",
       "    <tr>\n",
       "      <th>1910</th>\n",
       "      <td>363.0</td>\n",
       "      <td>368.0</td>\n",
       "      <td>359.0</td>\n",
       "      <td>365.9</td>\n",
       "      <td>0.25</td>\n",
       "      <td>73453.0</td>\n",
       "      <td>26881083.3</td>\n",
       "      <td>2.04</td>\n",
       "      <td>179.362745</td>\n",
       "    </tr>\n",
       "    <tr>\n",
       "      <th>1911</th>\n",
       "      <td>358.6</td>\n",
       "      <td>370.0</td>\n",
       "      <td>358.6</td>\n",
       "      <td>366.0</td>\n",
       "      <td>0.03</td>\n",
       "      <td>55880.0</td>\n",
       "      <td>20503353.5</td>\n",
       "      <td>2.04</td>\n",
       "      <td>179.411765</td>\n",
       "    </tr>\n",
       "    <tr>\n",
       "      <th>1912</th>\n",
       "      <td>369.9</td>\n",
       "      <td>369.9</td>\n",
       "      <td>363.2</td>\n",
       "      <td>364.1</td>\n",
       "      <td>-0.52</td>\n",
       "      <td>28859.0</td>\n",
       "      <td>10533106.8</td>\n",
       "      <td>2.04</td>\n",
       "      <td>178.480392</td>\n",
       "    </tr>\n",
       "    <tr>\n",
       "      <th>1913</th>\n",
       "      <td>367.0</td>\n",
       "      <td>370.0</td>\n",
       "      <td>361.0</td>\n",
       "      <td>364.0</td>\n",
       "      <td>-0.03</td>\n",
       "      <td>48342.0</td>\n",
       "      <td>17610510.4</td>\n",
       "      <td>2.04</td>\n",
       "      <td>178.431373</td>\n",
       "    </tr>\n",
       "    <tr>\n",
       "      <th>1914</th>\n",
       "      <td>365.0</td>\n",
       "      <td>370.0</td>\n",
       "      <td>360.0</td>\n",
       "      <td>363.1</td>\n",
       "      <td>-0.25</td>\n",
       "      <td>47038.0</td>\n",
       "      <td>17147454.5</td>\n",
       "      <td>2.04</td>\n",
       "      <td>177.990196</td>\n",
       "    </tr>\n",
       "    <tr>\n",
       "      <th>1915</th>\n",
       "      <td>360.0</td>\n",
       "      <td>366.0</td>\n",
       "      <td>360.0</td>\n",
       "      <td>363.0</td>\n",
       "      <td>-0.03</td>\n",
       "      <td>47627.0</td>\n",
       "      <td>17318839.0</td>\n",
       "      <td>2.04</td>\n",
       "      <td>177.941176</td>\n",
       "    </tr>\n",
       "    <tr>\n",
       "      <th>1916</th>\n",
       "      <td>367.0</td>\n",
       "      <td>370.9</td>\n",
       "      <td>365.0</td>\n",
       "      <td>370.7</td>\n",
       "      <td>2.12</td>\n",
       "      <td>70533.0</td>\n",
       "      <td>26014490.4</td>\n",
       "      <td>2.04</td>\n",
       "      <td>181.715686</td>\n",
       "    </tr>\n",
       "    <tr>\n",
       "      <th>1917</th>\n",
       "      <td>371.0</td>\n",
       "      <td>386.9</td>\n",
       "      <td>370.7</td>\n",
       "      <td>382.0</td>\n",
       "      <td>3.05</td>\n",
       "      <td>108899.0</td>\n",
       "      <td>41212054.5</td>\n",
       "      <td>2.04</td>\n",
       "      <td>187.254902</td>\n",
       "    </tr>\n",
       "    <tr>\n",
       "      <th>1918</th>\n",
       "      <td>389.0</td>\n",
       "      <td>389.6</td>\n",
       "      <td>375.0</td>\n",
       "      <td>377.0</td>\n",
       "      <td>-1.31</td>\n",
       "      <td>74518.0</td>\n",
       "      <td>28374584.9</td>\n",
       "      <td>2.04</td>\n",
       "      <td>184.803922</td>\n",
       "    </tr>\n",
       "    <tr>\n",
       "      <th>1919</th>\n",
       "      <td>384.5</td>\n",
       "      <td>384.5</td>\n",
       "      <td>373.6</td>\n",
       "      <td>374.5</td>\n",
       "      <td>-0.66</td>\n",
       "      <td>42089.0</td>\n",
       "      <td>15847811.6</td>\n",
       "      <td>2.04</td>\n",
       "      <td>183.578431</td>\n",
       "    </tr>\n",
       "  </tbody>\n",
       "</table>\n",
       "</div>"
      ],
      "text/plain": [
       "       Open   High    Low  Close  per_change       Qty    Turnover   EPS  \\\n",
       "1890  388.0  390.0  382.1  388.0        1.04   78034.0  30121853.6  2.91   \n",
       "1891  395.7  395.7  384.0  387.8       -0.05   59219.0  22908320.5  2.91   \n",
       "1892  393.5  393.5  383.0  387.0       -0.21   45107.0  17419527.1  2.91   \n",
       "1893  386.0  388.0  381.0  383.4       -0.93   78694.0  30206337.5  2.91   \n",
       "1894  385.0  385.2  381.0  381.0       -0.63   36094.0  13812729.1  2.91   \n",
       "1895  388.6  388.6  377.5  377.6       -0.89   84072.0  31908096.2  2.91   \n",
       "1896  370.1  384.0  370.1  377.8        0.05   51468.0  19446913.7  2.04   \n",
       "1897  375.2  377.8  368.0  368.9       -2.36   67591.0  25110905.7  2.04   \n",
       "1898  365.1  370.0  361.6  366.0       -0.79   83984.0  30679994.8  2.04   \n",
       "1899  362.0  363.6  351.6  357.5       -2.32  187054.0  66767422.9  2.04   \n",
       "1900  357.0  361.0  354.0  359.0        0.42   85995.0  30732031.1  2.04   \n",
       "1901  359.0  370.0  355.0  369.8        3.01  137664.0  49669715.4  2.04   \n",
       "1902  369.0  371.8  364.3  366.0       -1.03   59766.0  21896885.1  2.04   \n",
       "1903  362.1  364.9  356.0  356.5       -2.60   87702.0  31524673.6  2.04   \n",
       "1904  362.8  362.8  351.0  353.0       -0.98   95052.0  33567863.7  2.04   \n",
       "1905  353.0  362.0  350.0  357.0        1.13  104728.0  37397715.6  2.04   \n",
       "1906  355.0  367.0  355.0  367.0        2.80   81796.0  29683622.2  2.04   \n",
       "1907  369.2  385.5  369.0  372.0        1.36  147482.0  55551307.3  2.04   \n",
       "1908  379.0  379.0  367.0  369.3       -0.73   54568.0  20261319.4  2.04   \n",
       "1909  366.0  370.1  363.0  365.0       -1.16   50984.0  18697457.0  2.04   \n",
       "1910  363.0  368.0  359.0  365.9        0.25   73453.0  26881083.3  2.04   \n",
       "1911  358.6  370.0  358.6  366.0        0.03   55880.0  20503353.5  2.04   \n",
       "1912  369.9  369.9  363.2  364.1       -0.52   28859.0  10533106.8  2.04   \n",
       "1913  367.0  370.0  361.0  364.0       -0.03   48342.0  17610510.4  2.04   \n",
       "1914  365.0  370.0  360.0  363.1       -0.25   47038.0  17147454.5  2.04   \n",
       "1915  360.0  366.0  360.0  363.0       -0.03   47627.0  17318839.0  2.04   \n",
       "1916  367.0  370.9  365.0  370.7        2.12   70533.0  26014490.4  2.04   \n",
       "1917  371.0  386.9  370.7  382.0        3.05  108899.0  41212054.5  2.04   \n",
       "1918  389.0  389.6  375.0  377.0       -1.31   74518.0  28374584.9  2.04   \n",
       "1919  384.5  384.5  373.6  374.5       -0.66   42089.0  15847811.6  2.04   \n",
       "\n",
       "              PE  \n",
       "1890  133.333333  \n",
       "1891  133.264605  \n",
       "1892  132.989691  \n",
       "1893  131.752577  \n",
       "1894  130.927835  \n",
       "1895  129.759450  \n",
       "1896  185.196078  \n",
       "1897  180.833333  \n",
       "1898  179.411765  \n",
       "1899  175.245098  \n",
       "1900  175.980392  \n",
       "1901  181.274510  \n",
       "1902  179.411765  \n",
       "1903  174.754902  \n",
       "1904  173.039216  \n",
       "1905  175.000000  \n",
       "1906  179.901961  \n",
       "1907  182.352941  \n",
       "1908  181.029412  \n",
       "1909  178.921569  \n",
       "1910  179.362745  \n",
       "1911  179.411765  \n",
       "1912  178.480392  \n",
       "1913  178.431373  \n",
       "1914  177.990196  \n",
       "1915  177.941176  \n",
       "1916  181.715686  \n",
       "1917  187.254902  \n",
       "1918  184.803922  \n",
       "1919  183.578431  "
      ]
     },
     "execution_count": 19,
     "metadata": {},
     "output_type": "execute_result"
    }
   ],
   "source": [
    "last_50_datas"
   ]
  },
  {
   "cell_type": "code",
   "execution_count": 20,
   "metadata": {},
   "outputs": [],
   "source": [
    "#Scale the data\n",
    "last_50_datas_scaled=scaler.transform(last_50_datas)"
   ]
  },
  {
   "cell_type": "code",
   "execution_count": 21,
   "metadata": {},
   "outputs": [],
   "source": [
    "input_sequence=last_50_datas_scaled.copy()\n",
    "input_data = np.expand_dims(input_sequence, axis=0)  # Reshape for model input"
   ]
  },
  {
   "cell_type": "code",
   "execution_count": 22,
   "metadata": {},
   "outputs": [
    {
     "data": {
      "text/plain": [
       "(1, 30, 9)"
      ]
     },
     "execution_count": 22,
     "metadata": {},
     "output_type": "execute_result"
    }
   ],
   "source": [
    "input_data.shape"
   ]
  },
  {
   "cell_type": "code",
   "execution_count": 23,
   "metadata": {},
   "outputs": [
    {
     "data": {
      "text/plain": [
       "array([[[0.11847134, 0.1112532 , 0.12759527, 0.11612903, 0.5161987 ,\n",
       "         0.11562427, 0.05373109, 0.01915579, 0.44819776],\n",
       "        [0.12828025, 0.1185422 , 0.13009198, 0.11587097, 0.45734341,\n",
       "         0.08772432, 0.04085163, 0.01915579, 0.44794927],\n",
       "        [0.12547771, 0.1157289 , 0.12877792, 0.11483871, 0.4487041 ,\n",
       "         0.06679825, 0.03105162, 0.01915579, 0.44695532],\n",
       "        [0.11592357, 0.10869565, 0.1261498 , 0.11019355, 0.40982721,\n",
       "         0.11660295, 0.05388194, 0.01915579, 0.44248255],\n",
       "        [0.11464968, 0.10511509, 0.1261498 , 0.10709677, 0.42602592,\n",
       "         0.05343326, 0.02461183, 0.01915579, 0.43950071],\n",
       "        [0.11923567, 0.10946292, 0.12155059, 0.10270968, 0.41198704,\n",
       "         0.12457776, 0.05692036, 0.01915579, 0.43527642],\n",
       "        [0.09566879, 0.10358056, 0.11182654, 0.10296774, 0.46274298,\n",
       "         0.0762307 , 0.03467143, 0.00440753, 0.63570697],\n",
       "        [0.10216561, 0.09565217, 0.10906702, 0.09148387, 0.33261339,\n",
       "         0.1001388 , 0.04478425, 0.00440753, 0.61993351],\n",
       "        [0.08929936, 0.08567775, 0.10065703, 0.08774194, 0.41738661,\n",
       "         0.12444727, 0.05472763, 0.00440753, 0.61479385],\n",
       "        [0.08535032, 0.07749361, 0.08751643, 0.07677419, 0.33477322,\n",
       "         0.2772853 , 0.11916024, 0.00440753, 0.59972931],\n",
       "        [0.07898089, 0.0741688 , 0.09067017, 0.07870968, 0.48272138,\n",
       "         0.12742929, 0.05482054, 0.00440753, 0.60238775],\n",
       "        [0.08152866, 0.08567775, 0.09198423, 0.09264516, 0.62257019,\n",
       "         0.20404701, 0.08863299, 0.00440753, 0.62152858],\n",
       "        [0.09426752, 0.08797954, 0.10420499, 0.08774194, 0.40442765,\n",
       "         0.08853544, 0.03904575, 0.00440753, 0.61479385],\n",
       "        [0.08547771, 0.07915601, 0.09329829, 0.07548387, 0.31965443,\n",
       "         0.12996053, 0.05623577, 0.00440753, 0.59795701],\n",
       "        [0.08636943, 0.07647059, 0.08672799, 0.07096774, 0.40712743,\n",
       "         0.14085952, 0.0598838 , 0.00440753, 0.59175396],\n",
       "        [0.07388535, 0.07544757, 0.08541393, 0.07612903, 0.52105832,\n",
       "         0.15520764, 0.06672184, 0.00440753, 0.59884316],\n",
       "        [0.07643312, 0.08184143, 0.09198423, 0.08903226, 0.6112311 ,\n",
       "         0.12120277, 0.05294865, 0.00440753, 0.61656615],\n",
       "        [0.09452229, 0.10549872, 0.11038108, 0.09548387, 0.53347732,\n",
       "         0.2186057 , 0.09913433, 0.00440753, 0.62542764],\n",
       "        [0.10700637, 0.0971867 , 0.10775296, 0.092     , 0.42062635,\n",
       "         0.08082755, 0.03612552, 0.00440753, 0.62064243],\n",
       "        [0.09044586, 0.08580563, 0.10249671, 0.08645161, 0.39740821,\n",
       "         0.07551299, 0.03333331, 0.00440753, 0.61302155],\n",
       "        [0.0866242 , 0.0831202 , 0.09724047, 0.0876129 , 0.47354212,\n",
       "         0.1088313 , 0.04794483, 0.00440753, 0.61461662],\n",
       "        [0.08101911, 0.08567775, 0.09671485, 0.08774194, 0.46166307,\n",
       "         0.08277306, 0.03655766, 0.00440753, 0.61479385],\n",
       "        [0.09541401, 0.08554987, 0.10275953, 0.08529032, 0.43196544,\n",
       "         0.04270479, 0.0187562 , 0.00440753, 0.61142648],\n",
       "        [0.09171975, 0.08567775, 0.09986859, 0.08516129, 0.45842333,\n",
       "         0.07159529, 0.03139261, 0.00440753, 0.61124925],\n",
       "        [0.08917197, 0.08567775, 0.09855453, 0.084     , 0.44654428,\n",
       "         0.06966164, 0.03056584, 0.00440753, 0.60965418],\n",
       "        [0.08280255, 0.08056266, 0.09855453, 0.08387097, 0.45842333,\n",
       "         0.07053504, 0.03087184, 0.00440753, 0.60947695],\n",
       "        [0.09171975, 0.08682864, 0.10512484, 0.09380645, 0.57451404,\n",
       "         0.10450136, 0.04639757, 0.00440753, 0.62312365],\n",
       "        [0.09681529, 0.107289  , 0.11261498, 0.1083871 , 0.62473002,\n",
       "         0.16139264, 0.07353219, 0.00440753, 0.64315063],\n",
       "        [0.11974522, 0.11074169, 0.11826544, 0.10193548, 0.38930886,\n",
       "         0.11041054, 0.05061142, 0.00440753, 0.63428913],\n",
       "        [0.11401274, 0.10421995, 0.11642576, 0.09870968, 0.42440605,\n",
       "         0.06232298, 0.02824538, 0.00440753, 0.62985839]]])"
      ]
     },
     "execution_count": 23,
     "metadata": {},
     "output_type": "execute_result"
    }
   ],
   "source": [
    "input_data"
   ]
  },
  {
   "cell_type": "code",
   "execution_count": 24,
   "metadata": {},
   "outputs": [],
   "source": [
    "#making predictions\n",
    "def predict_next_n_days(model, data_scaled, n_days):\n",
    "    predictions=[]\n",
    "    input_sequence=data_scaled.copy()\n",
    "\n",
    "    for _ in range(n_days):\n",
    "        input_data = np.expand_dims(input_sequence, axis=0)  # Reshape for model input\n",
    "        next_day_features = model.predict(input_data, verbose=0)[0]  # Predict next day\n",
    "        predictions.append(next_day_features)\n",
    "        \n",
    "        # Update input sequence: Remove first day, add predicted day\n",
    "        next_day_input = np.append(input_sequence[1:], [next_day_features], axis=0)\n",
    "        input_sequence = next_day_input\n",
    "        \n",
    "    return np.array(predictions)"
   ]
  },
  {
   "cell_type": "code",
   "execution_count": 25,
   "metadata": {},
   "outputs": [],
   "source": [
    "# Example usage\n",
    "# last_100_days = scaler.transform(last_100_days_raw)  # Normalize input if needed\n",
    "predicted_features = predict_next_n_days(model, data_scaled=last_50_datas_scaled, n_days=400)"
   ]
  },
  {
   "cell_type": "code",
   "execution_count": 26,
   "metadata": {},
   "outputs": [
    {
     "data": {
      "text/plain": [
       "array([[0.18581171, 0.18633364, 0.19477737, ..., 0.0334989 , 0.00397667,\n",
       "        0.6121063 ],\n",
       "       [0.18708447, 0.18774167, 0.1961118 , ..., 0.03285195, 0.00408873,\n",
       "        0.61466366],\n",
       "       [0.1913766 , 0.19222042, 0.20050111, ..., 0.03253464, 0.00684705,\n",
       "        0.6146688 ],\n",
       "       ...,\n",
       "       [0.29563797, 0.30046225, 0.30676028, ..., 0.03988425, 0.06888524,\n",
       "        0.46623474],\n",
       "       [0.29563788, 0.30046213, 0.30676022, ..., 0.03988436, 0.06888643,\n",
       "        0.46623123],\n",
       "       [0.29563782, 0.300462  , 0.30676013, ..., 0.03988449, 0.06888747,\n",
       "        0.4662277 ]], dtype=float32)"
      ]
     },
     "execution_count": 26,
     "metadata": {},
     "output_type": "execute_result"
    }
   ],
   "source": [
    "predicted_features"
   ]
  },
  {
   "cell_type": "code",
   "execution_count": 27,
   "metadata": {},
   "outputs": [],
   "source": [
    "predicted_features_inverse = scaler.inverse_transform(predicted_features)"
   ]
  },
  {
   "cell_type": "code",
   "execution_count": 28,
   "metadata": {},
   "outputs": [
    {
     "data": {
      "text/plain": [
       "array([[4.4086221e+02, 4.4871292e+02, 4.3322559e+02, ..., 1.8790200e+07,\n",
       "        2.0145838e+00, 1.7866844e+02],\n",
       "       [4.4186130e+02, 4.4981396e+02, 4.3424109e+02, ..., 1.8427854e+07,\n",
       "        2.0211942e+00, 1.7937576e+02],\n",
       "       [4.4523062e+02, 4.5331635e+02, 4.3758133e+02, ..., 1.8250138e+07,\n",
       "        2.1839077e+00, 1.7937718e+02],\n",
       "       ...,\n",
       "       [5.2707581e+02, 5.3796149e+02, 5.1844458e+02, ..., 2.2366508e+07,\n",
       "        5.8435402e+00, 1.3832214e+02],\n",
       "       [5.2707574e+02, 5.3796136e+02, 5.1844452e+02, ..., 2.2366570e+07,\n",
       "        5.8436103e+00, 1.3832118e+02],\n",
       "       [5.2707568e+02, 5.3796130e+02, 5.1844446e+02, ..., 2.2366644e+07,\n",
       "        5.8436718e+00, 1.3832021e+02]], dtype=float32)"
      ]
     },
     "execution_count": 28,
     "metadata": {},
     "output_type": "execute_result"
    }
   ],
   "source": [
    "predicted_features_inverse"
   ]
  },
  {
   "cell_type": "code",
   "execution_count": 29,
   "metadata": {},
   "outputs": [
    {
     "data": {
      "text/plain": [
       "array([ 4.4086221e+02,  4.4871292e+02,  4.3322559e+02,  4.4749500e+02,\n",
       "       -5.5224895e-02,  3.3388734e+04,  1.8790200e+07,  2.0145838e+00,\n",
       "        1.7866844e+02], dtype=float32)"
      ]
     },
     "execution_count": 29,
     "metadata": {},
     "output_type": "execute_result"
    }
   ],
   "source": [
    "predicted_features_inverse[0]"
   ]
  },
  {
   "cell_type": "code",
   "execution_count": 30,
   "metadata": {},
   "outputs": [
    {
     "data": {
      "text/plain": [
       "447.495"
      ]
     },
     "execution_count": 30,
     "metadata": {},
     "output_type": "execute_result"
    }
   ],
   "source": [
    "predicted_features_inverse[0][3]"
   ]
  },
  {
   "cell_type": "code",
   "execution_count": 31,
   "metadata": {},
   "outputs": [],
   "source": [
    "x_future_close=predicted_features_inverse[:, 3]\n",
    "x_future_EPS=predicted_features_inverse[:,7]\n"
   ]
  },
  {
   "cell_type": "code",
   "execution_count": 32,
   "metadata": {},
   "outputs": [
    {
     "data": {
      "text/plain": [
       "array([447.495  , 448.53052, 451.87323, 457.74823, 465.25366, 473.22733,\n",
       "       480.77753, 487.46063, 493.125  , 497.83078, 501.73447, 504.98788,\n",
       "       507.72144, 510.06738, 512.09595, 513.8593 , 515.4031 , 516.76587,\n",
       "       517.9825 , 519.08527, 520.0871 , 520.9974 , 521.83496, 522.6105 ,\n",
       "       523.32764, 523.995  , 524.61584, 525.1865 , 525.7122 , 526.2125 ,\n",
       "       526.6779 , 527.1018 , 527.497  , 527.86346, 528.20166, 528.51263,\n",
       "       528.79816, 529.05994, 529.30005, 529.52026, 529.72217, 529.9072 ,\n",
       "       530.07684, 530.23224, 530.3747 , 530.50525, 530.6249 , 530.7345 ,\n",
       "       530.83514, 530.9274 , 531.0121 , 531.08984, 531.1612 , 531.22675,\n",
       "       531.2869 , 531.3422 , 531.393  , 531.4397 , 531.48254, 531.52185,\n",
       "       531.5579 , 531.59106, 531.6214 , 531.6492 , 531.6746 , 531.6979 ,\n",
       "       531.7191 , 531.73846, 531.75616, 531.77216, 531.7867 , 531.7998 ,\n",
       "       531.81165, 531.82227, 531.83185, 531.8404 , 531.84796, 531.85455,\n",
       "       531.8604 , 531.8654 , 531.86975, 531.8735 , 531.8765 , 531.87897,\n",
       "       531.881  , 531.8823 , 531.88336, 531.8839 , 531.88403, 531.88385,\n",
       "       531.88324, 531.8824 , 531.8812 , 531.8797 , 531.878  , 531.87604,\n",
       "       531.8739 , 531.87146, 531.86896, 531.86615, 531.86334, 531.8603 ,\n",
       "       531.85706, 531.8538 , 531.85034, 531.8468 , 531.8432 , 531.8395 ,\n",
       "       531.8357 , 531.83185, 531.82794, 531.824  , 531.81995, 531.81586,\n",
       "       531.81177, 531.8076 , 531.80347, 531.79926, 531.79504, 531.7908 ,\n",
       "       531.78656, 531.7823 , 531.778  , 531.77374, 531.7695 , 531.76526,\n",
       "       531.761  , 531.7568 , 531.7525 , 531.7482 , 531.7441 , 531.73987,\n",
       "       531.73566, 531.73157, 531.7274 , 531.7233 , 531.7192 , 531.71515,\n",
       "       531.7112 , 531.70715, 531.7032 , 531.69916, 531.69525, 531.6914 ,\n",
       "       531.68756, 531.6837 , 531.67993, 531.67615, 531.6724 , 531.6687 ,\n",
       "       531.6651 , 531.66144, 531.65784, 531.6543 , 531.65076, 531.64734,\n",
       "       531.64386, 531.64044, 531.6371 , 531.6337 , 531.63043, 531.62714,\n",
       "       531.62396, 531.6207 , 531.61755, 531.61444, 531.6113 , 531.6083 ,\n",
       "       531.6053 , 531.6023 , 531.59937, 531.59644, 531.59357, 531.5907 ,\n",
       "       531.5879 , 531.5851 , 531.58234, 531.5797 , 531.577  , 531.5744 ,\n",
       "       531.5718 , 531.56915, 531.5666 , 531.56415, 531.56165, 531.5592 ,\n",
       "       531.5568 , 531.55444, 531.55206, 531.54974, 531.5475 , 531.54517,\n",
       "       531.54297, 531.5408 , 531.53864, 531.53644, 531.5343 , 531.5322 ,\n",
       "       531.5302 , 531.5282 , 531.5261 , 531.5242 , 531.5222 , 531.52026,\n",
       "       531.51843, 531.51654, 531.5147 , 531.5128 , 531.5111 , 531.5093 ,\n",
       "       531.50757, 531.5058 , 531.50415, 531.50244, 531.5008 , 531.4992 ,\n",
       "       531.4976 , 531.496  , 531.49445, 531.49286, 531.4914 , 531.48987,\n",
       "       531.4884 , 531.487  , 531.48553, 531.48413, 531.4827 , 531.4813 ,\n",
       "       531.48   , 531.47864, 531.47736, 531.4761 , 531.4748 , 531.4735 ,\n",
       "       531.4723 , 531.47107, 531.46985, 531.4687 , 531.4675 , 531.4664 ,\n",
       "       531.4652 , 531.4641 , 531.463  , 531.4619 , 531.4608 , 531.4598 ,\n",
       "       531.45874, 531.45776, 531.4567 , 531.4557 , 531.4547 , 531.45374,\n",
       "       531.4528 , 531.45184, 531.4509 , 531.45   , 531.44916, 531.44824,\n",
       "       531.4473 , 531.44653, 531.4457 , 531.4448 , 531.44403, 531.4432 ,\n",
       "       531.4424 , 531.4416 , 531.44086, 531.44006, 531.43933, 531.43854,\n",
       "       531.4378 , 531.43713, 531.4364 , 531.4357 , 531.435  , 531.4344 ,\n",
       "       531.43365, 531.43304, 531.4324 , 531.4317 , 531.43115, 531.4305 ,\n",
       "       531.4299 , 531.42926, 531.42865, 531.4281 , 531.42755, 531.42694,\n",
       "       531.4264 , 531.42584, 531.4253 , 531.42474, 531.42426, 531.4237 ,\n",
       "       531.4232 , 531.4227 , 531.42224, 531.42175, 531.42126, 531.4208 ,\n",
       "       531.4203 , 531.41986, 531.4194 , 531.419  , 531.4185 , 531.4181 ,\n",
       "       531.41766, 531.4173 , 531.4169 , 531.41644, 531.416  , 531.4156 ,\n",
       "       531.4152 , 531.41486, 531.4145 , 531.4141 , 531.41376, 531.4134 ,\n",
       "       531.413  , 531.41266, 531.41235, 531.412  , 531.4117 , 531.4114 ,\n",
       "       531.411  , 531.41064, 531.4104 , 531.41003, 531.4097 , 531.4095 ,\n",
       "       531.4091 , 531.4089 , 531.40857, 531.4083 , 531.40796, 531.4078 ,\n",
       "       531.4075 , 531.4072 , 531.4069 , 531.4067 , 531.40643, 531.4062 ,\n",
       "       531.40594, 531.4057 , 531.4055 , 531.4052 , 531.40497, 531.4047 ,\n",
       "       531.40454, 531.40436, 531.4041 , 531.4039 , 531.4037 , 531.40344,\n",
       "       531.4032 , 531.403  , 531.40283, 531.40265, 531.40247, 531.4023 ,\n",
       "       531.4021 , 531.4019 , 531.4017 , 531.4015 , 531.40137, 531.4012 ,\n",
       "       531.401  , 531.4008 , 531.4007 , 531.4005 , 531.4004 , 531.4002 ,\n",
       "       531.4    , 531.3999 , 531.3997 , 531.3996 , 531.3994 , 531.3993 ,\n",
       "       531.3992 , 531.39905, 531.39886, 531.39874, 531.3986 , 531.39844,\n",
       "       531.3984 , 531.39825, 531.3981 , 531.39795, 531.3979 , 531.3977 ,\n",
       "       531.3976 , 531.39746, 531.39734, 531.3973 , 531.39716, 531.39703,\n",
       "       531.397  , 531.3968 , 531.3967 , 531.3966 ], dtype=float32)"
      ]
     },
     "execution_count": 32,
     "metadata": {},
     "output_type": "execute_result"
    }
   ],
   "source": [
    "x_future_close"
   ]
  },
  {
   "cell_type": "code",
   "execution_count": 33,
   "metadata": {},
   "outputs": [
    {
     "data": {
      "text/plain": [
       "(400,)"
      ]
     },
     "execution_count": 33,
     "metadata": {},
     "output_type": "execute_result"
    }
   ],
   "source": [
    "x_future_close.shape"
   ]
  },
  {
   "cell_type": "code",
   "execution_count": 34,
   "metadata": {},
   "outputs": [
    {
     "data": {
      "text/plain": [
       "<matplotlib.legend.Legend at 0x7fc8bef6a820>"
      ]
     },
     "execution_count": 34,
     "metadata": {},
     "output_type": "execute_result"
    },
    {
     "data": {
      "image/png": "[encoded data removed]",
      "text/plain": [
       "<Figure size 1400x700 with 1 Axes>"
      ]
     },
     "metadata": {},
     "output_type": "display_data"
    }
   ],
   "source": [
    "# Plot actual vs predicted values for Close and PE Ratio\n",
    "plt.figure(figsize=(14, 7))\n",
    "\n",
    "# Plot Close\n",
    "plt.subplot(2, 1, 1)\n",
    "plt.plot(x_future_close, label=\"Actual Close\", color=\"blue\")\n",
    "# plt.plot(y_pred_close, label=\"Predicted Close\", color=\"red\")\n",
    "plt.xlabel(\"Days\")\n",
    "plt.ylabel(\"Close Price\")\n",
    "plt.title(\"Actual vs Predicted Close Price\")\n",
    "plt.savefig('future_predict')\n",
    "plt.legend()\n"
   ]
  },
  {
   "cell_type": "code",
   "execution_count": 35,
   "metadata": {},
   "outputs": [],
   "source": [
    "predicted_data=predicted_features_inverse"
   ]
  },
  {
   "cell_type": "code",
   "execution_count": 36,
   "metadata": {},
   "outputs": [
    {
     "data": {
      "text/plain": [
       "(400, 9)"
      ]
     },
     "execution_count": 36,
     "metadata": {},
     "output_type": "execute_result"
    }
   ],
   "source": [
    "predicted_features_inverse.shape"
   ]
  },
  {
   "cell_type": "code",
   "execution_count": 37,
   "metadata": {},
   "outputs": [
    {
     "data": {
      "text/plain": [
       "<matplotlib.legend.Legend at 0x7fc8beee5b80>"
      ]
     },
     "execution_count": 37,
     "metadata": {},
     "output_type": "execute_result"
    },
    {
     "data": {
      "image/png": "[encoded data removed]",
      "text/plain": [
       "<Figure size 640x480 with 1 Axes>"
      ]
     },
     "metadata": {},
     "output_type": "display_data"
    }
   ],
   "source": [
    "# Plot PE Ratio\n",
    "plt.subplot(2, 1, 2)\n",
    "plt.plot(x_future_EPS, label=\"Future EPS\", color=\"green\")\n",
    "# plt.plot(y_pred_EPS, label=\"Predicted EPS Ratio\",  color=\"red\")\n",
    "plt.xlabel(\"Days\")\n",
    "plt.ylabel(\"EPS\")\n",
    "plt.title(\" Future  EPS \")\n",
    "plt.legend()"
   ]
  },
  {
   "cell_type": "code",
   "execution_count": 38,
   "metadata": {},
   "outputs": [],
   "source": [
    "# predicted_data.t\n",
    "df=pd.DataFrame(predicted_data)\n",
    "df.to_csv(\"prediction.csv\", index=False)"
   ]
  },
  {
   "cell_type": "code",
   "execution_count": null,
   "metadata": {},
   "outputs": [],
   "source": []
  }
 ],
 "metadata": {
  "kernelspec": {
   "display_name": "tfEnv",
   "language": "python",
   "name": "python3"
  },
  "language_info": {
   "codemirror_mode": {
    "name": "ipython",
    "version": 3
   },
   "file_extension": ".py",
   "mimetype": "text/x-python",
   "name": "python",
   "nbconvert_exporter": "python",
   "pygments_lexer": "ipython3",
   "version": "3.8.18"
  }
 },
 "nbformat": 4,
 "nbformat_minor": 2
}

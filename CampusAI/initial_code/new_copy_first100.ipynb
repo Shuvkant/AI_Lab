{
 "cells": [
  {
   "cell_type": "code",
   "execution_count": 1,
   "metadata": {},
   "outputs": [
    {
     "name": "stderr",
     "output_type": "stream",
     "text": [
      "2025-02-28 12:13:30.523688: I tensorflow/core/platform/cpu_feature_guard.cc:193] This TensorFlow binary is optimized with oneAPI Deep Neural Network Library (oneDNN) to use the following CPU instructions in performance-critical operations:  SSE4.1 SSE4.2\n",
      "To enable them in other operations, rebuild TensorFlow with the appropriate compiler flags.\n"
     ]
    }
   ],
   "source": [
    "import numpy as np\n",
    "import pandas as pd\n",
    "import matplotlib.pyplot as plt\n",
    "import yfinance as yf\n",
    "from sklearn.preprocessing import MinMaxScaler\n",
    "from sklearn.metrics import mean_absolute_error, r2_score\n",
    "from keras.models import Sequential\n",
    "from keras.layers import LSTM, Dense, Dropout\n"
   ]
  },
  {
   "cell_type": "code",
   "execution_count": 2,
   "metadata": {},
   "outputs": [],
   "source": [
    "stock=\"sorted_stock_data_cleaned_nica.csv\""
   ]
  },
  {
   "cell_type": "code",
   "execution_count": 3,
   "metadata": {},
   "outputs": [],
   "source": [
    "data=pd.read_csv(stock)"
   ]
  },
  {
   "cell_type": "code",
   "execution_count": 4,
   "metadata": {},
   "outputs": [
    {
     "data": {
      "text/html": [
       "<div>\n",
       "<style scoped>\n",
       "    .dataframe tbody tr th:only-of-type {\n",
       "        vertical-align: middle;\n",
       "    }\n",
       "\n",
       "    .dataframe tbody tr th {\n",
       "        vertical-align: top;\n",
       "    }\n",
       "\n",
       "    .dataframe thead th {\n",
       "        text-align: right;\n",
       "    }\n",
       "</style>\n",
       "<table border=\"1\" class=\"dataframe\">\n",
       "  <thead>\n",
       "    <tr style=\"text-align: right;\">\n",
       "      <th></th>\n",
       "      <th>S.N</th>\n",
       "      <th>Date</th>\n",
       "      <th>Open</th>\n",
       "      <th>High</th>\n",
       "      <th>Low</th>\n",
       "      <th>Close</th>\n",
       "      <th>per_change</th>\n",
       "      <th>Qty</th>\n",
       "      <th>Turnover</th>\n",
       "      <th>EPS</th>\n",
       "      <th>PE</th>\n",
       "    </tr>\n",
       "  </thead>\n",
       "  <tbody>\n",
       "    <tr>\n",
       "      <th>0</th>\n",
       "      <td>1920.0</td>\n",
       "      <td>2016-10-16</td>\n",
       "      <td>678.0</td>\n",
       "      <td>666.0</td>\n",
       "      <td>658.0</td>\n",
       "      <td>660.0</td>\n",
       "      <td>0.00</td>\n",
       "      <td>3547.0</td>\n",
       "      <td>2347771.0</td>\n",
       "      <td>17.94</td>\n",
       "      <td>36.789298</td>\n",
       "    </tr>\n",
       "    <tr>\n",
       "      <th>1</th>\n",
       "      <td>1919.0</td>\n",
       "      <td>2016-10-17</td>\n",
       "      <td>660.0</td>\n",
       "      <td>660.0</td>\n",
       "      <td>647.0</td>\n",
       "      <td>651.0</td>\n",
       "      <td>0.00</td>\n",
       "      <td>5758.0</td>\n",
       "      <td>3758521.0</td>\n",
       "      <td>17.94</td>\n",
       "      <td>36.287625</td>\n",
       "    </tr>\n",
       "    <tr>\n",
       "      <th>2</th>\n",
       "      <td>1918.0</td>\n",
       "      <td>2016-10-18</td>\n",
       "      <td>651.0</td>\n",
       "      <td>655.0</td>\n",
       "      <td>644.0</td>\n",
       "      <td>646.0</td>\n",
       "      <td>0.00</td>\n",
       "      <td>6085.0</td>\n",
       "      <td>3939778.0</td>\n",
       "      <td>17.94</td>\n",
       "      <td>36.008919</td>\n",
       "    </tr>\n",
       "    <tr>\n",
       "      <th>3</th>\n",
       "      <td>1917.0</td>\n",
       "      <td>2016-10-19</td>\n",
       "      <td>646.0</td>\n",
       "      <td>651.0</td>\n",
       "      <td>642.0</td>\n",
       "      <td>648.0</td>\n",
       "      <td>0.00</td>\n",
       "      <td>6977.0</td>\n",
       "      <td>4505359.0</td>\n",
       "      <td>17.94</td>\n",
       "      <td>36.120401</td>\n",
       "    </tr>\n",
       "    <tr>\n",
       "      <th>4</th>\n",
       "      <td>1916.0</td>\n",
       "      <td>2016-10-20</td>\n",
       "      <td>648.0</td>\n",
       "      <td>651.0</td>\n",
       "      <td>643.0</td>\n",
       "      <td>648.0</td>\n",
       "      <td>0.00</td>\n",
       "      <td>3303.0</td>\n",
       "      <td>2133809.0</td>\n",
       "      <td>17.94</td>\n",
       "      <td>36.120401</td>\n",
       "    </tr>\n",
       "    <tr>\n",
       "      <th>...</th>\n",
       "      <td>...</td>\n",
       "      <td>...</td>\n",
       "      <td>...</td>\n",
       "      <td>...</td>\n",
       "      <td>...</td>\n",
       "      <td>...</td>\n",
       "      <td>...</td>\n",
       "      <td>...</td>\n",
       "      <td>...</td>\n",
       "      <td>...</td>\n",
       "      <td>...</td>\n",
       "    </tr>\n",
       "    <tr>\n",
       "      <th>1915</th>\n",
       "      <td>5.0</td>\n",
       "      <td>2025-02-13</td>\n",
       "      <td>360.0</td>\n",
       "      <td>366.0</td>\n",
       "      <td>360.0</td>\n",
       "      <td>363.0</td>\n",
       "      <td>-0.03</td>\n",
       "      <td>47627.0</td>\n",
       "      <td>17318839.0</td>\n",
       "      <td>2.04</td>\n",
       "      <td>177.941176</td>\n",
       "    </tr>\n",
       "    <tr>\n",
       "      <th>1916</th>\n",
       "      <td>4.0</td>\n",
       "      <td>2025-02-16</td>\n",
       "      <td>367.0</td>\n",
       "      <td>370.9</td>\n",
       "      <td>365.0</td>\n",
       "      <td>370.7</td>\n",
       "      <td>2.12</td>\n",
       "      <td>70533.0</td>\n",
       "      <td>26014490.4</td>\n",
       "      <td>2.04</td>\n",
       "      <td>181.715686</td>\n",
       "    </tr>\n",
       "    <tr>\n",
       "      <th>1917</th>\n",
       "      <td>3.0</td>\n",
       "      <td>2025-02-17</td>\n",
       "      <td>371.0</td>\n",
       "      <td>386.9</td>\n",
       "      <td>370.7</td>\n",
       "      <td>382.0</td>\n",
       "      <td>3.05</td>\n",
       "      <td>108899.0</td>\n",
       "      <td>41212054.5</td>\n",
       "      <td>2.04</td>\n",
       "      <td>187.254902</td>\n",
       "    </tr>\n",
       "    <tr>\n",
       "      <th>1918</th>\n",
       "      <td>2.0</td>\n",
       "      <td>2025-02-18</td>\n",
       "      <td>389.0</td>\n",
       "      <td>389.6</td>\n",
       "      <td>375.0</td>\n",
       "      <td>377.0</td>\n",
       "      <td>-1.31</td>\n",
       "      <td>74518.0</td>\n",
       "      <td>28374584.9</td>\n",
       "      <td>2.04</td>\n",
       "      <td>184.803922</td>\n",
       "    </tr>\n",
       "    <tr>\n",
       "      <th>1919</th>\n",
       "      <td>1.0</td>\n",
       "      <td>2025-02-20</td>\n",
       "      <td>384.5</td>\n",
       "      <td>384.5</td>\n",
       "      <td>373.6</td>\n",
       "      <td>374.5</td>\n",
       "      <td>-0.66</td>\n",
       "      <td>42089.0</td>\n",
       "      <td>15847811.6</td>\n",
       "      <td>2.04</td>\n",
       "      <td>183.578431</td>\n",
       "    </tr>\n",
       "  </tbody>\n",
       "</table>\n",
       "<p>1920 rows × 11 columns</p>\n",
       "</div>"
      ],
      "text/plain": [
       "         S.N        Date   Open   High    Low  Close  per_change       Qty  \\\n",
       "0     1920.0  2016-10-16  678.0  666.0  658.0  660.0        0.00    3547.0   \n",
       "1     1919.0  2016-10-17  660.0  660.0  647.0  651.0        0.00    5758.0   \n",
       "2     1918.0  2016-10-18  651.0  655.0  644.0  646.0        0.00    6085.0   \n",
       "3     1917.0  2016-10-19  646.0  651.0  642.0  648.0        0.00    6977.0   \n",
       "4     1916.0  2016-10-20  648.0  651.0  643.0  648.0        0.00    3303.0   \n",
       "...      ...         ...    ...    ...    ...    ...         ...       ...   \n",
       "1915     5.0  2025-02-13  360.0  366.0  360.0  363.0       -0.03   47627.0   \n",
       "1916     4.0  2025-02-16  367.0  370.9  365.0  370.7        2.12   70533.0   \n",
       "1917     3.0  2025-02-17  371.0  386.9  370.7  382.0        3.05  108899.0   \n",
       "1918     2.0  2025-02-18  389.0  389.6  375.0  377.0       -1.31   74518.0   \n",
       "1919     1.0  2025-02-20  384.5  384.5  373.6  374.5       -0.66   42089.0   \n",
       "\n",
       "        Turnover    EPS          PE  \n",
       "0      2347771.0  17.94   36.789298  \n",
       "1      3758521.0  17.94   36.287625  \n",
       "2      3939778.0  17.94   36.008919  \n",
       "3      4505359.0  17.94   36.120401  \n",
       "4      2133809.0  17.94   36.120401  \n",
       "...          ...    ...         ...  \n",
       "1915  17318839.0   2.04  177.941176  \n",
       "1916  26014490.4   2.04  181.715686  \n",
       "1917  41212054.5   2.04  187.254902  \n",
       "1918  28374584.9   2.04  184.803922  \n",
       "1919  15847811.6   2.04  183.578431  \n",
       "\n",
       "[1920 rows x 11 columns]"
      ]
     },
     "execution_count": 4,
     "metadata": {},
     "output_type": "execute_result"
    }
   ],
   "source": [
    "data"
   ]
  },
  {
   "cell_type": "code",
   "execution_count": 5,
   "metadata": {},
   "outputs": [],
   "source": [
    "data_all=data['Close']"
   ]
  },
  {
   "cell_type": "code",
   "execution_count": 6,
   "metadata": {},
   "outputs": [
    {
     "data": {
      "text/plain": [
       "0       660.0\n",
       "1       651.0\n",
       "2       646.0\n",
       "3       648.0\n",
       "4       648.0\n",
       "        ...  \n",
       "1915    363.0\n",
       "1916    370.7\n",
       "1917    382.0\n",
       "1918    377.0\n",
       "1919    374.5\n",
       "Name: Close, Length: 1920, dtype: float64"
      ]
     },
     "execution_count": 6,
     "metadata": {},
     "output_type": "execute_result"
    }
   ],
   "source": [
    "data_all"
   ]
  },
  {
   "cell_type": "code",
   "execution_count": 7,
   "metadata": {},
   "outputs": [],
   "source": [
    "data_test=data_all.head(400)"
   ]
  },
  {
   "cell_type": "code",
   "execution_count": 8,
   "metadata": {},
   "outputs": [
    {
     "data": {
      "text/plain": [
       "0      660.0\n",
       "1      651.0\n",
       "2      646.0\n",
       "3      648.0\n",
       "4      648.0\n",
       "       ...  \n",
       "395    306.0\n",
       "396    311.0\n",
       "397    315.0\n",
       "398    320.0\n",
       "399    319.0\n",
       "Name: Close, Length: 400, dtype: float64"
      ]
     },
     "execution_count": 8,
     "metadata": {},
     "output_type": "execute_result"
    }
   ],
   "source": [
    "data_test"
   ]
  },
  {
   "cell_type": "code",
   "execution_count": 9,
   "metadata": {},
   "outputs": [],
   "source": [
    "# import pandas as pd\n",
    "\n",
    "# # Read CSV file\n",
    "# df = pd.read_csv(\"NICA_Final_EPS_PE.csv\")\n",
    "\n",
    "\n"
   ]
  },
  {
   "cell_type": "code",
   "execution_count": 10,
   "metadata": {},
   "outputs": [],
   "source": [
    "# Scaling Data\n",
    "scaler = MinMaxScaler(feature_range=(0,1))\n",
    "# data_train_scaled = scaler.fit_transform(np.array(data_train).reshape(-1,1))\n",
    "data_test_scaled = scaler.fit_transform(np.array(data_test).reshape(-1,1))"
   ]
  },
  {
   "cell_type": "code",
   "execution_count": 11,
   "metadata": {},
   "outputs": [
    {
     "data": {
      "text/plain": [
       "(400, 1)"
      ]
     },
     "execution_count": 11,
     "metadata": {},
     "output_type": "execute_result"
    }
   ],
   "source": [
    "data_test_scaled.shape"
   ]
  },
  {
   "cell_type": "code",
   "execution_count": 12,
   "metadata": {},
   "outputs": [],
   "source": [
    "x_test, y_test = [], []\n",
    "for i in range(100, len(data_test_scaled)):\n",
    "    x_test.append(data_test_scaled[i-100:i])\n",
    "    y_test.append(data_test_scaled[i, 0])\n",
    "x_test, y_test = np.array(x_test), np.array(y_test)"
   ]
  },
  {
   "cell_type": "code",
   "execution_count": 13,
   "metadata": {},
   "outputs": [
    {
     "data": {
      "text/plain": [
       "(array([[[1.        ],\n",
       "         [0.97513812],\n",
       "         [0.96132597],\n",
       "         ...,\n",
       "         [0.38950276],\n",
       "         [0.39226519],\n",
       "         [0.41712707]],\n",
       " \n",
       "        [[0.97513812],\n",
       "         [0.96132597],\n",
       "         [0.96685083],\n",
       "         ...,\n",
       "         [0.39226519],\n",
       "         [0.41712707],\n",
       "         [0.3480663 ]],\n",
       " \n",
       "        [[0.96132597],\n",
       "         [0.96685083],\n",
       "         [0.96685083],\n",
       "         ...,\n",
       "         [0.41712707],\n",
       "         [0.3480663 ],\n",
       "         [0.37016575]],\n",
       " \n",
       "        ...,\n",
       " \n",
       "        [[0.13535912],\n",
       "         [0.13812155],\n",
       "         [0.13812155],\n",
       "         ...,\n",
       "         [0.0359116 ],\n",
       "         [0.02209945],\n",
       "         [0.0359116 ]],\n",
       " \n",
       "        [[0.13812155],\n",
       "         [0.13812155],\n",
       "         [0.13259669],\n",
       "         ...,\n",
       "         [0.02209945],\n",
       "         [0.0359116 ],\n",
       "         [0.04696133]],\n",
       " \n",
       "        [[0.13812155],\n",
       "         [0.13259669],\n",
       "         [0.11878453],\n",
       "         ...,\n",
       "         [0.0359116 ],\n",
       "         [0.04696133],\n",
       "         [0.06077348]]]),\n",
       " array([0.3480663 , 0.37016575, 0.38121547, 0.37016575, 0.4198895 ,\n",
       "        0.49447514, 0.47790055, 0.44751381, 0.53314917, 0.53038674,\n",
       "        0.51657459, 0.51381215, 0.50276243, 0.50828729, 0.59944751,\n",
       "        0.5801105 , 0.56906077, 0.50828729, 0.47237569, 0.56353591,\n",
       "        0.5441989 , 0.58287293, 0.5441989 , 0.5359116 , 0.52762431,\n",
       "        0.51104972, 0.47513812, 0.47513812, 0.48895028, 0.47790055,\n",
       "        0.4558011 , 0.46132597, 0.4640884 , 0.47513812, 0.48066298,\n",
       "        0.46132597, 0.45856354, 0.46132597, 0.44751381, 0.4281768 ,\n",
       "        0.45303867, 0.45027624, 0.43370166, 0.42265193, 0.43370166,\n",
       "        0.4198895 , 0.41160221, 0.43370166, 0.46132597, 0.4281768 ,\n",
       "        0.4198895 , 0.38674033, 0.37845304, 0.39226519, 0.39226519,\n",
       "        0.40607735, 0.38674033, 0.38121547, 0.38121547, 0.36740331,\n",
       "        0.37016575, 0.38950276, 0.39779006, 0.38121547, 0.35635359,\n",
       "        0.36464088, 0.36740331, 0.37845304, 0.39502762, 0.40607735,\n",
       "        0.40607735, 0.40883978, 0.4198895 , 0.40607735, 0.39779006,\n",
       "        0.43370166, 0.48618785, 0.47513812, 0.48066298, 0.4640884 ,\n",
       "        0.44751381, 0.4558011 , 0.44475138, 0.44198895, 0.44198895,\n",
       "        0.45027624, 0.45303867, 0.4558011 , 0.47237569, 0.46961326,\n",
       "        0.46961326, 0.46132597, 0.45303867, 0.46685083, 0.4558011 ,\n",
       "        0.45303867, 0.45303867, 0.43646409, 0.43922652, 0.43922652,\n",
       "        0.43370166, 0.44198895, 0.47513812, 0.46132597, 0.42265193,\n",
       "        0.39502762, 0.13259669, 0.14088398, 0.12983425, 0.1160221 ,\n",
       "        0.13259669, 0.12154696, 0.1160221 , 0.13259669, 0.1519337 ,\n",
       "        0.1519337 , 0.13812155, 0.14364641, 0.16022099, 0.16298343,\n",
       "        0.18508287, 0.14364641, 0.13812155, 0.14364641, 0.13259669,\n",
       "        0.14640884, 0.15469613, 0.15745856, 0.20441989, 0.21270718,\n",
       "        0.22099448, 0.1961326 , 0.1878453 , 0.17679558, 0.17955801,\n",
       "        0.16574586, 0.17955801, 0.17955801, 0.16298343, 0.1519337 ,\n",
       "        0.17127072, 0.15469613, 0.13535912, 0.1160221 , 0.1160221 ,\n",
       "        0.14640884, 0.1519337 , 0.16022099, 0.16850829, 0.14640884,\n",
       "        0.14364641, 0.12983425, 0.14364641, 0.14640884, 0.17127072,\n",
       "        0.18508287, 0.17679558, 0.17127072, 0.19060773, 0.19889503,\n",
       "        0.17403315, 0.17955801, 0.17679558, 0.16298343, 0.16298343,\n",
       "        0.16574586, 0.16850829, 0.18508287, 0.15745856, 0.17127072,\n",
       "        0.17127072, 0.14917127, 0.14088398, 0.14088398, 0.12430939,\n",
       "        0.11325967, 0.11325967, 0.10773481, 0.12707182, 0.12154696,\n",
       "        0.10497238, 0.11049724, 0.12983425, 0.13812155, 0.14364641,\n",
       "        0.13259669, 0.12983425, 0.13535912, 0.12430939, 0.12430939,\n",
       "        0.12983425, 0.11878453, 0.12707182, 0.14640884, 0.13259669,\n",
       "        0.13812155, 0.12707182, 0.13535912, 0.13812155, 0.13812155,\n",
       "        0.13259669, 0.11878453, 0.12154696, 0.13535912, 0.14088398,\n",
       "        0.13812155, 0.16298343, 0.17127072, 0.15469613, 0.13535912,\n",
       "        0.13812155, 0.13535912, 0.12430939, 0.12983425, 0.12154696,\n",
       "        0.09944751, 0.09944751, 0.11325967, 0.1160221 , 0.0801105 ,\n",
       "        0.0801105 , 0.07734807, 0.07458564, 0.07734807, 0.0718232 ,\n",
       "        0.05801105, 0.04972376, 0.03038674, 0.01657459, 0.        ,\n",
       "        0.02762431, 0.02486188, 0.04696133, 0.02762431, 0.02762431,\n",
       "        0.02762431, 0.03314917, 0.05524862, 0.08839779, 0.08287293,\n",
       "        0.06629834, 0.06906077, 0.06906077, 0.05524862, 0.0718232 ,\n",
       "        0.08839779, 0.11049724, 0.13259669, 0.16022099, 0.14364641,\n",
       "        0.12430939, 0.1160221 , 0.10497238, 0.09944751, 0.11049724,\n",
       "        0.11878453, 0.10773481, 0.10773481, 0.11325967, 0.12154696,\n",
       "        0.11049724, 0.11325967, 0.1160221 , 0.1160221 , 0.1160221 ,\n",
       "        0.1160221 , 0.1160221 , 0.11049724, 0.10497238, 0.09944751,\n",
       "        0.08563536, 0.09668508, 0.11049724, 0.11049724, 0.10773481,\n",
       "        0.08287293, 0.07734807, 0.09944751, 0.0801105 , 0.06353591,\n",
       "        0.06629834, 0.07458564, 0.0718232 , 0.0801105 , 0.06077348,\n",
       "        0.05524862, 0.05524862, 0.05524862, 0.04696133, 0.04972376,\n",
       "        0.04143646, 0.03314917, 0.03867403, 0.0441989 , 0.0359116 ,\n",
       "        0.02209945, 0.0359116 , 0.04696133, 0.06077348, 0.05801105]))"
      ]
     },
     "execution_count": 13,
     "metadata": {},
     "output_type": "execute_result"
    }
   ],
   "source": [
    "x_test, y_test"
   ]
  },
  {
   "cell_type": "code",
   "execution_count": 14,
   "metadata": {},
   "outputs": [
    {
     "name": "stdout",
     "output_type": "stream",
     "text": [
      "Shape of train=(300, 100, 1)\n",
      "Shape of data_test=(300,)\n"
     ]
    }
   ],
   "source": [
    "print(f\"Shape of train={x_test.shape}\\nShape of data_test={y_test.shape}\")"
   ]
  },
  {
   "cell_type": "code",
   "execution_count": 15,
   "metadata": {},
   "outputs": [],
   "source": [
    "from tensorflow.keras.models import load_model\n",
    "\n",
    "# Load the saved Keras model\n",
    "model = load_model('stock_model.keras')\n",
    "\n",
    "# Now you can use the model to make predictions, evaluate, etc.\n"
   ]
  },
  {
   "cell_type": "code",
   "execution_count": 16,
   "metadata": {},
   "outputs": [
    {
     "name": "stdout",
     "output_type": "stream",
     "text": [
      "10/10 [==============================] - 1s 41ms/step\n"
     ]
    }
   ],
   "source": [
    "# Make Predictions\n",
    "y_pred_scaled = model.predict(x_test)\n",
    "y_pred = scaler.inverse_transform(y_pred_scaled)\n",
    "y_test_actual = scaler.inverse_transform(y_test.reshape(-1,1))"
   ]
  },
  {
   "cell_type": "code",
   "execution_count": 17,
   "metadata": {},
   "outputs": [
    {
     "name": "stdout",
     "output_type": "stream",
     "text": [
      "MAE: 8.819147338867186\n",
      "R² Score: 0.9370052054709131\n"
     ]
    }
   ],
   "source": [
    "# Performance Metrics\n",
    "print(\"MAE:\", mean_absolute_error(y_test_actual, y_pred))\n",
    "print(\"R² Score:\", r2_score(y_test_actual, y_pred))"
   ]
  },
  {
   "cell_type": "code",
   "execution_count": 18,
   "metadata": {},
   "outputs": [
    {
     "data": {
      "image/png": "[encoded data removed]",
      "text/plain": [
       "<Figure size 1000x600 with 1 Axes>"
      ]
     },
     "metadata": {},
     "output_type": "display_data"
    }
   ],
   "source": [
    "# import matplotlib.pyplot as plt\n",
    "\n",
    "# Visualization\n",
    "plt.figure(figsize=(10, 6))\n",
    "plt.plot(y_test_actual, label='Actual Price')\n",
    "plt.plot(y_pred, label='Predicted Price')\n",
    "plt.legend()\n",
    "plt.title(f'{stock} Price Prediction')\n",
    "plt.grid(True, linestyle='--', alpha=0.7)  # Dashed grid lines with transparency\n",
    "plt.savefig(f\"{stock}.png\")\n",
    "plt.show()\n"
   ]
  },
  {
   "cell_type": "code",
   "execution_count": 19,
   "metadata": {},
   "outputs": [],
   "source": [
    "# For the reversing of the data\n",
    "# import pandas as pd\n",
    "\n",
    "# # Load the CSV file\n",
    "# df = pd.read_csv(\"cleaned_file.csv\")\n",
    "\n",
    "# # Reverse the order of rows\n",
    "# df = df[::-1].reset_index(drop=True)\n",
    "\n",
    "# # Save the modified CSV\n",
    "# df.to_csv(\"sorted_stock_data_cleaned_nica.csv\", index=False)\n"
   ]
  },
  {
   "cell_type": "code",
   "execution_count": null,
   "metadata": {},
   "outputs": [],
   "source": []
  }
 ],
 "metadata": {
  "kernelspec": {
   "display_name": "tfEnv",
   "language": "python",
   "name": "python3"
  },
  "language_info": {
   "codemirror_mode": {
    "name": "ipython",
    "version": 3
   },
   "file_extension": ".py",
   "mimetype": "text/x-python",
   "name": "python",
   "nbconvert_exporter": "python",
   "pygments_lexer": "ipython3",
   "version": "3.8.18"
  }
 },
 "nbformat": 4,
 "nbformat_minor": 2
}

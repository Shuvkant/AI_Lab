{
 "cells": [
  {
   "cell_type": "code",
   "execution_count": 1,
   "metadata": {},
   "outputs": [
    {
     "name": "stderr",
     "output_type": "stream",
     "text": [
      "2025-03-01 03:03:34.035227: I tensorflow/core/platform/cpu_feature_guard.cc:193] This TensorFlow binary is optimized with oneAPI Deep Neural Network Library (oneDNN) to use the following CPU instructions in performance-critical operations:  SSE4.1 SSE4.2\n",
      "To enable them in other operations, rebuild TensorFlow with the appropriate compiler flags.\n"
     ]
    }
   ],
   "source": [
    "import numpy as np\n",
    "import pandas as pd\n",
    "import matplotlib.pyplot as plt\n",
    "from sklearn.preprocessing import MinMaxScaler\n",
    "from tensorflow.keras.models import Sequential\n",
    "from tensorflow.keras.layers import LSTM, Dense, Dropout, Bidirectional\n",
    "from tensorflow.keras.callbacks import EarlyStopping, ReduceLROnPlateau"
   ]
  },
  {
   "cell_type": "code",
   "execution_count": 5,
   "metadata": {},
   "outputs": [
    {
     "name": "stdout",
     "output_type": "stream",
     "text": [
      "    Open   High    Low    Ltp  per_change      Qty    Turnover\n",
      "0  867.0  874.0  860.0  868.9        0.22  16920.0  14698672.3\n",
      "1  875.9  900.0  869.0  870.0        0.13  19150.0  16772332.6\n",
      "2  870.0  876.0  860.1  867.9       -0.24  23071.0  20013153.3\n",
      "3  882.0  882.0  864.6  875.0        0.82  24999.0  21740095.0\n",
      "4  875.0  910.0  873.9  878.0        0.34  22068.0  19437362.3\n"
     ]
    }
   ],
   "source": [
    "# Load your data\n",
    "df = pd.read_csv('sorted_ntc.csv')  # Replace with your file\n",
    "print(df.head())\n"
   ]
  },
  {
   "cell_type": "code",
   "execution_count": 6,
   "metadata": {},
   "outputs": [],
   "source": [
    "# Ensure all 6 columns are present (adjust if needed)\n",
    "feature_columns = ['Open', 'High', 'Low', 'Ltp', 'per_change', 'Qty']  # Your 8 features\n",
    "data = df[feature_columns].values"
   ]
  },
  {
   "cell_type": "code",
   "execution_count": 7,
   "metadata": {},
   "outputs": [],
   "source": [
    "# Scale all 8 features between 0 and 1\n",
    "scaler = MinMaxScaler(feature_range=(0, 1))\n",
    "scaled_data = scaler.fit_transform(data)"
   ]
  },
  {
   "cell_type": "code",
   "execution_count": 8,
   "metadata": {},
   "outputs": [],
   "source": [
    "# Sequence creation function\n",
    "def create_sequences_multivariate(data, n_steps):\n",
    "    X, y = [], []\n",
    "    for i in range(len(data) - n_steps):\n",
    "        X.append(data[i:i+n_steps])   # n_steps timesteps, each with 8 features\n",
    "        y.append(data[i+n_steps])      # Predict all 8 features at next step\n",
    "    return np.array(X), np.array(y)"
   ]
  },
  {
   "cell_type": "code",
   "execution_count": 9,
   "metadata": {},
   "outputs": [],
   "source": [
    "# Parameters\n",
    "n_steps = 60  # Past 60 days used for prediction\n"
   ]
  },
  {
   "cell_type": "code",
   "execution_count": 11,
   "metadata": {},
   "outputs": [],
   "source": [
    "# Create sequences\n",
    "X, y = create_sequences_multivariate(scaled_data, n_steps)"
   ]
  },
  {
   "cell_type": "code",
   "execution_count": 12,
   "metadata": {},
   "outputs": [],
   "source": [
    "# Train-test split\n",
    "split = int(len(X) * 0.9)\n",
    "X_train, X_test = X[:split], X[split:]\n",
    "y_train, y_test = y[:split], y[split:]"
   ]
  },
  {
   "cell_type": "code",
   "execution_count": null,
   "metadata": {},
   "outputs": [],
   "source": [
    "# # Define Bidirectional LSTM model\n",
    "# model = Sequential([\n",
    "#     LSTM(64, activation='tanh', return_sequences=True, input_shape=(n_steps, 6)),\n",
    "#     Dropout(0.2),\n",
    "#     LSTM(128, activation='tanh', return_sequences=True),\n",
    "#     Dropout(0.3),\n",
    "#     LSTM(64, activation='tanh', return_sequences=True),\n",
    "#     Dropout(0.3),\n",
    "#     LSTM(32, activation='tanh', return_sequences=False),\n",
    "#     Dropout(0.2),\n",
    "#     Dense(6)\n",
    "    \n",
    "# ])\n",
    "# # model.add(LSTM(128, return_sequences=True), input_shape=(n_steps, 8))\n",
    "# # model.add(Dropout(0.3))\n",
    "# # model.add(Bidirectional(LSTM(64, return_sequences=False)))\n",
    "# # model.add(Dropout(0.3))\n",
    "# # model.add(Dense(8))  # Predict all 8 features at once"
   ]
  },
  {
   "cell_type": "code",
   "execution_count": null,
   "metadata": {},
   "outputs": [],
   "source": [
    "# model.compile(optimizer='adam', loss='mse')"
   ]
  },
  {
   "cell_type": "code",
   "execution_count": null,
   "metadata": {},
   "outputs": [],
   "source": [
    "# # Callbacks\n",
    "# callbacks = [\n",
    "#     EarlyStopping(monitor='val_loss', patience=10, restore_best_weights=True),\n",
    "#     ReduceLROnPlateau(monitor='val_loss', factor=0.5, patience=5)\n",
    "# ]\n"
   ]
  },
  {
   "cell_type": "code",
   "execution_count": null,
   "metadata": {},
   "outputs": [
    {
     "name": "stdout",
     "output_type": "stream",
     "text": [
      "Epoch 1/100\n",
      "21/21 [==============================] - 8s 169ms/step - loss: 0.0412 - val_loss: 0.0089 - lr: 0.0010\n",
      "Epoch 2/100\n",
      "21/21 [==============================] - 3s 121ms/step - loss: 0.0161 - val_loss: 0.0091 - lr: 0.0010\n",
      "Epoch 3/100\n",
      "21/21 [==============================] - 3s 136ms/step - loss: 0.0140 - val_loss: 0.0065 - lr: 0.0010\n",
      "Epoch 4/100\n",
      "21/21 [==============================] - 3s 143ms/step - loss: 0.0119 - val_loss: 0.0064 - lr: 0.0010\n",
      "Epoch 5/100\n",
      "21/21 [==============================] - 3s 122ms/step - loss: 0.0116 - val_loss: 0.0063 - lr: 0.0010\n",
      "Epoch 6/100\n",
      "21/21 [==============================] - 3s 122ms/step - loss: 0.0109 - val_loss: 0.0086 - lr: 0.0010\n",
      "Epoch 7/100\n",
      "21/21 [==============================] - 3s 121ms/step - loss: 0.0112 - val_loss: 0.0069 - lr: 0.0010\n",
      "Epoch 8/100\n",
      "21/21 [==============================] - 3s 127ms/step - loss: 0.0095 - val_loss: 0.0058 - lr: 0.0010\n",
      "Epoch 9/100\n",
      "21/21 [==============================] - 3s 126ms/step - loss: 0.0090 - val_loss: 0.0055 - lr: 0.0010\n",
      "Epoch 10/100\n",
      "21/21 [==============================] - 4s 214ms/step - loss: 0.0090 - val_loss: 0.0055 - lr: 0.0010\n",
      "Epoch 11/100\n",
      "21/21 [==============================] - 3s 129ms/step - loss: 0.0084 - val_loss: 0.0052 - lr: 0.0010\n",
      "Epoch 12/100\n",
      "21/21 [==============================] - 3s 124ms/step - loss: 0.0080 - val_loss: 0.0052 - lr: 0.0010\n",
      "Epoch 13/100\n",
      "21/21 [==============================] - 3s 122ms/step - loss: 0.0078 - val_loss: 0.0059 - lr: 0.0010\n",
      "Epoch 14/100\n",
      "21/21 [==============================] - 3s 126ms/step - loss: 0.0078 - val_loss: 0.0046 - lr: 0.0010\n",
      "Epoch 15/100\n",
      "21/21 [==============================] - 3s 126ms/step - loss: 0.0077 - val_loss: 0.0054 - lr: 0.0010\n",
      "Epoch 16/100\n",
      "21/21 [==============================] - 3s 121ms/step - loss: 0.0072 - val_loss: 0.0046 - lr: 0.0010\n",
      "Epoch 17/100\n",
      "21/21 [==============================] - 3s 125ms/step - loss: 0.0069 - val_loss: 0.0048 - lr: 0.0010\n",
      "Epoch 18/100\n",
      "21/21 [==============================] - 3s 124ms/step - loss: 0.0071 - val_loss: 0.0050 - lr: 0.0010\n",
      "Epoch 19/100\n",
      "21/21 [==============================] - 3s 127ms/step - loss: 0.0068 - val_loss: 0.0042 - lr: 0.0010\n",
      "Epoch 20/100\n",
      "21/21 [==============================] - 3s 122ms/step - loss: 0.0067 - val_loss: 0.0041 - lr: 0.0010\n",
      "Epoch 21/100\n",
      "21/21 [==============================] - 3s 121ms/step - loss: 0.0063 - val_loss: 0.0038 - lr: 0.0010\n",
      "Epoch 22/100\n",
      "21/21 [==============================] - 3s 136ms/step - loss: 0.0063 - val_loss: 0.0041 - lr: 0.0010\n",
      "Epoch 23/100\n",
      "21/21 [==============================] - 3s 137ms/step - loss: 0.0056 - val_loss: 0.0039 - lr: 0.0010\n",
      "Epoch 24/100\n",
      "21/21 [==============================] - 3s 123ms/step - loss: 0.0057 - val_loss: 0.0036 - lr: 0.0010\n",
      "Epoch 25/100\n",
      "21/21 [==============================] - 3s 122ms/step - loss: 0.0063 - val_loss: 0.0042 - lr: 0.0010\n",
      "Epoch 26/100\n",
      "21/21 [==============================] - 3s 123ms/step - loss: 0.0058 - val_loss: 0.0042 - lr: 0.0010\n",
      "Epoch 27/100\n",
      "21/21 [==============================] - 3s 141ms/step - loss: 0.0060 - val_loss: 0.0038 - lr: 0.0010\n",
      "Epoch 28/100\n",
      "21/21 [==============================] - 3s 134ms/step - loss: 0.0056 - val_loss: 0.0038 - lr: 0.0010\n",
      "Epoch 29/100\n",
      "21/21 [==============================] - 3s 134ms/step - loss: 0.0054 - val_loss: 0.0036 - lr: 0.0010\n",
      "Epoch 30/100\n",
      "21/21 [==============================] - 3s 121ms/step - loss: 0.0055 - val_loss: 0.0035 - lr: 5.0000e-04\n",
      "Epoch 31/100\n",
      "21/21 [==============================] - 3s 141ms/step - loss: 0.0053 - val_loss: 0.0035 - lr: 5.0000e-04\n",
      "Epoch 32/100\n",
      "21/21 [==============================] - 3s 130ms/step - loss: 0.0054 - val_loss: 0.0038 - lr: 5.0000e-04\n",
      "Epoch 33/100\n",
      "21/21 [==============================] - 3s 127ms/step - loss: 0.0052 - val_loss: 0.0035 - lr: 5.0000e-04\n",
      "Epoch 34/100\n",
      "21/21 [==============================] - 3s 168ms/step - loss: 0.0051 - val_loss: 0.0037 - lr: 5.0000e-04\n",
      "Epoch 35/100\n",
      "21/21 [==============================] - 3s 143ms/step - loss: 0.0052 - val_loss: 0.0034 - lr: 2.5000e-04\n",
      "Epoch 36/100\n",
      "21/21 [==============================] - 3s 125ms/step - loss: 0.0049 - val_loss: 0.0034 - lr: 2.5000e-04\n",
      "Epoch 37/100\n",
      "21/21 [==============================] - 3s 122ms/step - loss: 0.0051 - val_loss: 0.0035 - lr: 2.5000e-04\n",
      "Epoch 38/100\n",
      "21/21 [==============================] - 3s 129ms/step - loss: 0.0050 - val_loss: 0.0034 - lr: 2.5000e-04\n",
      "Epoch 39/100\n",
      "21/21 [==============================] - 3s 122ms/step - loss: 0.0051 - val_loss: 0.0035 - lr: 2.5000e-04\n",
      "Epoch 40/100\n",
      "21/21 [==============================] - 3s 121ms/step - loss: 0.0050 - val_loss: 0.0036 - lr: 2.5000e-04\n",
      "Epoch 41/100\n",
      "21/21 [==============================] - 3s 123ms/step - loss: 0.0050 - val_loss: 0.0033 - lr: 1.2500e-04\n",
      "Epoch 42/100\n",
      "21/21 [==============================] - 3s 144ms/step - loss: 0.0050 - val_loss: 0.0033 - lr: 1.2500e-04\n",
      "Epoch 43/100\n",
      "21/21 [==============================] - 3s 123ms/step - loss: 0.0050 - val_loss: 0.0034 - lr: 1.2500e-04\n",
      "Epoch 44/100\n",
      "21/21 [==============================] - 3s 121ms/step - loss: 0.0047 - val_loss: 0.0034 - lr: 1.2500e-04\n",
      "Epoch 45/100\n",
      "21/21 [==============================] - 3s 125ms/step - loss: 0.0050 - val_loss: 0.0034 - lr: 1.2500e-04\n",
      "Epoch 46/100\n",
      "21/21 [==============================] - 3s 134ms/step - loss: 0.0050 - val_loss: 0.0034 - lr: 6.2500e-05\n",
      "Epoch 47/100\n",
      "21/21 [==============================] - 3s 127ms/step - loss: 0.0049 - val_loss: 0.0034 - lr: 6.2500e-05\n",
      "Epoch 48/100\n",
      "21/21 [==============================] - 3s 124ms/step - loss: 0.0049 - val_loss: 0.0034 - lr: 6.2500e-05\n",
      "Epoch 49/100\n",
      "21/21 [==============================] - 3s 122ms/step - loss: 0.0048 - val_loss: 0.0034 - lr: 6.2500e-05\n",
      "Epoch 50/100\n",
      "21/21 [==============================] - 3s 138ms/step - loss: 0.0047 - val_loss: 0.0033 - lr: 6.2500e-05\n",
      "Epoch 51/100\n",
      "21/21 [==============================] - 3s 137ms/step - loss: 0.0047 - val_loss: 0.0033 - lr: 3.1250e-05\n",
      "Epoch 52/100\n",
      "21/21 [==============================] - 3s 123ms/step - loss: 0.0048 - val_loss: 0.0033 - lr: 3.1250e-05\n",
      "Epoch 53/100\n",
      "21/21 [==============================] - 3s 125ms/step - loss: 0.0047 - val_loss: 0.0033 - lr: 3.1250e-05\n",
      "Epoch 54/100\n",
      "21/21 [==============================] - 3s 133ms/step - loss: 0.0050 - val_loss: 0.0033 - lr: 3.1250e-05\n",
      "Epoch 55/100\n",
      "21/21 [==============================] - 3s 122ms/step - loss: 0.0049 - val_loss: 0.0034 - lr: 3.1250e-05\n",
      "Epoch 56/100\n",
      "21/21 [==============================] - 3s 123ms/step - loss: 0.0048 - val_loss: 0.0034 - lr: 1.5625e-05\n",
      "Epoch 57/100\n",
      "21/21 [==============================] - 3s 124ms/step - loss: 0.0048 - val_loss: 0.0033 - lr: 1.5625e-05\n",
      "Epoch 58/100\n",
      "21/21 [==============================] - 3s 145ms/step - loss: 0.0049 - val_loss: 0.0033 - lr: 1.5625e-05\n",
      "Epoch 59/100\n",
      "21/21 [==============================] - 3s 135ms/step - loss: 0.0047 - val_loss: 0.0033 - lr: 1.5625e-05\n",
      "Epoch 60/100\n",
      "21/21 [==============================] - 3s 127ms/step - loss: 0.0047 - val_loss: 0.0033 - lr: 1.5625e-05\n",
      "Epoch 61/100\n",
      "21/21 [==============================] - 3s 137ms/step - loss: 0.0048 - val_loss: 0.0033 - lr: 7.8125e-06\n",
      "Epoch 62/100\n",
      "21/21 [==============================] - 3s 138ms/step - loss: 0.0048 - val_loss: 0.0033 - lr: 7.8125e-06\n",
      "Epoch 63/100\n",
      "21/21 [==============================] - 3s 128ms/step - loss: 0.0048 - val_loss: 0.0033 - lr: 7.8125e-06\n",
      "Epoch 64/100\n",
      "21/21 [==============================] - 3s 134ms/step - loss: 0.0048 - val_loss: 0.0033 - lr: 7.8125e-06\n",
      "Epoch 65/100\n",
      "21/21 [==============================] - 3s 139ms/step - loss: 0.0051 - val_loss: 0.0033 - lr: 7.8125e-06\n",
      "Epoch 66/100\n",
      "21/21 [==============================] - 3s 129ms/step - loss: 0.0049 - val_loss: 0.0033 - lr: 7.8125e-06\n",
      "Epoch 67/100\n",
      "21/21 [==============================] - 3s 129ms/step - loss: 0.0048 - val_loss: 0.0033 - lr: 7.8125e-06\n",
      "Epoch 68/100\n",
      "21/21 [==============================] - 3s 129ms/step - loss: 0.0048 - val_loss: 0.0033 - lr: 7.8125e-06\n",
      "Epoch 69/100\n",
      "21/21 [==============================] - 3s 138ms/step - loss: 0.0049 - val_loss: 0.0033 - lr: 3.9063e-06\n",
      "Epoch 70/100\n",
      "21/21 [==============================] - 3s 130ms/step - loss: 0.0048 - val_loss: 0.0033 - lr: 3.9063e-06\n",
      "Epoch 71/100\n",
      "21/21 [==============================] - 3s 129ms/step - loss: 0.0050 - val_loss: 0.0033 - lr: 3.9063e-06\n",
      "Epoch 72/100\n",
      "21/21 [==============================] - 3s 131ms/step - loss: 0.0050 - val_loss: 0.0033 - lr: 3.9063e-06\n",
      "Epoch 73/100\n",
      "21/21 [==============================] - 3s 143ms/step - loss: 0.0049 - val_loss: 0.0033 - lr: 3.9063e-06\n",
      "Epoch 74/100\n",
      "21/21 [==============================] - 3s 130ms/step - loss: 0.0047 - val_loss: 0.0033 - lr: 1.9531e-06\n",
      "Epoch 75/100\n",
      "21/21 [==============================] - 3s 129ms/step - loss: 0.0051 - val_loss: 0.0033 - lr: 1.9531e-06\n",
      "Epoch 76/100\n",
      "21/21 [==============================] - 3s 129ms/step - loss: 0.0046 - val_loss: 0.0033 - lr: 1.9531e-06\n",
      "Epoch 77/100\n",
      "21/21 [==============================] - 3s 139ms/step - loss: 0.0047 - val_loss: 0.0033 - lr: 1.9531e-06\n",
      "Epoch 78/100\n",
      "21/21 [==============================] - 3s 134ms/step - loss: 0.0048 - val_loss: 0.0033 - lr: 1.9531e-06\n",
      "Epoch 79/100\n",
      "21/21 [==============================] - 3s 130ms/step - loss: 0.0049 - val_loss: 0.0033 - lr: 9.7656e-07\n"
     ]
    }
   ],
   "source": [
    "# # Train the model\n",
    "# history = model.fit(X_train, y_train,\n",
    "#                     validation_split=0.2,\n",
    "#                     epochs=100,\n",
    "#                     batch_size=64,\n",
    "#                     callbacks=callbacks)"
   ]
  },
  {
   "cell_type": "code",
   "execution_count": null,
   "metadata": {},
   "outputs": [],
   "source": [
    "# model.save('final_model_60_noEps.keras')"
   ]
  },
  {
   "cell_type": "code",
   "execution_count": null,
   "metadata": {},
   "outputs": [],
   "source": [
    "# model.summary()"
   ]
  },
  {
   "cell_type": "code",
   "execution_count": 13,
   "metadata": {},
   "outputs": [],
   "source": [
    "from keras.models import Sequential, load_model\n",
    "from keras.layers import LSTM, Dense, Dropout\n",
    "model = load_model('final_model_60_noEps.keras')"
   ]
  },
  {
   "cell_type": "code",
   "execution_count": null,
   "metadata": {},
   "outputs": [
    {
     "ename": "NameError",
     "evalue": "name 'history' is not defined",
     "output_type": "error",
     "traceback": [
      "\u001b[0;31m---------------------------------------------------------------------------\u001b[0m",
      "\u001b[0;31mNameError\u001b[0m                                 Traceback (most recent call last)",
      "Cell \u001b[0;32mIn[14], line 3\u001b[0m\n\u001b[1;32m      1\u001b[0m \u001b[38;5;66;03m# Plot training & validation loss\u001b[39;00m\n\u001b[1;32m      2\u001b[0m plt\u001b[38;5;241m.\u001b[39mfigure(figsize\u001b[38;5;241m=\u001b[39m(\u001b[38;5;241m12\u001b[39m, \u001b[38;5;241m6\u001b[39m))\n\u001b[0;32m----> 3\u001b[0m plt\u001b[38;5;241m.\u001b[39mplot(\u001b[43mhistory\u001b[49m\u001b[38;5;241m.\u001b[39mhistory[\u001b[38;5;124m'\u001b[39m\u001b[38;5;124mloss\u001b[39m\u001b[38;5;124m'\u001b[39m], label\u001b[38;5;241m=\u001b[39m\u001b[38;5;124m'\u001b[39m\u001b[38;5;124mTrain Loss\u001b[39m\u001b[38;5;124m'\u001b[39m)\n\u001b[1;32m      4\u001b[0m plt\u001b[38;5;241m.\u001b[39mplot(history\u001b[38;5;241m.\u001b[39mhistory[\u001b[38;5;124m'\u001b[39m\u001b[38;5;124mval_loss\u001b[39m\u001b[38;5;124m'\u001b[39m], label\u001b[38;5;241m=\u001b[39m\u001b[38;5;124m'\u001b[39m\u001b[38;5;124mValidation Loss\u001b[39m\u001b[38;5;124m'\u001b[39m)\n\u001b[1;32m      5\u001b[0m plt\u001b[38;5;241m.\u001b[39mlegend()\n",
      "\u001b[0;31mNameError\u001b[0m: name 'history' is not defined"
     ]
    },
    {
     "data": {
      "text/plain": [
       "<Figure size 1200x600 with 0 Axes>"
      ]
     },
     "metadata": {},
     "output_type": "display_data"
    }
   ],
   "source": [
    "\n",
    "# # Plot training & validation loss\n",
    "# plt.figure(figsize=(12, 6))\n",
    "# plt.plot(history.history['loss'], label='Train Loss')\n",
    "# plt.plot(history.history['val_loss'], label='Validation Loss')\n",
    "# plt.legend()\n",
    "# plt.show()"
   ]
  },
  {
   "cell_type": "code",
   "execution_count": 15,
   "metadata": {},
   "outputs": [
    {
     "name": "stdout",
     "output_type": "stream",
     "text": [
      "6/6 [==============================] - 1s 27ms/step\n"
     ]
    }
   ],
   "source": [
    "## for the X_train\n",
    "train_result=model.predict(X_train)\n",
    "train_result_inverse=scaler.inverse_transform(train_result)\n",
    "train_result_close=train_result_inverse[:, 3]\n"
   ]
  },
  {
   "cell_type": "code",
   "execution_count": 16,
   "metadata": {},
   "outputs": [
    {
     "name": "stdout",
     "output_type": "stream",
     "text": [
      "1/1 [==============================] - 0s 41ms/step\n"
     ]
    }
   ],
   "source": [
    "## for the X_test\n",
    "test_result=model.predict(X_test)\n",
    "test_result_inverse=scaler.inverse_transform(test_result)\n",
    "test_result_close=test_result_inverse[:, 3]\n"
   ]
  },
  {
   "cell_type": "code",
   "execution_count": 17,
   "metadata": {},
   "outputs": [
    {
     "name": "stdout",
     "output_type": "stream",
     "text": [
      "MAE of close: 0.07272039373774908\n",
      "R² Score of close: -2.520234694556083\n",
      "MSE of close: 0.006685272268608638\n",
      "MAPE of close: 0.23666269571356258\n"
     ]
    }
   ],
   "source": [
    "from sklearn.metrics import mean_absolute_error, r2_score, mean_squared_error, mean_absolute_percentage_error\n",
    "print(\"MAE of close:\", mean_absolute_error(y_test[:,3], test_result[:,3]))\n",
    "print(\"R² Score of close:\", r2_score(y_test[:,3], test_result[:,3]))\n",
    "print(\"MSE of close:\", mean_squared_error(y_test[:,3], test_result[:,3]))\n",
    "print(\"MAPE of close:\", mean_absolute_percentage_error(y_test[:,3], test_result[:,3]))\n"
   ]
  },
  {
   "cell_type": "code",
   "execution_count": 18,
   "metadata": {},
   "outputs": [
    {
     "name": "stdout",
     "output_type": "stream",
     "text": [
      "MAE of Test: 0.07160225468946319\n",
      "R² Score TESt: -2.3190913506628124\n",
      "MSE TESt: 0.00769909287156575\n",
      "MAPE of Test: 0.30950680398665503\n"
     ]
    }
   ],
   "source": [
    "print(\"MAE of Test:\", mean_absolute_error(y_test, test_result))\n",
    "print(\"R² Score TESt:\", r2_score(y_test, test_result))\n",
    "print(\"MSE TESt:\", mean_squared_error(y_test, test_result))\n",
    "print(\"MAPE of Test:\", mean_absolute_percentage_error(y_test, test_result))"
   ]
  },
  {
   "cell_type": "code",
   "execution_count": 19,
   "metadata": {},
   "outputs": [
    {
     "name": "stdout",
     "output_type": "stream",
     "text": [
      "MAE of Train: 0.08739162079752986\n",
      "R² Score Train: 0.34099114323577645\n",
      "MSE Train: 0.014186653671873063\n",
      "MAPE of Train: 1216502621581.764\n"
     ]
    }
   ],
   "source": [
    "print(\"MAE of Train:\", mean_absolute_error(y_train, train_result))\n",
    "print(\"R² Score Train:\", r2_score(y_train, train_result))\n",
    "print(\"MSE Train:\", mean_squared_error(y_train, train_result))\n",
    "print(\"MAPE of Train:\", mean_absolute_percentage_error(y_train, train_result))"
   ]
  },
  {
   "cell_type": "code",
   "execution_count": 20,
   "metadata": {},
   "outputs": [
    {
     "data": {
      "text/plain": [
       "((19, 60, 6), (171, 60, 6), (19, 6), (171, 6))"
      ]
     },
     "execution_count": 20,
     "metadata": {},
     "output_type": "execute_result"
    }
   ],
   "source": [
    "X_test.shape, X_train.shape, y_test.shape, y_train.shape"
   ]
  },
  {
   "cell_type": "code",
   "execution_count": 21,
   "metadata": {},
   "outputs": [],
   "source": [
    "# Function to predict future days recursively (all 8 features)\n",
    "def predict_future_multivariate(model, data, scaler, n_steps, future_days):\n",
    "    predicted = []\n",
    "    current_sequence = data[-n_steps:]  # Last window of data\n",
    "\n",
    "    for _ in range(future_days):\n",
    "        prediction = model.predict(current_sequence.reshape(1, n_steps, 6), verbose=0)\n",
    "        predicted.append(prediction[0])\n",
    "\n",
    "        # Append predicted row to current sequence for next prediction\n",
    "        current_sequence = np.vstack([current_sequence[1:], prediction])\n",
    "\n",
    "    # Inverse transform all predicted data (8 features)\n",
    "    predicted_array = np.array(predicted)\n",
    "    predicted_prices = scaler.inverse_transform(predicted_array)\n",
    "    return predicted_prices"
   ]
  },
  {
   "cell_type": "code",
   "execution_count": 22,
   "metadata": {},
   "outputs": [],
   "source": [
    "# Predict next 30 days\n",
    "future_days = 150\n",
    "future_prices = predict_future_multivariate(model, scaled_data, scaler, n_steps, future_days)"
   ]
  },
  {
   "cell_type": "code",
   "execution_count": 25,
   "metadata": {},
   "outputs": [],
   "source": [
    "# Plot actual vs future Close prices\n",
    "actual_close_prices = df['Ltp'].values"
   ]
  },
  {
   "cell_type": "code",
   "execution_count": 26,
   "metadata": {},
   "outputs": [
    {
     "data": {
      "image/png": "[encoded data removed]",
      "text/plain": [
       "<Figure size 1200x600 with 1 Axes>"
      ]
     },
     "metadata": {},
     "output_type": "display_data"
    }
   ],
   "source": [
    "plt.figure(figsize=(12, 6))\n",
    "plt.plot(actual_close_prices, label='Actual Close Prices')\n",
    "plt.plot(range(len(actual_close_prices), len(actual_close_prices) + future_days), future_prices[:, 3], label='Predicted Future Close Prices')\n",
    "plt.plot(range(n_steps, len(train_result_close)+n_steps),train_result_close,label=\"train_result_close\", color=\"maroon\" )\n",
    "plt.plot(range(len(train_result_close)+n_steps, len(train_result_close)+len(test_result_close)+n_steps),test_result_close,label=\"test_result_close\" )\n",
    "plt.legend()\n",
    "plt.savefig(\"close_pred_future.png\")\n",
    "plt.show()"
   ]
  },
  {
   "cell_type": "code",
   "execution_count": 27,
   "metadata": {},
   "outputs": [
    {
     "name": "stdout",
     "output_type": "stream",
     "text": [
      "           Open        High         Low         Ltp  per_change           Qty\n",
      "0    878.351685  903.293945  872.695801  875.670776    1.756586   7509.707520\n",
      "1    877.499878  902.624573  872.168396  874.917725    1.769450   7676.427246\n",
      "2    877.947144  903.430115  872.770447  875.355835    1.795517   8476.893555\n",
      "3    879.189941  905.075439  874.019714  876.514465    1.829770   9640.442383\n",
      "4    880.802612  907.055237  875.533386  878.007507    1.867567  10950.402344\n",
      "..          ...         ...         ...         ...         ...           ...\n",
      "145  904.236877  934.173401  897.848694  900.854614    1.882254  26943.976562\n",
      "146  904.355286  934.311768  897.957520  900.963867    1.882369  26975.880859\n",
      "147  904.474121  934.450684  898.066711  901.073608    1.882482  27007.697266\n",
      "148  904.593384  934.590210  898.176392  901.183655    1.882593  27039.443359\n",
      "149  904.713196  934.730225  898.286438  901.294250    1.882703  27071.093750\n",
      "\n",
      "[150 rows x 6 columns]\n"
     ]
    }
   ],
   "source": [
    "# Print predicted future prices (all features for each day)\n",
    "future_df = pd.DataFrame(future_prices, columns=feature_columns)\n",
    "print(future_df)"
   ]
  },
  {
   "cell_type": "code",
   "execution_count": 28,
   "metadata": {},
   "outputs": [],
   "source": [
    "# Save to CSV if needed\n",
    "future_df.to_csv('predicted_future_prices_withoutEPS.csv', index=False)"
   ]
  },
  {
   "cell_type": "code",
   "execution_count": null,
   "metadata": {},
   "outputs": [],
   "source": []
  },
  {
   "cell_type": "code",
   "execution_count": null,
   "metadata": {},
   "outputs": [],
   "source": []
  },
  {
   "cell_type": "code",
   "execution_count": null,
   "metadata": {},
   "outputs": [],
   "source": []
  }
 ],
 "metadata": {
  "kernelspec": {
   "display_name": "tfEnv",
   "language": "python",
   "name": "python3"
  },
  "language_info": {
   "codemirror_mode": {
    "name": "ipython",
    "version": 3
   },
   "file_extension": ".py",
   "mimetype": "text/x-python",
   "name": "python",
   "nbconvert_exporter": "python",
   "pygments_lexer": "ipython3",
   "version": "3.8.18"
  }
 },
 "nbformat": 4,
 "nbformat_minor": 2
}

{
 "cells": [
  {
   "cell_type": "code",
   "execution_count": 1,
   "metadata": {},
   "outputs": [
    {
     "name": "stderr",
     "output_type": "stream",
     "text": [
      "2025-02-28 12:16:30.028748: I tensorflow/core/platform/cpu_feature_guard.cc:193] This TensorFlow binary is optimized with oneAPI Deep Neural Network Library (oneDNN) to use the following CPU instructions in performance-critical operations:  SSE4.1 SSE4.2\n",
      "To enable them in other operations, rebuild TensorFlow with the appropriate compiler flags.\n"
     ]
    }
   ],
   "source": [
    "import numpy as np\n",
    "import pandas as pd\n",
    "import matplotlib.pyplot as plt\n",
    "import yfinance as yf\n",
    "from sklearn.preprocessing import MinMaxScaler\n",
    "from sklearn.metrics import mean_absolute_error, r2_score\n",
    "from keras.models import Sequential\n",
    "from keras.layers import LSTM, Dense, Dropout\n"
   ]
  },
  {
   "cell_type": "code",
   "execution_count": 2,
   "metadata": {},
   "outputs": [],
   "source": [
    "# # Download Stock Data\n",
    "# start = '2012-01-01'\n",
    "# end = '2022-12-21'\n",
    "# stock = 'GOOG'\n",
    "# data = yf.download(stock, start, end)\n",
    "# data.reset_index(inplace=True)\n",
    "# data.dropna(inplace=True)"
   ]
  },
  {
   "cell_type": "code",
   "execution_count": 3,
   "metadata": {},
   "outputs": [],
   "source": [
    "data=pd.read_csv(\"NICA_2000-01-01_2021-12-31.csv\")"
   ]
  },
  {
   "cell_type": "code",
   "execution_count": 4,
   "metadata": {},
   "outputs": [
    {
     "data": {
      "text/html": [
       "<div>\n",
       "<style scoped>\n",
       "    .dataframe tbody tr th:only-of-type {\n",
       "        vertical-align: middle;\n",
       "    }\n",
       "\n",
       "    .dataframe tbody tr th {\n",
       "        vertical-align: top;\n",
       "    }\n",
       "\n",
       "    .dataframe thead th {\n",
       "        text-align: right;\n",
       "    }\n",
       "</style>\n",
       "<table border=\"1\" class=\"dataframe\">\n",
       "  <thead>\n",
       "    <tr style=\"text-align: right;\">\n",
       "      <th></th>\n",
       "      <th>S.N.</th>\n",
       "      <th>Date</th>\n",
       "      <th>Total Transactions</th>\n",
       "      <th>Total Traded Shares</th>\n",
       "      <th>Total Traded Amount</th>\n",
       "      <th>Max. Price</th>\n",
       "      <th>Min. Price</th>\n",
       "      <th>Close</th>\n",
       "    </tr>\n",
       "  </thead>\n",
       "  <tbody>\n",
       "    <tr>\n",
       "      <th>0</th>\n",
       "      <td>1</td>\n",
       "      <td>2021-12-29</td>\n",
       "      <td>517</td>\n",
       "      <td>77201.0</td>\n",
       "      <td>56817535.0</td>\n",
       "      <td>744.0</td>\n",
       "      <td>725.0</td>\n",
       "      <td>740.0</td>\n",
       "    </tr>\n",
       "    <tr>\n",
       "      <th>1</th>\n",
       "      <td>2</td>\n",
       "      <td>2021-12-28</td>\n",
       "      <td>269</td>\n",
       "      <td>43607.0</td>\n",
       "      <td>32180061.8</td>\n",
       "      <td>747.0</td>\n",
       "      <td>730.0</td>\n",
       "      <td>738.0</td>\n",
       "    </tr>\n",
       "    <tr>\n",
       "      <th>2</th>\n",
       "      <td>3</td>\n",
       "      <td>2021-12-27</td>\n",
       "      <td>488</td>\n",
       "      <td>65018.0</td>\n",
       "      <td>49019615.4</td>\n",
       "      <td>774.0</td>\n",
       "      <td>744.0</td>\n",
       "      <td>744.0</td>\n",
       "    </tr>\n",
       "    <tr>\n",
       "      <th>3</th>\n",
       "      <td>4</td>\n",
       "      <td>2021-12-26</td>\n",
       "      <td>450</td>\n",
       "      <td>70760.0</td>\n",
       "      <td>54269788.7</td>\n",
       "      <td>775.0</td>\n",
       "      <td>760.0</td>\n",
       "      <td>769.9</td>\n",
       "    </tr>\n",
       "    <tr>\n",
       "      <th>4</th>\n",
       "      <td>5</td>\n",
       "      <td>2021-12-23</td>\n",
       "      <td>343</td>\n",
       "      <td>53583.0</td>\n",
       "      <td>40522914.0</td>\n",
       "      <td>767.0</td>\n",
       "      <td>749.0</td>\n",
       "      <td>760.0</td>\n",
       "    </tr>\n",
       "    <tr>\n",
       "      <th>...</th>\n",
       "      <td>...</td>\n",
       "      <td>...</td>\n",
       "      <td>...</td>\n",
       "      <td>...</td>\n",
       "      <td>...</td>\n",
       "      <td>...</td>\n",
       "      <td>...</td>\n",
       "      <td>...</td>\n",
       "    </tr>\n",
       "    <tr>\n",
       "      <th>2409</th>\n",
       "      <td>2410</td>\n",
       "      <td>2010-04-20</td>\n",
       "      <td>16</td>\n",
       "      <td>2345.0</td>\n",
       "      <td>1173081.0</td>\n",
       "      <td>522.0</td>\n",
       "      <td>492.0</td>\n",
       "      <td>493.0</td>\n",
       "    </tr>\n",
       "    <tr>\n",
       "      <th>2410</th>\n",
       "      <td>2411</td>\n",
       "      <td>2010-04-19</td>\n",
       "      <td>5</td>\n",
       "      <td>334.0</td>\n",
       "      <td>169336.0</td>\n",
       "      <td>510.0</td>\n",
       "      <td>502.0</td>\n",
       "      <td>502.0</td>\n",
       "    </tr>\n",
       "    <tr>\n",
       "      <th>2411</th>\n",
       "      <td>2412</td>\n",
       "      <td>2010-04-15</td>\n",
       "      <td>3</td>\n",
       "      <td>629.0</td>\n",
       "      <td>334950.0</td>\n",
       "      <td>535.0</td>\n",
       "      <td>530.0</td>\n",
       "      <td>530.0</td>\n",
       "    </tr>\n",
       "    <tr>\n",
       "      <th>2412</th>\n",
       "      <td>2413</td>\n",
       "      <td>2010-04-15</td>\n",
       "      <td>3</td>\n",
       "      <td>629.0</td>\n",
       "      <td>334950.0</td>\n",
       "      <td>535.0</td>\n",
       "      <td>530.0</td>\n",
       "      <td>530.0</td>\n",
       "    </tr>\n",
       "    <tr>\n",
       "      <th>2413</th>\n",
       "      <td>2414</td>\n",
       "      <td>2010-04-15</td>\n",
       "      <td>3</td>\n",
       "      <td>629.0</td>\n",
       "      <td>334950.0</td>\n",
       "      <td>535.0</td>\n",
       "      <td>530.0</td>\n",
       "      <td>530.0</td>\n",
       "    </tr>\n",
       "  </tbody>\n",
       "</table>\n",
       "<p>2414 rows × 8 columns</p>\n",
       "</div>"
      ],
      "text/plain": [
       "      S.N.        Date  Total Transactions  Total Traded Shares  \\\n",
       "0        1  2021-12-29                 517              77201.0   \n",
       "1        2  2021-12-28                 269              43607.0   \n",
       "2        3  2021-12-27                 488              65018.0   \n",
       "3        4  2021-12-26                 450              70760.0   \n",
       "4        5  2021-12-23                 343              53583.0   \n",
       "...    ...         ...                 ...                  ...   \n",
       "2409  2410  2010-04-20                  16               2345.0   \n",
       "2410  2411  2010-04-19                   5                334.0   \n",
       "2411  2412  2010-04-15                   3                629.0   \n",
       "2412  2413  2010-04-15                   3                629.0   \n",
       "2413  2414  2010-04-15                   3                629.0   \n",
       "\n",
       "      Total Traded Amount  Max. Price  Min. Price  Close  \n",
       "0              56817535.0       744.0       725.0  740.0  \n",
       "1              32180061.8       747.0       730.0  738.0  \n",
       "2              49019615.4       774.0       744.0  744.0  \n",
       "3              54269788.7       775.0       760.0  769.9  \n",
       "4              40522914.0       767.0       749.0  760.0  \n",
       "...                   ...         ...         ...    ...  \n",
       "2409            1173081.0       522.0       492.0  493.0  \n",
       "2410             169336.0       510.0       502.0  502.0  \n",
       "2411             334950.0       535.0       530.0  530.0  \n",
       "2412             334950.0       535.0       530.0  530.0  \n",
       "2413             334950.0       535.0       530.0  530.0  \n",
       "\n",
       "[2414 rows x 8 columns]"
      ]
     },
     "execution_count": 4,
     "metadata": {},
     "output_type": "execute_result"
    }
   ],
   "source": [
    "data"
   ]
  },
  {
   "cell_type": "code",
   "execution_count": 5,
   "metadata": {},
   "outputs": [],
   "source": [
    "\n",
    "# Train-Test Split\n",
    "data_train = data['Close'][:int(len(data)*0.80)]\n",
    "data_test = data['Close'][int(len(data)*0.80):]\n"
   ]
  },
  {
   "cell_type": "code",
   "execution_count": 6,
   "metadata": {},
   "outputs": [
    {
     "name": "stdout",
     "output_type": "stream",
     "text": [
      "Shape of train=(1931,)\n",
      "Shape of data_test=(483,)\n"
     ]
    }
   ],
   "source": [
    "print(f\"Shape of train={data_train.shape}\\nShape of data_test={data_test.shape}\")"
   ]
  },
  {
   "cell_type": "code",
   "execution_count": 7,
   "metadata": {},
   "outputs": [],
   "source": [
    "# Scaling Data\n",
    "scaler = MinMaxScaler(feature_range=(0,1))\n",
    "data_train_scaled = scaler.fit_transform(np.array(data_train).reshape(-1,1))\n",
    "data_test_scaled = scaler.transform(np.array(data_test).reshape(-1,1))"
   ]
  },
  {
   "cell_type": "code",
   "execution_count": 8,
   "metadata": {},
   "outputs": [
    {
     "name": "stdout",
     "output_type": "stream",
     "text": [
      "[[0.68965517]\n",
      " [0.68779124]\n",
      " [0.69338304]\n",
      " ...\n",
      " [0.42124884]\n",
      " [0.4305685 ]\n",
      " [0.4277726 ]]\n"
     ]
    }
   ],
   "source": [
    "print(data_train_scaled)"
   ]
  },
  {
   "cell_type": "code",
   "execution_count": 9,
   "metadata": {},
   "outputs": [],
   "source": [
    "# Create Training Sequences\n",
    "x_train, y_train = [], []\n",
    "for i in range(500, len(data_train_scaled)):\n",
    "    x_train.append(data_train_scaled[i-500:i])\n",
    "    y_train.append(data_train_scaled[i, 0])\n",
    "x_train, y_train = np.array(x_train), np.array(y_train)"
   ]
  },
  {
   "cell_type": "code",
   "execution_count": null,
   "metadata": {},
   "outputs": [],
   "source": []
  },
  {
   "cell_type": "code",
   "execution_count": 10,
   "metadata": {},
   "outputs": [
    {
     "name": "stdout",
     "output_type": "stream",
     "text": [
      "Epoch 1/50\n",
      "36/36 [==============================] - 31s 748ms/step - loss: 0.0311 - val_loss: 0.0112\n",
      "Epoch 2/50\n",
      "36/36 [==============================] - 25s 685ms/step - loss: 0.0075 - val_loss: 0.0074\n",
      "Epoch 3/50\n",
      "36/36 [==============================] - 25s 687ms/step - loss: 0.0064 - val_loss: 0.0063\n",
      "Epoch 4/50\n",
      "36/36 [==============================] - 25s 686ms/step - loss: 0.0057 - val_loss: 0.0068\n",
      "Epoch 5/50\n",
      "36/36 [==============================] - 25s 690ms/step - loss: 0.0063 - val_loss: 0.0059\n",
      "Epoch 6/50\n",
      "36/36 [==============================] - 25s 697ms/step - loss: 0.0054 - val_loss: 0.0108\n",
      "Epoch 7/50\n",
      "36/36 [==============================] - 25s 695ms/step - loss: 0.0062 - val_loss: 0.0063\n",
      "Epoch 8/50\n",
      "36/36 [==============================] - 26s 722ms/step - loss: 0.0056 - val_loss: 0.0073\n",
      "Epoch 9/50\n",
      "36/36 [==============================] - 25s 696ms/step - loss: 0.0052 - val_loss: 0.0052\n",
      "Epoch 10/50\n",
      "36/36 [==============================] - 27s 744ms/step - loss: 0.0052 - val_loss: 0.0052\n",
      "Epoch 11/50\n",
      "36/36 [==============================] - 26s 722ms/step - loss: 0.0047 - val_loss: 0.0054\n",
      "Epoch 12/50\n",
      "36/36 [==============================] - 25s 706ms/step - loss: 0.0047 - val_loss: 0.0049\n",
      "Epoch 13/50\n",
      "36/36 [==============================] - 25s 693ms/step - loss: 0.0043 - val_loss: 0.0047\n",
      "Epoch 14/50\n",
      "36/36 [==============================] - 25s 697ms/step - loss: 0.0043 - val_loss: 0.0046\n",
      "Epoch 15/50\n",
      "36/36 [==============================] - 26s 725ms/step - loss: 0.0045 - val_loss: 0.0045\n",
      "Epoch 16/50\n",
      "36/36 [==============================] - 26s 735ms/step - loss: 0.0042 - val_loss: 0.0051\n",
      "Epoch 17/50\n",
      "36/36 [==============================] - 26s 736ms/step - loss: 0.0040 - val_loss: 0.0045\n",
      "Epoch 18/50\n",
      "36/36 [==============================] - 26s 730ms/step - loss: 0.0043 - val_loss: 0.0044\n",
      "Epoch 19/50\n",
      "36/36 [==============================] - 27s 757ms/step - loss: 0.0037 - val_loss: 0.0053\n",
      "Epoch 20/50\n",
      "36/36 [==============================] - 27s 760ms/step - loss: 0.0039 - val_loss: 0.0044\n",
      "Epoch 21/50\n",
      "36/36 [==============================] - 29s 794ms/step - loss: 0.0036 - val_loss: 0.0047\n",
      "Epoch 22/50\n",
      "36/36 [==============================] - 28s 795ms/step - loss: 0.0034 - val_loss: 0.0044\n",
      "Epoch 23/50\n",
      "36/36 [==============================] - 29s 805ms/step - loss: 0.0036 - val_loss: 0.0049\n",
      "Epoch 24/50\n",
      "36/36 [==============================] - 28s 775ms/step - loss: 0.0034 - val_loss: 0.0044\n",
      "Epoch 25/50\n",
      "36/36 [==============================] - 28s 788ms/step - loss: 0.0035 - val_loss: 0.0041\n",
      "Epoch 26/50\n",
      "36/36 [==============================] - 28s 779ms/step - loss: 0.0032 - val_loss: 0.0040\n",
      "Epoch 27/50\n",
      "36/36 [==============================] - 28s 782ms/step - loss: 0.0031 - val_loss: 0.0040\n",
      "Epoch 28/50\n",
      "36/36 [==============================] - 28s 774ms/step - loss: 0.0031 - val_loss: 0.0039\n",
      "Epoch 29/50\n",
      "36/36 [==============================] - 27s 755ms/step - loss: 0.0039 - val_loss: 0.0046\n",
      "Epoch 30/50\n",
      "36/36 [==============================] - 27s 758ms/step - loss: 0.0033 - val_loss: 0.0065\n",
      "Epoch 31/50\n",
      "36/36 [==============================] - 28s 779ms/step - loss: 0.0030 - val_loss: 0.0043\n",
      "Epoch 32/50\n",
      "36/36 [==============================] - 27s 745ms/step - loss: 0.0028 - val_loss: 0.0043\n",
      "Epoch 33/50\n",
      "36/36 [==============================] - 26s 733ms/step - loss: 0.0027 - val_loss: 0.0039\n",
      "Epoch 34/50\n",
      "36/36 [==============================] - 27s 747ms/step - loss: 0.0029 - val_loss: 0.0040\n",
      "Epoch 35/50\n",
      "36/36 [==============================] - 27s 742ms/step - loss: 0.0031 - val_loss: 0.0046\n",
      "Epoch 36/50\n",
      "36/36 [==============================] - 27s 743ms/step - loss: 0.0031 - val_loss: 0.0038\n",
      "Epoch 37/50\n",
      "36/36 [==============================] - 28s 771ms/step - loss: 0.0025 - val_loss: 0.0040\n",
      "Epoch 38/50\n",
      "36/36 [==============================] - 29s 796ms/step - loss: 0.0024 - val_loss: 0.0037\n",
      "Epoch 39/50\n",
      "36/36 [==============================] - 27s 748ms/step - loss: 0.0027 - val_loss: 0.0045\n",
      "Epoch 40/50\n",
      "36/36 [==============================] - 28s 780ms/step - loss: 0.0027 - val_loss: 0.0039\n",
      "Epoch 41/50\n",
      "36/36 [==============================] - 27s 756ms/step - loss: 0.0023 - val_loss: 0.0037\n",
      "Epoch 42/50\n",
      "36/36 [==============================] - 28s 773ms/step - loss: 0.0023 - val_loss: 0.0043\n",
      "Epoch 43/50\n",
      "36/36 [==============================] - 26s 733ms/step - loss: 0.0025 - val_loss: 0.0038\n",
      "Epoch 44/50\n",
      "36/36 [==============================] - 27s 756ms/step - loss: 0.0023 - val_loss: 0.0037\n",
      "Epoch 45/50\n",
      "36/36 [==============================] - 28s 783ms/step - loss: 0.0020 - val_loss: 0.0038\n",
      "Epoch 46/50\n",
      "36/36 [==============================] - 26s 730ms/step - loss: 0.0022 - val_loss: 0.0037\n",
      "Epoch 47/50\n",
      "36/36 [==============================] - 26s 733ms/step - loss: 0.0021 - val_loss: 0.0045\n",
      "Epoch 48/50\n",
      "36/36 [==============================] - 26s 732ms/step - loss: 0.0023 - val_loss: 0.0036\n",
      "Epoch 49/50\n",
      "36/36 [==============================] - 26s 734ms/step - loss: 0.0021 - val_loss: 0.0040\n",
      "Epoch 50/50\n",
      "36/36 [==============================] - 26s 736ms/step - loss: 0.0021 - val_loss: 0.0039\n",
      "Model trained and saved.\n"
     ]
    }
   ],
   "source": [
    "import os\n",
    "from keras.models import Sequential, load_model\n",
    "from keras.layers import LSTM, Dense, Dropout\n",
    "\n",
    "model_path = 'stock_model_improved.keras'\n",
    "\n",
    "if os.path.exists(model_path):\n",
    "    model = load_model(model_path)\n",
    "    print(\"Loaded pre-trained model. Fine-tuning...\")\n",
    "    # model.fit(x_train, y_train, epochs=10, batch_size=32, validation_split=0.2, verbose=1)\n",
    "else:\n",
    "    # Build LSTM Model with more hidden layers\n",
    "    model = Sequential([\n",
    "        LSTM(64, activation='tanh', return_sequences=True, input_shape=(x_train.shape[1], 1)),\n",
    "        Dropout(0.2),\n",
    "        LSTM(128, activation='tanh', return_sequences=True),\n",
    "        Dropout(0.3),\n",
    "        LSTM(64, activation='tanh', return_sequences=True),\n",
    "        Dropout(0.3),\n",
    "        LSTM(32, activation='tanh', return_sequences=False),\n",
    "        Dropout(0.2),\n",
    "        Dense(1)\n",
    "    ])\n",
    "    \n",
    "    model.compile(optimizer='adam', loss='mean_squared_error')\n",
    "    model.fit(x_train, y_train, epochs=50, batch_size=32, validation_split=0.2, verbose=1)\n",
    "    model.save(model_path)\n",
    "    print(\"Model trained and saved.\")\n"
   ]
  },
  {
   "cell_type": "code",
   "execution_count": 11,
   "metadata": {},
   "outputs": [],
   "source": [
    "# # Access the loss and val_loss after model training\n",
    "# # training_loss = model.history.history['loss']\n",
    "# validation_loss = model.history.history['val_loss']\n"
   ]
  },
  {
   "cell_type": "code",
   "execution_count": 12,
   "metadata": {},
   "outputs": [],
   "source": [
    "\n",
    "# Prepare Test Data\n",
    "past_100_days = data_train.tail(100).values.reshape(-1,1)\n",
    "past_100_days_scaled = scaler.transform(past_100_days)\n",
    "data_test_scaled = np.concatenate((past_100_days_scaled, data_test_scaled))\n",
    "\n",
    "x_test, y_test = [], []\n",
    "for i in range(500, len(data_test_scaled)):\n",
    "    x_test.append(data_test_scaled[i-500:i])\n",
    "    y_test.append(data_test_scaled[i, 0])\n",
    "x_test, y_test = np.array(x_test), np.array(y_test)\n"
   ]
  },
  {
   "cell_type": "code",
   "execution_count": 13,
   "metadata": {},
   "outputs": [],
   "source": [
    "# ## Preparing the test data\n",
    "# past_all_data=data\n",
    "# x_test, y_test-"
   ]
  },
  {
   "cell_type": "code",
   "execution_count": 14,
   "metadata": {},
   "outputs": [
    {
     "name": "stdout",
     "output_type": "stream",
     "text": [
      "Shape of test=(83, 500, 1)\n",
      "Shape of data_test=(83,)\n"
     ]
    }
   ],
   "source": [
    "print(f\"Shape of test={x_test.shape}\\nShape of data_test={y_test.shape}\")"
   ]
  },
  {
   "cell_type": "code",
   "execution_count": 15,
   "metadata": {},
   "outputs": [
    {
     "name": "stdout",
     "output_type": "stream",
     "text": [
      "3/3 [==============================] - 2s 192ms/step\n"
     ]
    }
   ],
   "source": [
    "# Make Predictions\n",
    "y_pred_scaled = model.predict(x_test)\n",
    "y_pred = scaler.inverse_transform(y_pred_scaled)\n",
    "y_test_actual = scaler.inverse_transform(y_test.reshape(-1,1))"
   ]
  },
  {
   "cell_type": "code",
   "execution_count": 16,
   "metadata": {},
   "outputs": [
    {
     "name": "stdout",
     "output_type": "stream",
     "text": [
      "MAE: 24.38689854633377\n",
      "R² Score: 0.7185774323414447\n"
     ]
    }
   ],
   "source": [
    "# Performance Metrics\n",
    "print(\"MAE:\", mean_absolute_error(y_test_actual, y_pred))\n",
    "print(\"R² Score:\", r2_score(y_test_actual, y_pred))"
   ]
  },
  {
   "cell_type": "code",
   "execution_count": 17,
   "metadata": {},
   "outputs": [
    {
     "data": {
      "image/png": "[encoded data removed]",
      "text/plain": [
       "<Figure size 1000x600 with 1 Axes>"
      ]
     },
     "metadata": {},
     "output_type": "display_data"
    }
   ],
   "source": [
    "\n",
    "# Visualization\n",
    "plt.figure(figsize=(10,6))\n",
    "plt.plot(y_test_actual, label='Actual Price')\n",
    "plt.plot(y_pred, label='Predicted Price')\n",
    "plt.legend()\n",
    "plt.title('Stock Price Prediction')\n",
    "plt.savefig(\"nica_acutal_predicted.png\")\n",
    "plt.show()\n"
   ]
  },
  {
   "cell_type": "code",
   "execution_count": null,
   "metadata": {},
   "outputs": [],
   "source": []
  },
  {
   "cell_type": "code",
   "execution_count": 18,
   "metadata": {},
   "outputs": [],
   "source": [
    "# model.save('Improved_condaVenvfinal.keras')"
   ]
  },
  {
   "cell_type": "code",
   "execution_count": null,
   "metadata": {},
   "outputs": [],
   "source": []
  }
 ],
 "metadata": {
  "kernelspec": {
   "display_name": "tfEnv",
   "language": "python",
   "name": "python3"
  },
  "language_info": {
   "codemirror_mode": {
    "name": "ipython",
    "version": 3
   },
   "file_extension": ".py",
   "mimetype": "text/x-python",
   "name": "python",
   "nbconvert_exporter": "python",
   "pygments_lexer": "ipython3",
   "version": "3.8.18"
  }
 },
 "nbformat": 4,
 "nbformat_minor": 2
}
